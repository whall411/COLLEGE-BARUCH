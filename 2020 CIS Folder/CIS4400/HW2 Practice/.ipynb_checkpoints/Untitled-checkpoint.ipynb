{
 "cells": [
  {
   "cell_type": "code",
   "execution_count": null,
   "metadata": {},
   "outputs": [],
   "source": [
    "\n"
   ]
  },
  {
   "cell_type": "code",
   "execution_count": 2,
   "metadata": {},
   "outputs": [],
   "source": [
    "import pymysql\n",
    "import pandas as pd\n",
    "import csv "
   ]
  },
  {
   "cell_type": "code",
   "execution_count": 4,
   "metadata": {},
   "outputs": [
    {
     "name": "stdout",
     "output_type": "stream",
     "text": [
      "       Job #  Doc #    Borough  House #       Street Name Job Type Job Status  \\\n",
      "0  110083524      2  MANHATTAN      152  WEST   57 STREET       A2          X   \n",
      "1  110083533      1  MANHATTAN      444  EAST   52 STREET       A2          X   \n",
      "2  110083542      1  MANHATTAN        2      WARDS ISLAND       A1          J   \n",
      "3  110083542      2  MANHATTAN        2      WARDS ISLAND       A1          J   \n",
      "4  110083542      3  MANHATTAN        2      WARDS ISLAND       A1          D   \n",
      "5  102611247      1  MANHATTAN      455    MADISON AVENUE       A2          R   \n",
      "6  102611283      1  MANHATTAN      255  WEST   36 STREET       A2          Q   \n",
      "7  103027680      1  MANHATTAN       31  WEST   19 STREET       A2          X   \n",
      "8  110083659      1  MANHATTAN      114  WEST   70 STREET       A2          R   \n",
      "\n",
      "                 Job Status Descrp Latest Action Date  \n",
      "0                       SIGNED OFF           4/8/2009  \n",
      "1                       SIGNED OFF           6/4/2009  \n",
      "2          PLAN EXAM - DISAPPROVED          2/14/2008  \n",
      "3          PLAN EXAM - DISAPPROVED          2/14/2008  \n",
      "4   APPLICATION PROCESSED - ENTIRE          2/15/2008  \n",
      "5  PERMIT ISSUED - ENTIRE JOB/WORK         10/17/2000  \n",
      "6      PERMIT ISSUED - PARTIAL JOB           6/7/2000  \n",
      "7                       SIGNED OFF          5/29/2013  \n",
      "8  PERMIT ISSUED - ENTIRE JOB/WORK           4/9/2008  \n"
     ]
    }
   ],
   "source": [
    "data = pd.read_csv('Practice.csv')\n",
    "df = pd.DataFrame(data, columns=['Job #','Doc #','Borough','House #','Street Name', 'Job Type','Job Status', 'Job Status Descrp','Latest Action Date']) \n",
    "print(df)"
   ]
  },
  {
   "cell_type": "code",
   "execution_count": 11,
   "metadata": {},
   "outputs": [
    {
     "data": {
      "text/plain": [
       "Job_num                int64\n",
       "Doc_num                int64\n",
       "Borough               object\n",
       "House_num              int64\n",
       "Street_Name           object\n",
       "Job_Type              object\n",
       "Job_Status            object\n",
       "Job_Status_Descrp     object\n",
       "Latest_Action_Date    object\n",
       "dtype: object"
      ]
     },
     "execution_count": 11,
     "metadata": {},
     "output_type": "execute_result"
    }
   ],
   "source": [
    "df.dtypes"
   ]
  },
  {
   "cell_type": "code",
   "execution_count": 7,
   "metadata": {},
   "outputs": [
    {
     "ename": "SyntaxError",
     "evalue": "invalid syntax (<ipython-input-7-2752630a79a8>, line 3)",
     "output_type": "error",
     "traceback": [
      "\u001b[1;36m  File \u001b[1;32m\"<ipython-input-7-2752630a79a8>\"\u001b[1;36m, line \u001b[1;32m3\u001b[0m\n\u001b[1;33m    cursor.execute('''''''''\u001b[0m\n\u001b[1;37m         ^\u001b[0m\n\u001b[1;31mSyntaxError\u001b[0m\u001b[1;31m:\u001b[0m invalid syntax\n"
     ]
    }
   ],
   "source": [
    "for row in df.itertuples():\n",
    "\tprint(type(row.Job #))\n",
    "\tcursor.execute('''''''''\n",
    "\t\t\t\tINSERT INTO hw2.dbo.practice(Job #,Doc # ,Borough,House #,Street Name, Job Type,Job_Status, Job Status Descrp,Latest Action Date)\n",
    "\t\t\t\tVALUES (?,?,?,?,?,?,?,?,?)\n",
    "\t\ta\t\t''''''''',\n",
    "\t\t\t\t\t(row.Job #,\n",
    "\t\t\t\t\t#change\n",
    "\t\t\t\t\trow.Doc_num,\n",
    "\t\t\t\t\trow.Borough,\n",
    "\t\t\t\t\trow.House_num,\n",
    "\t\t\t\t\trow.Street_Name,\n",
    "\t\t\t\t\trow.Job_Type,\n",
    "\t\t\t\t\trow.Job_Status,\n",
    "\t\t\t\t\trow.Job_Status_Descrp,\n",
    "\t\t\t\t\trow.Latest_Action_Date\n",
    "\t\t\t\t\t))\n"
   ]
  },
  {
   "cell_type": "code",
   "execution_count": null,
   "metadata": {},
   "outputs": [],
   "source": []
  }
 ],
 "metadata": {
  "kernelspec": {
   "display_name": "Python 3",
   "language": "python",
   "name": "python3"
  },
  "language_info": {
   "codemirror_mode": {
    "name": "ipython",
    "version": 3
   },
   "file_extension": ".py",
   "mimetype": "text/x-python",
   "name": "python",
   "nbconvert_exporter": "python",
   "pygments_lexer": "ipython3",
   "version": "3.7.4"
  }
 },
 "nbformat": 4,
 "nbformat_minor": 2
}
