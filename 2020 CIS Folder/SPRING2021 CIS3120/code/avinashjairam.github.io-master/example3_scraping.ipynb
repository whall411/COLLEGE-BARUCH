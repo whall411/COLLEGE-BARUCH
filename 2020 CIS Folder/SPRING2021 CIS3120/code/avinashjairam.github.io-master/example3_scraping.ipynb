{
  "nbformat": 4,
  "nbformat_minor": 0,
  "metadata": {
    "colab": {
      "name": "example3_scraping.ipynb",
      "provenance": [],
      "authorship_tag": "ABX9TyNV2QMWY9jsqwNtnIvki2eq",
      "include_colab_link": true
    },
    "kernelspec": {
      "name": "python3",
      "display_name": "Python 3"
    }
  },
  "cells": [
    {
      "cell_type": "markdown",
      "metadata": {
        "id": "view-in-github",
        "colab_type": "text"
      },
      "source": [
        "<a href=\"https://colab.research.google.com/github/avinashjairam/avinashjairam.github.io/blob/master/example3_scraping.ipynb\" target=\"_parent\"><img src=\"https://colab.research.google.com/assets/colab-badge.svg\" alt=\"Open In Colab\"/></a>"
      ]
    },
    {
      "cell_type": "code",
      "metadata": {
        "id": "0FicnkvUnDb1",
        "colab_type": "code",
        "colab": {}
      },
      "source": [
        "#Searching for elements by id\n",
        "import requests\n",
        "from bs4 import BeautifulSoup\n",
        "\n",
        "#defining the URL and making a GET request\n",
        "URL = 'https://avinashjairam.github.io/syllabus.html'\n",
        "#storing the content returned from the server in an object called page\n",
        "page = requests.get(URL)"
      ],
      "execution_count": 4,
      "outputs": []
    },
    {
      "cell_type": "code",
      "metadata": {
        "id": "9pSB8kP1nrh2",
        "colab_type": "code",
        "colab": {
          "base_uri": "https://localhost:8080/",
          "height": 867
        },
        "outputId": "9c27bc9f-4457-415f-cbca-2319a87bc9ce"
      },
      "source": [
        "#importing the HTML returned from the server into beautiful soup\n",
        "soup = BeautifulSoup(page.content, 'html.parser')\n",
        "print(soup.prettify())"
      ],
      "execution_count": 5,
      "outputs": [
        {
          "output_type": "stream",
          "text": [
            "<!DOCTYPE html>\n",
            "<html>\n",
            " <head>\n",
            "  <title>\n",
            "   CIS 3120 SYLLABUS&gt;\n",
            "  </title>\n",
            " </head>\n",
            " <body>\n",
            "  <h4>\n",
            "   Instructor:\n",
            "  </h4>\n",
            "  <p id=\"instructor\">\n",
            "   Mr. Avinash Jairam\n",
            "  </p>\n",
            "  <h4>\n",
            "   Class Time:\n",
            "  </h4>\n",
            "  <p id=\"time\">\n",
            "   Saturday: 11:10AM - 2:05PM - ONLINE via BlackBoard Collaborate\n",
            "  </p>\n",
            "  <h4>\n",
            "   Office hours:\n",
            "  </h4>\n",
            "  <p id=\"office_hours\">\n",
            "   Saturday: 10:00AM - 11:00AM\n",
            "  </p>\n",
            "  <h4>\n",
            "   Email:\n",
            "  </h4>\n",
            "  <p id=\"email\">\n",
            "   avinash.jairam@baruch.cuny.edu\n",
            "  </p>\n",
            "  <h4>\n",
            "   Course Website :\n",
            "  </h4>\n",
            "  <p id=\"website\">\n",
            "   Blackboard\n",
            "  </p>\n",
            "  <h4>\n",
            "   Course Description:\n",
            "  </h4>\n",
            "  <p id=\"description\">\n",
            "   This course introduces the aspects of programming that can\n",
            "\tsupport business analytics. The course covers hands-on issues in programming for\n",
            "\tanalytics which include accessing data, \n",
            "\tcreating informative data graphics, writing functions, \n",
            "\tdebugging, and organizing and commenting code.\n",
            "  </p>\n",
            " </body>\n",
            "</html>\n"
          ],
          "name": "stdout"
        }
      ]
    },
    {
      "cell_type": "code",
      "metadata": {
        "id": "fErunDGentxN",
        "colab_type": "code",
        "colab": {}
      },
      "source": [
        "#finding the paragraph tag with an id of \"email\"\n",
        "#you can change the tag 'p' and id to scrape different information on the page\n",
        "#try scraping the class time, description, etc.!\n",
        "emailList = soup.find_all('p', id=\"email\")  #this line returns a list of the paragraph tag with the id \"email\"\n"
      ],
      "execution_count": 6,
      "outputs": []
    },
    {
      "cell_type": "code",
      "metadata": {
        "id": "JUGd99r3fFMu",
        "colab_type": "code",
        "colab": {
          "base_uri": "https://localhost:8080/",
          "height": 34
        },
        "outputId": "1ec2fc8b-97ad-4909-ec71-3dd98bd883b3"
      },
      "source": [
        "print(emailList) #displaying the contents of the emailList"
      ],
      "execution_count": 7,
      "outputs": [
        {
          "output_type": "stream",
          "text": [
            "[<p id=\"email\"> avinash.jairam@baruch.cuny.edu </p>]\n"
          ],
          "name": "stdout"
        }
      ]
    },
    {
      "cell_type": "code",
      "metadata": {
        "id": "7XRDKTdnn8sf",
        "colab_type": "code",
        "colab": {}
      },
      "source": [
        "#Assigning the only value in the list to a variable. \n",
        "#The get_text() method is used to extract text from an HTML TAG\n",
        "email = emailList[0].get_text() "
      ],
      "execution_count": null,
      "outputs": []
    },
    {
      "cell_type": "code",
      "metadata": {
        "id": "QoIFy4xnoBA8",
        "colab_type": "code",
        "colab": {
          "base_uri": "https://localhost:8080/",
          "height": 34
        },
        "outputId": "d4bc8a2a-a3eb-4513-ba6a-dfd43460dc61"
      },
      "source": [
        "print(email)"
      ],
      "execution_count": null,
      "outputs": [
        {
          "output_type": "stream",
          "text": [
            " avinash.jairam@baruch.cuny.edu \n"
          ],
          "name": "stdout"
        }
      ]
    },
    {
      "cell_type": "code",
      "metadata": {
        "id": "I1bGxiluouxP",
        "colab_type": "code",
        "colab": {}
      },
      "source": [
        "#Exporting all items in the email list to a text file\n",
        "#In this case, only one item is in the file\n",
        "with open(\"mailingList.txt\", 'w') as out_file:\n",
        "     for x in emailList:\n",
        "        out_file.write(x.get_text())"
      ],
      "execution_count": null,
      "outputs": []
    }
  ]
}
