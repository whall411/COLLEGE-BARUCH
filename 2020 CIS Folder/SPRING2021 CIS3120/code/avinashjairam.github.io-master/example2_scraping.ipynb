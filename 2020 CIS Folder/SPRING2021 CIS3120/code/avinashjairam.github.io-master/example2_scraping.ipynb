{
  "nbformat": 4,
  "nbformat_minor": 0,
  "metadata": {
    "colab": {
      "name": "example2_scraping.ipynb",
      "provenance": [],
      "authorship_tag": "ABX9TyP3BUPkQxeVIqtZ9xLFIFOr",
      "include_colab_link": true
    },
    "kernelspec": {
      "name": "python3",
      "display_name": "Python 3"
    }
  },
  "cells": [
    {
      "cell_type": "markdown",
      "metadata": {
        "id": "view-in-github",
        "colab_type": "text"
      },
      "source": [
        "<a href=\"https://colab.research.google.com/github/avinashjairam/avinashjairam.github.io/blob/master/example2_scraping.ipynb\" target=\"_parent\"><img src=\"https://colab.research.google.com/assets/colab-badge.svg\" alt=\"Open In Colab\"/></a>"
      ]
    },
    {
      "cell_type": "code",
      "metadata": {
        "id": "gd6rLOq6erOV",
        "colab_type": "code",
        "colab": {}
      },
      "source": [
        "#locating all occurrences of a tag \n",
        "import requests\n",
        "from bs4 import BeautifulSoup\n",
        "\n",
        "URL = 'https://avinashjairam.github.io/example2.html'\n",
        "page = requests.get(URL)"
      ],
      "execution_count": 1,
      "outputs": []
    },
    {
      "cell_type": "code",
      "metadata": {
        "id": "IOVSqXowe2Uw",
        "colab_type": "code",
        "colab": {}
      },
      "source": [
        "soup = BeautifulSoup(page.content, 'html.parser')\n"
      ],
      "execution_count": 2,
      "outputs": []
    },
    {
      "cell_type": "code",
      "metadata": {
        "id": "Ysy5C58Te6O2",
        "colab_type": "code",
        "colab": {}
      },
      "source": [
        "p = soup.find_all('p') #change p to h1 to scrape paragraphs! \n"
      ],
      "execution_count": 3,
      "outputs": []
    },
    {
      "cell_type": "code",
      "metadata": {
        "id": "8YQKKUEVfFSW",
        "colab_type": "code",
        "colab": {
          "base_uri": "https://localhost:8080/",
          "height": 68
        },
        "outputId": "6a81f615-5096-4f98-9d19-d29e6485a106"
      },
      "source": [
        "for text in p:\n",
        "  print(text.get_text())"
      ],
      "execution_count": 4,
      "outputs": [
        {
          "output_type": "stream",
          "text": [
            "The cat in the hat\n",
            "The cow jumped over the moon.\n",
            "Mary had a little lamb\n"
          ],
          "name": "stdout"
        }
      ]
    }
  ]
}
