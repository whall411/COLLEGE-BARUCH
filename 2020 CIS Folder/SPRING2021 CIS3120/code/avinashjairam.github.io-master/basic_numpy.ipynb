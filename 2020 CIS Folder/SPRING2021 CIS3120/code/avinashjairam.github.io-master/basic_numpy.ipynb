{
  "nbformat": 4,
  "nbformat_minor": 0,
  "metadata": {
    "colab": {
      "name": "basic numpy.ipynb",
      "provenance": [],
      "authorship_tag": "ABX9TyPY27mxQuXUtHgnG5wpfqGy",
      "include_colab_link": true
    },
    "kernelspec": {
      "name": "python3",
      "display_name": "Python 3"
    }
  },
  "cells": [
    {
      "cell_type": "markdown",
      "metadata": {
        "id": "view-in-github",
        "colab_type": "text"
      },
      "source": [
        "<a href=\"https://colab.research.google.com/github/avinashjairam/avinashjairam.github.io/blob/master/basic_numpy.ipynb\" target=\"_parent\"><img src=\"https://colab.research.google.com/assets/colab-badge.svg\" alt=\"Open In Colab\"/></a>"
      ]
    },
    {
      "cell_type": "code",
      "metadata": {
        "id": "b0_d32WnlpMN"
      },
      "source": [
        "#Basic Numpy Operations\n",
        "import  numpy as np"
      ],
      "execution_count": null,
      "outputs": []
    },
    {
      "cell_type": "code",
      "metadata": {
        "id": "ux7yqml5lw6-",
        "outputId": "827b4776-8ab0-4284-9785-48fc63b487ad",
        "colab": {
          "base_uri": "https://localhost:8080/",
          "height": 68
        }
      },
      "source": [
        "#Creating a 3 x 3 numpy array\n",
        "arr1 = np.array([[2,3,5],[5,0,8], [8,9,3]])\n",
        "\n",
        "print(arr1)"
      ],
      "execution_count": null,
      "outputs": [
        {
          "output_type": "stream",
          "text": [
            "[[2 3 5]\n",
            " [5 0 8]\n",
            " [8 9 3]]\n"
          ],
          "name": "stdout"
        }
      ]
    },
    {
      "cell_type": "code",
      "metadata": {
        "id": "TFZY0vZAmadp",
        "outputId": "1e08bc51-dea7-437c-b0fb-68321295d71a",
        "colab": {
          "base_uri": "https://localhost:8080/",
          "height": 68
        }
      },
      "source": [
        "#Creating a 3 x 3 numpy array\n",
        "arr2 = np.array([[1 , 2, 3], [4, 5, 6], [7, 8, 9]])\n",
        "print(arr2)"
      ],
      "execution_count": null,
      "outputs": [
        {
          "output_type": "stream",
          "text": [
            "[[1 2 3]\n",
            " [4 5 6]\n",
            " [7 8 9]]\n"
          ],
          "name": "stdout"
        }
      ]
    },
    {
      "cell_type": "code",
      "metadata": {
        "id": "easYGeEvmkW6",
        "outputId": "65b20da5-aca1-4191-e79e-99fac7845e2b",
        "colab": {
          "base_uri": "https://localhost:8080/",
          "height": 102
        }
      },
      "source": [
        "#Creating a 5 x 5 array of zeros\n",
        "arr3 = np.zeros([5, 5], dtype = int)\n",
        "print(arr3)"
      ],
      "execution_count": null,
      "outputs": [
        {
          "output_type": "stream",
          "text": [
            "[[0 0 0 0 0]\n",
            " [0 0 0 0 0]\n",
            " [0 0 0 0 0]\n",
            " [0 0 0 0 0]\n",
            " [0 0 0 0 0]]\n"
          ],
          "name": "stdout"
        }
      ]
    },
    {
      "cell_type": "code",
      "metadata": {
        "id": "gxX5dZ3Am-j1",
        "outputId": "2af49e22-9f1a-4654-df04-989983584519",
        "colab": {
          "base_uri": "https://localhost:8080/",
          "height": 102
        }
      },
      "source": [
        "#Creating a 5 x 5 array of zeros\n",
        "arr4 = np.ones([5, 5], dtype = int)\n",
        "\n",
        "print(arr4)"
      ],
      "execution_count": null,
      "outputs": [
        {
          "output_type": "stream",
          "text": [
            "[[1 1 1 1 1]\n",
            " [1 1 1 1 1]\n",
            " [1 1 1 1 1]\n",
            " [1 1 1 1 1]\n",
            " [1 1 1 1 1]]\n"
          ],
          "name": "stdout"
        }
      ]
    },
    {
      "cell_type": "code",
      "metadata": {
        "id": "IiYWz6PQnL6P",
        "outputId": "a3611d13-7ed2-43c8-ed56-86b446ed01e4",
        "colab": {
          "base_uri": "https://localhost:8080/",
          "height": 187
        }
      },
      "source": [
        "#Creating a 10 x 10 array of random numbers in the range 0 - 10 not inclusive\n",
        "arr5 = np.random.randint(0,10, size = (10, 10))\n",
        "print(arr5)\n"
      ],
      "execution_count": null,
      "outputs": [
        {
          "output_type": "stream",
          "text": [
            "[[3 3 9 0 6 3 4 1 7 7]\n",
            " [3 8 4 8 2 0 7 3 3 1]\n",
            " [0 3 2 8 2 5 9 8 5 1]\n",
            " [0 7 0 3 4 7 6 6 4 6]\n",
            " [9 0 7 0 0 1 9 7 4 4]\n",
            " [0 6 7 5 3 7 3 1 8 7]\n",
            " [9 5 9 0 4 0 3 2 7 3]\n",
            " [5 2 1 6 3 9 3 2 1 5]\n",
            " [1 8 1 4 2 0 3 3 7 6]\n",
            " [6 0 4 2 8 0 4 4 2 5]]\n"
          ],
          "name": "stdout"
        }
      ]
    },
    {
      "cell_type": "code",
      "metadata": {
        "id": "pfvwYi7zngCS",
        "outputId": "3667d2d1-ca29-449c-c1bd-1c8f4866c9df",
        "colab": {
          "base_uri": "https://localhost:8080/",
          "height": 51
        }
      },
      "source": [
        "#Creating a 2 x 2 array of random numbers in the range 0 - 5 not inclusive\n",
        "arr6 = np.random.randint(0,5, size = (2, 2))\n",
        "print(arr6)"
      ],
      "execution_count": null,
      "outputs": [
        {
          "output_type": "stream",
          "text": [
            "[[2 2]\n",
            " [4 1]]\n"
          ],
          "name": "stdout"
        }
      ]
    },
    {
      "cell_type": "code",
      "metadata": {
        "id": "vAGlsZEEn_nE",
        "outputId": "9669c364-cc9f-4ba6-bbac-5098e2bcb5ec",
        "colab": {
          "base_uri": "https://localhost:8080/",
          "height": 34
        }
      },
      "source": [
        "#Finding the sum of values in arr6\n",
        "np.sum(arr6)"
      ],
      "execution_count": null,
      "outputs": [
        {
          "output_type": "execute_result",
          "data": {
            "text/plain": [
              "9"
            ]
          },
          "metadata": {
            "tags": []
          },
          "execution_count": 15
        }
      ]
    },
    {
      "cell_type": "code",
      "metadata": {
        "id": "3joKvkB-oFKV",
        "outputId": "4a5e5c44-dd20-416f-a59a-b2ea46e3a97f",
        "colab": {
          "base_uri": "https://localhost:8080/",
          "height": 187
        }
      },
      "source": [
        "#Multiplying two arrays\n",
        "np.multiply(arr5, arr5)"
      ],
      "execution_count": null,
      "outputs": [
        {
          "output_type": "execute_result",
          "data": {
            "text/plain": [
              "array([[ 9,  9, 81,  0, 36,  9, 16,  1, 49, 49],\n",
              "       [ 9, 64, 16, 64,  4,  0, 49,  9,  9,  1],\n",
              "       [ 0,  9,  4, 64,  4, 25, 81, 64, 25,  1],\n",
              "       [ 0, 49,  0,  9, 16, 49, 36, 36, 16, 36],\n",
              "       [81,  0, 49,  0,  0,  1, 81, 49, 16, 16],\n",
              "       [ 0, 36, 49, 25,  9, 49,  9,  1, 64, 49],\n",
              "       [81, 25, 81,  0, 16,  0,  9,  4, 49,  9],\n",
              "       [25,  4,  1, 36,  9, 81,  9,  4,  1, 25],\n",
              "       [ 1, 64,  1, 16,  4,  0,  9,  9, 49, 36],\n",
              "       [36,  0, 16,  4, 64,  0, 16, 16,  4, 25]])"
            ]
          },
          "metadata": {
            "tags": []
          },
          "execution_count": 17
        }
      ]
    }
  ]
}