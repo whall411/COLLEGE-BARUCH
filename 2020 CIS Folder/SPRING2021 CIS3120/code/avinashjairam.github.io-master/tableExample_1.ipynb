{
  "nbformat": 4,
  "nbformat_minor": 0,
  "metadata": {
    "colab": {
      "name": "tableExample #1.ipynb",
      "provenance": [],
      "authorship_tag": "ABX9TyMgmN8NEUfZFqdYiLXhDxn4",
      "include_colab_link": true
    },
    "kernelspec": {
      "name": "python3",
      "display_name": "Python 3"
    }
  },
  "cells": [
    {
      "cell_type": "markdown",
      "metadata": {
        "id": "view-in-github",
        "colab_type": "text"
      },
      "source": [
        "<a href=\"https://colab.research.google.com/github/avinashjairam/avinashjairam.github.io/blob/master/tableExample_1.ipynb\" target=\"_parent\"><img src=\"https://colab.research.google.com/assets/colab-badge.svg\" alt=\"Open In Colab\"/></a>"
      ]
    },
    {
      "cell_type": "code",
      "metadata": {
        "id": "KEjEYCMlBXAP"
      },
      "source": [
        "import requests\n",
        "from bs4 import BeautifulSoup"
      ],
      "execution_count": null,
      "outputs": []
    },
    {
      "cell_type": "code",
      "metadata": {
        "id": "bNtuwIp7Bjq4"
      },
      "source": [
        "url = \"https://avinashjairam.github.io/tableExample1.html\"\n",
        "\n",
        "page = requests.get(url)\n",
        "soup = BeautifulSoup(page.content, \"html.parser\")"
      ],
      "execution_count": null,
      "outputs": []
    },
    {
      "cell_type": "code",
      "metadata": {
        "id": "3WjwNl5GB5Tc",
        "outputId": "8dca36b3-2b0e-4f35-a4b3-cbda2089b1f7",
        "colab": {
          "base_uri": "https://localhost:8080/",
          "height": 1000
        }
      },
      "source": [
        "print(soup.prettify())"
      ],
      "execution_count": null,
      "outputs": [
        {
          "output_type": "stream",
          "text": [
            "<html>\n",
            " <head>\n",
            "  <title>\n",
            "   Table Scraping: Ex. #1\n",
            "  </title>\n",
            "  <style>\n",
            "   table, th, td {\n",
            "  border: 1px solid black;\n",
            "  border-collapse: collapse;\n",
            "}\n",
            "th, td {\n",
            "  padding: 5px;\n",
            "  text-align: left;\n",
            "}\n",
            "  </style>\n",
            " </head>\n",
            " <body>\n",
            "  <h2>\n",
            "   Monthly Savings\n",
            "  </h2>\n",
            "  <p>\n",
            "   Let's Track Our Savings\n",
            "  </p>\n",
            "  <table>\n",
            "   <caption>\n",
            "    Monthly Savings\n",
            "   </caption>\n",
            "   <tr>\n",
            "    <th>\n",
            "     Month\n",
            "    </th>\n",
            "    <th>\n",
            "     Savings\n",
            "    </th>\n",
            "   </tr>\n",
            "   <tr>\n",
            "    <td>\n",
            "     January\n",
            "    </td>\n",
            "    <td>\n",
            "     $100\n",
            "    </td>\n",
            "   </tr>\n",
            "   <tr>\n",
            "    <td>\n",
            "     February\n",
            "    </td>\n",
            "    <td>\n",
            "     $50\n",
            "    </td>\n",
            "   </tr>\n",
            "   <tr>\n",
            "    <td>\n",
            "     March\n",
            "    </td>\n",
            "    <td>\n",
            "     $340\n",
            "    </td>\n",
            "   </tr>\n",
            "   <tr>\n",
            "    <td>\n",
            "     April\n",
            "    </td>\n",
            "    <td>\n",
            "     $50\n",
            "    </td>\n",
            "   </tr>\n",
            "   <tr>\n",
            "    <td>\n",
            "     May\n",
            "    </td>\n",
            "    <td>\n",
            "     $10\n",
            "    </td>\n",
            "   </tr>\n",
            "   <tr>\n",
            "    <td>\n",
            "     June\n",
            "    </td>\n",
            "    <td>\n",
            "     $5\n",
            "    </td>\n",
            "   </tr>\n",
            "   <tr>\n",
            "    <td>\n",
            "     July\n",
            "    </td>\n",
            "    <td>\n",
            "     $210\n",
            "    </td>\n",
            "   </tr>\n",
            "   <tr>\n",
            "    <td>\n",
            "     August\n",
            "    </td>\n",
            "    <td>\n",
            "     $54\n",
            "    </td>\n",
            "   </tr>\n",
            "   <tr>\n",
            "    <td>\n",
            "     September\n",
            "    </td>\n",
            "    <td>\n",
            "     $20\n",
            "    </td>\n",
            "   </tr>\n",
            "   <tr>\n",
            "    <td>\n",
            "     October\n",
            "    </td>\n",
            "    <td>\n",
            "     $0\n",
            "    </td>\n",
            "   </tr>\n",
            "   <tr>\n",
            "    <td>\n",
            "     November\n",
            "    </td>\n",
            "    <td>\n",
            "     $400\n",
            "    </td>\n",
            "   </tr>\n",
            "   <tr>\n",
            "    <td>\n",
            "     December\n",
            "    </td>\n",
            "    <td>\n",
            "     $2\n",
            "    </td>\n",
            "   </tr>\n",
            "  </table>\n",
            " </body>\n",
            "</html>\n"
          ],
          "name": "stdout"
        }
      ]
    },
    {
      "cell_type": "code",
      "metadata": {
        "id": "j7aJ31PBB6nX"
      },
      "source": [
        "table = soup.find('table')\n"
      ],
      "execution_count": null,
      "outputs": []
    },
    {
      "cell_type": "code",
      "metadata": {
        "id": "LUY2HzAVCuEh",
        "outputId": "c16d2082-5901-45f9-e3e4-2f89151eae77",
        "colab": {
          "base_uri": "https://localhost:8080/",
          "height": 952
        }
      },
      "source": [
        "print(table)"
      ],
      "execution_count": null,
      "outputs": [
        {
          "output_type": "stream",
          "text": [
            "<table>\n",
            "<caption>Monthly Savings</caption>\n",
            "<tr>\n",
            "<th>Month</th>\n",
            "<th>Savings</th>\n",
            "</tr>\n",
            "<tr>\n",
            "<td>January</td>\n",
            "<td>$100</td>\n",
            "</tr>\n",
            "<tr>\n",
            "<td>February</td>\n",
            "<td>$50</td>\n",
            "</tr>\n",
            "<tr>\n",
            "<td>March</td>\n",
            "<td>$340</td>\n",
            "</tr>\n",
            "<tr>\n",
            "<td>April</td>\n",
            "<td>$50</td>\n",
            "</tr>\n",
            "<tr>\n",
            "<td>May</td>\n",
            "<td>$10</td>\n",
            "</tr>\n",
            "<tr>\n",
            "<td>June</td>\n",
            "<td>$5</td>\n",
            "</tr>\n",
            "<tr>\n",
            "<td>July</td>\n",
            "<td>$210</td>\n",
            "</tr>\n",
            "<tr>\n",
            "<td>August</td>\n",
            "<td>$54</td>\n",
            "</tr>\n",
            "<tr>\n",
            "<td>September</td>\n",
            "<td>$20</td>\n",
            "</tr>\n",
            "<tr>\n",
            "<td>October</td>\n",
            "<td>$0</td>\n",
            "</tr>\n",
            "<tr>\n",
            "<td>November</td>\n",
            "<td>$400</td>\n",
            "</tr>\n",
            "<tr>\n",
            "<td>December</td>\n",
            "<td>$2</td>\n",
            "</tr>\n",
            "</table>\n"
          ],
          "name": "stdout"
        }
      ]
    },
    {
      "cell_type": "code",
      "metadata": {
        "id": "v8gAHgrpERhh",
        "outputId": "f62ead9e-f0ad-432a-bad9-2a9d89ea5276",
        "colab": {
          "base_uri": "https://localhost:8080/",
          "height": 697
        }
      },
      "source": [
        "print(table.findAll('tr'))"
      ],
      "execution_count": null,
      "outputs": [
        {
          "output_type": "stream",
          "text": [
            "[<tr>\n",
            "<th>Month</th>\n",
            "<th>Savings</th>\n",
            "</tr>, <tr>\n",
            "<td>January</td>\n",
            "<td>$100</td>\n",
            "</tr>, <tr>\n",
            "<td>February</td>\n",
            "<td>$50</td>\n",
            "</tr>, <tr>\n",
            "<td>March</td>\n",
            "<td>$340</td>\n",
            "</tr>, <tr>\n",
            "<td>April</td>\n",
            "<td>$50</td>\n",
            "</tr>, <tr>\n",
            "<td>May</td>\n",
            "<td>$10</td>\n",
            "</tr>, <tr>\n",
            "<td>June</td>\n",
            "<td>$5</td>\n",
            "</tr>, <tr>\n",
            "<td>July</td>\n",
            "<td>$210</td>\n",
            "</tr>, <tr>\n",
            "<td>August</td>\n",
            "<td>$54</td>\n",
            "</tr>, <tr>\n",
            "<td>September</td>\n",
            "<td>$20</td>\n",
            "</tr>, <tr>\n",
            "<td>October</td>\n",
            "<td>$0</td>\n",
            "</tr>, <tr>\n",
            "<td>November</td>\n",
            "<td>$400</td>\n",
            "</tr>, <tr>\n",
            "<td>December</td>\n",
            "<td>$2</td>\n",
            "</tr>]\n"
          ],
          "name": "stdout"
        }
      ]
    },
    {
      "cell_type": "code",
      "metadata": {
        "id": "yGxg21D3E1k4"
      },
      "source": [
        "month = []\n",
        "savings = []\n",
        "rows = table.findAll('tr')\n",
        "\n",
        "for row in rows:\n",
        "  cells = row.findAll('td')\n",
        "  if(len(cells) == 2):\n",
        "    month.append(cells[0].find(text=True))\n",
        "    savings.append(cells[1].find(text=True))\n",
        " \n"
      ],
      "execution_count": null,
      "outputs": []
    },
    {
      "cell_type": "code",
      "metadata": {
        "id": "FXRY7CQsHuRx"
      },
      "source": [
        "import pandas as pd\n",
        "\n",
        "#creating a dataframe\n",
        "df = pd.DataFrame()\n",
        "df['month'] = month\n",
        "df['savings'] = savings\n",
        "\n",
        "df.to_csv(\"savings.csv\")"
      ],
      "execution_count": null,
      "outputs": []
    },
    {
      "cell_type": "code",
      "metadata": {
        "id": "1lxlRQYMDTUA",
        "outputId": "cf031f14-ee38-4fb7-818c-4e68fe8aadb9",
        "colab": {
          "base_uri": "https://localhost:8080/",
          "height": 421
        }
      },
      "source": [
        "df"
      ],
      "execution_count": null,
      "outputs": [
        {
          "output_type": "execute_result",
          "data": {
            "text/html": [
              "<div>\n",
              "<style scoped>\n",
              "    .dataframe tbody tr th:only-of-type {\n",
              "        vertical-align: middle;\n",
              "    }\n",
              "\n",
              "    .dataframe tbody tr th {\n",
              "        vertical-align: top;\n",
              "    }\n",
              "\n",
              "    .dataframe thead th {\n",
              "        text-align: right;\n",
              "    }\n",
              "</style>\n",
              "<table border=\"1\" class=\"dataframe\">\n",
              "  <thead>\n",
              "    <tr style=\"text-align: right;\">\n",
              "      <th></th>\n",
              "      <th>month</th>\n",
              "      <th>savings</th>\n",
              "    </tr>\n",
              "  </thead>\n",
              "  <tbody>\n",
              "    <tr>\n",
              "      <th>0</th>\n",
              "      <td>January</td>\n",
              "      <td>$100</td>\n",
              "    </tr>\n",
              "    <tr>\n",
              "      <th>1</th>\n",
              "      <td>February</td>\n",
              "      <td>$50</td>\n",
              "    </tr>\n",
              "    <tr>\n",
              "      <th>2</th>\n",
              "      <td>March</td>\n",
              "      <td>$340</td>\n",
              "    </tr>\n",
              "    <tr>\n",
              "      <th>3</th>\n",
              "      <td>April</td>\n",
              "      <td>$50</td>\n",
              "    </tr>\n",
              "    <tr>\n",
              "      <th>4</th>\n",
              "      <td>May</td>\n",
              "      <td>$10</td>\n",
              "    </tr>\n",
              "    <tr>\n",
              "      <th>5</th>\n",
              "      <td>June</td>\n",
              "      <td>$5</td>\n",
              "    </tr>\n",
              "    <tr>\n",
              "      <th>6</th>\n",
              "      <td>July</td>\n",
              "      <td>$210</td>\n",
              "    </tr>\n",
              "    <tr>\n",
              "      <th>7</th>\n",
              "      <td>August</td>\n",
              "      <td>$54</td>\n",
              "    </tr>\n",
              "    <tr>\n",
              "      <th>8</th>\n",
              "      <td>September</td>\n",
              "      <td>$20</td>\n",
              "    </tr>\n",
              "    <tr>\n",
              "      <th>9</th>\n",
              "      <td>October</td>\n",
              "      <td>$0</td>\n",
              "    </tr>\n",
              "    <tr>\n",
              "      <th>10</th>\n",
              "      <td>November</td>\n",
              "      <td>$400</td>\n",
              "    </tr>\n",
              "    <tr>\n",
              "      <th>11</th>\n",
              "      <td>December</td>\n",
              "      <td>$2</td>\n",
              "    </tr>\n",
              "  </tbody>\n",
              "</table>\n",
              "</div>"
            ],
            "text/plain": [
              "        month savings\n",
              "0     January    $100\n",
              "1    February     $50\n",
              "2       March    $340\n",
              "3       April     $50\n",
              "4         May     $10\n",
              "5        June      $5\n",
              "6        July    $210\n",
              "7      August     $54\n",
              "8   September     $20\n",
              "9     October      $0\n",
              "10   November    $400\n",
              "11   December      $2"
            ]
          },
          "metadata": {
            "tags": []
          },
          "execution_count": 92
        }
      ]
    }
  ]
}