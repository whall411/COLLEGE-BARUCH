{
  "nbformat": 4,
  "nbformat_minor": 0,
  "metadata": {
    "colab": {
      "name": "example1_scraping.ipynb",
      "provenance": []
    },
    "kernelspec": {
      "name": "python3",
      "display_name": "Python 3"
    }
  },
  "cells": [
    {
      "cell_type": "code",
      "metadata": {
        "id": "jxlbjqa9YshK",
        "colab_type": "code",
        "colab": {}
      },
      "source": [
        "import requests\n",
        "from bs4 import BeautifulSoup"
      ],
      "execution_count": null,
      "outputs": []
    },
    {
      "cell_type": "code",
      "metadata": {
        "id": "BB2JyVI8ZF1E",
        "colab_type": "code",
        "colab": {}
      },
      "source": [
        "URL = 'https://avinashjairam.github.io/example1.html'\n",
        "page = requests.get(URL)\n"
      ],
      "execution_count": null,
      "outputs": []
    },
    {
      "cell_type": "code",
      "metadata": {
        "id": "JtGTBM-vZWbO",
        "colab_type": "code",
        "colab": {
          "base_uri": "https://localhost:8080/",
          "height": 34
        },
        "outputId": "3879ff28-88b5-4d27-9215-c6b50ef995d3"
      },
      "source": [
        "print(page)"
      ],
      "execution_count": null,
      "outputs": [
        {
          "output_type": "stream",
          "text": [
            "<Response [200]>\n"
          ],
          "name": "stdout"
        }
      ]
    },
    {
      "cell_type": "code",
      "metadata": {
        "id": "xpmIKX7Ca0vq",
        "colab_type": "code",
        "colab": {
          "base_uri": "https://localhost:8080/",
          "height": 54
        },
        "outputId": "c92bda24-e304-4d9b-89ec-9d2a5dbc124e"
      },
      "source": [
        "print(page.content)"
      ],
      "execution_count": null,
      "outputs": [
        {
          "output_type": "stream",
          "text": [
            "b'<!DOCTYPE html>\\n<html>\\n\\t<head>\\n   \\t\\t<title>Welcome to CIS 3120</title>\\n\\t</head>\\n\\n\\t<body>\\n\\t\\t<h1> Welcome to CIS 3120!</h1>\\n   \\t\\t<p>Here we learn programming for analytics!</p>\\n\\t</body>\\n</html>'\n"
          ],
          "name": "stdout"
        }
      ]
    },
    {
      "cell_type": "code",
      "metadata": {
        "id": "iL9_7PcyaQux",
        "colab_type": "code",
        "colab": {}
      },
      "source": [
        "soup = BeautifulSoup(page.content, 'html.parser')\n"
      ],
      "execution_count": null,
      "outputs": []
    },
    {
      "cell_type": "code",
      "metadata": {
        "id": "KUthJYsGapUj",
        "colab_type": "code",
        "colab": {
          "base_uri": "https://localhost:8080/",
          "height": 289
        },
        "outputId": "e51c7044-6948-424d-abef-fb0c4b9d397b"
      },
      "source": [
        "print(soup.prettify())\n"
      ],
      "execution_count": null,
      "outputs": [
        {
          "output_type": "stream",
          "text": [
            "<!DOCTYPE html>\n",
            "<html>\n",
            " <head>\n",
            "  <title>\n",
            "   Welcome to CIS 3120\n",
            "  </title>\n",
            " </head>\n",
            " <body>\n",
            "  <h1>\n",
            "   Welcome to CIS 3120!\n",
            "  </h1>\n",
            "  <p>\n",
            "   Here we learn programming for analytics!\n",
            "  </p>\n",
            " </body>\n",
            "</html>\n"
          ],
          "name": "stdout"
        }
      ]
    },
    {
      "cell_type": "code",
      "metadata": {
        "id": "lfskGTMUb0nj",
        "colab_type": "code",
        "colab": {
          "base_uri": "https://localhost:8080/",
          "height": 170
        },
        "outputId": "ca848130-6f17-40cb-a2e2-bfe1cbff8765"
      },
      "source": [
        "list(soup.children)"
      ],
      "execution_count": null,
      "outputs": [
        {
          "output_type": "execute_result",
          "data": {
            "text/plain": [
              "['html', '\\n', <html>\n",
              " <head>\n",
              " <title>Welcome to CIS 3120</title>\n",
              " </head>\n",
              " <body>\n",
              " <h1> Welcome to CIS 3120!</h1>\n",
              " <p>Here we learn programming for analytics!</p>\n",
              " </body>\n",
              " </html>]"
            ]
          },
          "metadata": {
            "tags": []
          },
          "execution_count": 16
        }
      ]
    },
    {
      "cell_type": "code",
      "metadata": {
        "id": "ThcBgqOfcJQo",
        "colab_type": "code",
        "colab": {
          "base_uri": "https://localhost:8080/",
          "height": 68
        },
        "outputId": "ce092516-376f-4519-8267-29e45a893607"
      },
      "source": [
        "for val in list(soup.children):\n",
        "  print(type(val))"
      ],
      "execution_count": null,
      "outputs": [
        {
          "output_type": "stream",
          "text": [
            "<class 'bs4.element.Doctype'>\n",
            "<class 'bs4.element.NavigableString'>\n",
            "<class 'bs4.element.Tag'>\n"
          ],
          "name": "stdout"
        }
      ]
    },
    {
      "cell_type": "code",
      "metadata": {
        "id": "tMlJqXTZcg-S",
        "colab_type": "code",
        "colab": {}
      },
      "source": [
        "html = list(soup.children)[2]"
      ],
      "execution_count": null,
      "outputs": []
    },
    {
      "cell_type": "code",
      "metadata": {
        "id": "NFFSh9DUcnnY",
        "colab_type": "code",
        "colab": {
          "base_uri": "https://localhost:8080/",
          "height": 170
        },
        "outputId": "3a6ed833-a6c6-49db-d8b2-a1965ba6a09d"
      },
      "source": [
        "print(html)"
      ],
      "execution_count": null,
      "outputs": [
        {
          "output_type": "stream",
          "text": [
            "<html>\n",
            "<head>\n",
            "<title>Welcome to CIS 3120</title>\n",
            "</head>\n",
            "<body>\n",
            "<h1> Welcome to CIS 3120!</h1>\n",
            "<p>Here we learn programming for analytics!</p>\n",
            "</body>\n",
            "</html>\n"
          ],
          "name": "stdout"
        }
      ]
    },
    {
      "cell_type": "code",
      "metadata": {
        "id": "MQF7jjDEcxdL",
        "colab_type": "code",
        "colab": {
          "base_uri": "https://localhost:8080/",
          "height": 119
        },
        "outputId": "1783a393-864a-4963-b9a8-d54fae683cbb"
      },
      "source": [
        "list(html.children)"
      ],
      "execution_count": null,
      "outputs": [
        {
          "output_type": "execute_result",
          "data": {
            "text/plain": [
              "['\\n', <head>\n",
              " <title>Welcome to CIS 3120</title>\n",
              " </head>, '\\n', <body>\n",
              " <h1> Welcome to CIS 3120!</h1>\n",
              " <p>Here we learn programming for analytics!</p>\n",
              " </body>, '\\n']"
            ]
          },
          "metadata": {
            "tags": []
          },
          "execution_count": 20
        }
      ]
    },
    {
      "cell_type": "code",
      "metadata": {
        "id": "pO_BmbEFc8BG",
        "colab_type": "code",
        "colab": {
          "base_uri": "https://localhost:8080/",
          "height": 85
        },
        "outputId": "68d8e6db-d12a-484c-8443-c4df75548b01"
      },
      "source": [
        "body = list(html.children)[3]\n",
        "print(body)"
      ],
      "execution_count": null,
      "outputs": [
        {
          "output_type": "stream",
          "text": [
            "<body>\n",
            "<h1> Welcome to CIS 3120!</h1>\n",
            "<p>Here we learn programming for analytics!</p>\n",
            "</body>\n"
          ],
          "name": "stdout"
        }
      ]
    },
    {
      "cell_type": "code",
      "metadata": {
        "id": "oJL9DgXBdKim",
        "colab_type": "code",
        "colab": {
          "base_uri": "https://localhost:8080/",
          "height": 34
        },
        "outputId": "f0049616-a9a5-40ae-b342-19354a0b3b99"
      },
      "source": [
        "p = list(body.children)[3]\n",
        "print(p.get_text())"
      ],
      "execution_count": null,
      "outputs": [
        {
          "output_type": "stream",
          "text": [
            "Here we learn programming for analytics!\n"
          ],
          "name": "stdout"
        }
      ]
    }
  ]
}