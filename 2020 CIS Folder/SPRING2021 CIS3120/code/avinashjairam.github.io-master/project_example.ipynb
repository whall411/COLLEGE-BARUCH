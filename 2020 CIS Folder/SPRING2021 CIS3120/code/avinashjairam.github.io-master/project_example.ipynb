{
  "nbformat": 4,
  "nbformat_minor": 0,
  "metadata": {
    "colab": {
      "name": "project_example.ipynb",
      "provenance": [],
      "authorship_tag": "ABX9TyPGtPFpXv7aAcIUWnBRqNy1",
      "include_colab_link": true
    },
    "kernelspec": {
      "name": "python3",
      "display_name": "Python 3"
    }
  },
  "cells": [
    {
      "cell_type": "markdown",
      "metadata": {
        "id": "view-in-github",
        "colab_type": "text"
      },
      "source": [
        "<a href=\"https://colab.research.google.com/github/avinashjairam/avinashjairam.github.io/blob/master/project_example.ipynb\" target=\"_parent\"><img src=\"https://colab.research.google.com/assets/colab-badge.svg\" alt=\"Open In Colab\"/></a>"
      ]
    },
    {
      "cell_type": "code",
      "metadata": {
        "id": "m4mwyeiztSo6",
        "colab_type": "code",
        "colab": {
          "base_uri": "https://localhost:8080/",
          "height": 71
        },
        "outputId": "254a850f-472d-460d-c5c6-c88353e7af9a"
      },
      "source": [
        "#Searching for elements by class\n",
        "#The goal of this exercise is to scrape all of the CS professors' email addresses and export them to a file\n",
        "#This tutorial is for demonstration purposes only and should not be used for any malicious actions \n",
        "import requests\n",
        "from bs4 import BeautifulSoup\n",
        "\n",
        "#defining the URL and making a GET request\n",
        "URL = 'https://zicklin.baruch.cuny.edu/faculty-research/academic-departments/information-technology-statistics/faculty/'\n",
        "#storing the content returned from the server in an object called page\n",
        "#Note for servers with certain security features, you must set the verify flag to False\n",
        "page = requests.get(URL, verify=False)"
      ],
      "execution_count": 8,
      "outputs": [
        {
          "output_type": "stream",
          "text": [
            "/usr/local/lib/python3.6/dist-packages/urllib3/connectionpool.py:847: InsecureRequestWarning: Unverified HTTPS request is being made. Adding certificate verification is strongly advised. See: https://urllib3.readthedocs.io/en/latest/advanced-usage.html#ssl-warnings\n",
            "  InsecureRequestWarning)\n"
          ],
          "name": "stderr"
        }
      ]
    },
    {
      "cell_type": "code",
      "metadata": {
        "id": "zt885a0utsd6",
        "colab_type": "code",
        "colab": {}
      },
      "source": [
        "#importing the HTML returned from the server into beautiful soup\n",
        "soup = BeautifulSoup(page.content, 'html.parser')\n",
        "\n",
        "#soup.find_all('a', class_=\"email\") parses the html and collects all of the 'a' tags which are assigned an \"email class\"\n",
        "#we convert the value returned by soup.find_all('a', class_=\"email\") to a list and then store it in emailList\n",
        "emailList = soup.find_all('a', class_=\"email\")"
      ],
      "execution_count": 9,
      "outputs": []
    },
    {
      "cell_type": "code",
      "metadata": {
        "id": "tGThC7F3mqRt",
        "colab_type": "code",
        "colab": {
          "base_uri": "https://localhost:8080/",
          "height": 54
        },
        "outputId": "366ad075-dda4-4f1c-d4ca-658b60d21d20"
      },
      "source": [
        "#let's take a look at emailList\n",
        "print(emailList)"
      ],
      "execution_count": 10,
      "outputs": [
        {
          "output_type": "stream",
          "text": [
            "[<a class=\"email\" href=\"mailto:rbfich@baruch.cuny.edu\" style=\"text-transform: lowercase;\">rbfich@baruch.cuny.edu</a>, <a class=\"email\" href=\"mailto:Robert.Blau@baruch.cuny.edu\" style=\"text-transform: lowercase;\">Robert.Blau@baruch.cuny.edu</a>, <a class=\"email\" href=\"mailto:ann.brandwein@baruch.cuny.edu\" style=\"text-transform: lowercase;\">ann.brandwein@baruch.cuny.edu</a>, <a class=\"email\" href=\"mailto:Yuanfeng.Cai@baruch.cuny.edu\" style=\"text-transform: lowercase;\">Yuanfeng.Cai@baruch.cuny.edu</a>, <a class=\"email\" href=\"mailto:Arturo.Castellanos@baruch.cuny.edu\" style=\"text-transform: lowercase;\">Arturo.Castellanos@baruch.cuny.edu</a>, <a class=\"email\" href=\"mailto:albert.croker@baruch.cuny.edu\" style=\"text-transform: lowercase;\">albert.croker@baruch.cuny.edu</a>, <a class=\"email\" href=\"mailto:Chaoqun.Deng@baruch.cuny.edu\" style=\"text-transform: lowercase;\">Chaoqun.Deng@baruch.cuny.edu</a>, <a class=\"email\" href=\"mailto:hammou.elbarmi@baruch.cuny.edu\" style=\"text-transform: lowercase;\">hammou.elbarmi@baruch.cuny.edu</a>, <a class=\"email\" href=\"mailto:linda.friedman@baruch.cuny.edu\" style=\"text-transform: lowercase;\">linda.friedman@baruch.cuny.edu</a>, <a class=\"email\" href=\"mailto:Qiang.Gao@baruch.cuny.edu\" style=\"text-transform: lowercase;\">Qiang.Gao@baruch.cuny.edu</a>, <a class=\"email\" href=\"mailto:Shulamith.Gross@baruch.cuny.edu\" style=\"text-transform: lowercase;\">Shulamith.Gross@baruch.cuny.edu</a>, <a class=\"email\" href=\"mailto:Arie.Harel@baruch.cuny.edu\" style=\"text-transform: lowercase;\">Arie.Harel@baruch.cuny.edu</a>, <a class=\"email\" href=\"mailto:richard.holowczak@baruch.cuny.edu\" style=\"text-transform: lowercase;\">richard.holowczak@baruch.cuny.edu</a>, <a class=\"email\" href=\"mailto:Youngdeok.Hwang@baruch.cuny.edu\" style=\"text-transform: lowercase;\">Youngdeok.Hwang@baruch.cuny.edu</a>, <a class=\"email\" href=\"mailto:radhika.jain@baruch.cuny.edu\" style=\"text-transform: lowercase;\">radhika.jain@baruch.cuny.edu</a>, <a class=\"email\" href=\"mailto:marios.koufaris@baruch.cuny.edu\" style=\"text-transform: lowercase;\">marios.koufaris@baruch.cuny.edu</a>, <a class=\"email\" href=\"mailto:nanda.kumar@baruch.cuny.edu\" style=\"text-transform: lowercase;\">nanda.kumar@baruch.cuny.edu</a>, <a class=\"email\" href=\"mailto:karl.lang@baruch.cuny.edu\" style=\"text-transform: lowercase;\">karl.lang@baruch.cuny.edu</a>, <a class=\"email\" href=\"mailto:zeda.li@baruch.cuny.edu\" style=\"text-transform: lowercase;\">zeda.li@baruch.cuny.edu</a>, <a class=\"email\" href=\"mailto:pai-chun.ma@baruch.cuny.edu\" style=\"text-transform: lowercase;\">pai-chun.ma@baruch.cuny.edu</a>, <a class=\"email\" href=\"mailto:kannan.mohan@baruch.cuny.edu\" style=\"text-transform: lowercase;\">kannan.mohan@baruch.cuny.edu</a>, <a class=\"email\" href=\"mailto:Trevor.Moores@baruch.cuny.edu\" style=\"text-transform: lowercase;\">Trevor.Moores@baruch.cuny.edu</a>, <a class=\"email\" href=\"mailto:mpalley@baruch.cuny.edu\" style=\"text-transform: lowercase;\">mpalley@baruch.cuny.edu</a>, <a class=\"email\" href=\"mailto:Gideon.Pell@baruch.cuny.edu\" style=\"text-transform: lowercase;\">Gideon.Pell@baruch.cuny.edu</a>, <a class=\"email\" href=\"mailto:Victor.Pena@baruch.cuny.edu\" style=\"text-transform: lowercase;\">Victor.Pena@baruch.cuny.edu</a>, <a class=\"email\" href=\"mailto:kamiar.rahnamarad@baruch.cuny.edu\" style=\"text-transform: lowercase;\">kamiar.rahnamarad@baruch.cuny.edu</a>, <a class=\"email\" href=\"mailto:morris.schwartz@baruch.cuny.edu\" style=\"text-transform: lowercase;\">morris.schwartz@baruch.cuny.edu</a>, <a class=\"email\" href=\"mailto:shadi.shuraida@baruch.cuny.edu\" style=\"text-transform: lowercase;\">shadi.shuraida@baruch.cuny.edu</a>, <a class=\"email\" href=\"mailto:isak.taksa@baruch.cuny.edu\" style=\"text-transform: lowercase;\">isak.taksa@baruch.cuny.edu</a>, <a class=\"email\" href=\"mailto:tansel@baruch.cuny.edu\" style=\"text-transform: lowercase;\">tansel@baruch.cuny.edu</a>, <a class=\"email\" href=\"mailto:Lawrence.Tatum@baruch.cuny.edu\" style=\"text-transform: lowercase;\">Lawrence.Tatum@baruch.cuny.edu</a>, <a class=\"email\" href=\"mailto:Shuting.Wang@baruch.cuny.edu\" style=\"text-transform: lowercase;\">Shuting.Wang@baruch.cuny.edu</a>, <a class=\"email\" href=\"mailto:Rongning.Wu@baruch.cuny.edu\" style=\"text-transform: lowercase;\">Rongning.Wu@baruch.cuny.edu</a>, <a class=\"email\" href=\"mailto:Adel.Yazdanmehr@baruch.cuny.edu\" style=\"text-transform: lowercase;\">Adel.Yazdanmehr@baruch.cuny.edu</a>, <a class=\"email\" href=\"mailto:yu.yue@baruch.cuny.edu\" style=\"text-transform: lowercase;\">yu.yue@baruch.cuny.edu</a>]\n"
          ],
          "name": "stdout"
        }
      ]
    },
    {
      "cell_type": "code",
      "metadata": {
        "id": "2oAPczz_t4bf",
        "colab_type": "code",
        "colab": {
          "base_uri": "https://localhost:8080/",
          "height": 612
        },
        "outputId": "068646da-971e-4ec7-c400-c56143a8051e"
      },
      "source": [
        "#Printing all of the emails \n",
        "for x in emailList:\n",
        "  print(x.get_text())"
      ],
      "execution_count": 11,
      "outputs": [
        {
          "output_type": "stream",
          "text": [
            "rbfich@baruch.cuny.edu\n",
            "Robert.Blau@baruch.cuny.edu\n",
            "ann.brandwein@baruch.cuny.edu\n",
            "Yuanfeng.Cai@baruch.cuny.edu\n",
            "Arturo.Castellanos@baruch.cuny.edu\n",
            "albert.croker@baruch.cuny.edu\n",
            "Chaoqun.Deng@baruch.cuny.edu\n",
            "hammou.elbarmi@baruch.cuny.edu\n",
            "linda.friedman@baruch.cuny.edu\n",
            "Qiang.Gao@baruch.cuny.edu\n",
            "Shulamith.Gross@baruch.cuny.edu\n",
            "Arie.Harel@baruch.cuny.edu\n",
            "richard.holowczak@baruch.cuny.edu\n",
            "Youngdeok.Hwang@baruch.cuny.edu\n",
            "radhika.jain@baruch.cuny.edu\n",
            "marios.koufaris@baruch.cuny.edu\n",
            "nanda.kumar@baruch.cuny.edu\n",
            "karl.lang@baruch.cuny.edu\n",
            "zeda.li@baruch.cuny.edu\n",
            "pai-chun.ma@baruch.cuny.edu\n",
            "kannan.mohan@baruch.cuny.edu\n",
            "Trevor.Moores@baruch.cuny.edu\n",
            "mpalley@baruch.cuny.edu\n",
            "Gideon.Pell@baruch.cuny.edu\n",
            "Victor.Pena@baruch.cuny.edu\n",
            "kamiar.rahnamarad@baruch.cuny.edu\n",
            "morris.schwartz@baruch.cuny.edu\n",
            "shadi.shuraida@baruch.cuny.edu\n",
            "isak.taksa@baruch.cuny.edu\n",
            "tansel@baruch.cuny.edu\n",
            "Lawrence.Tatum@baruch.cuny.edu\n",
            "Shuting.Wang@baruch.cuny.edu\n",
            "Rongning.Wu@baruch.cuny.edu\n",
            "Adel.Yazdanmehr@baruch.cuny.edu\n",
            "yu.yue@baruch.cuny.edu\n"
          ],
          "name": "stdout"
        }
      ]
    },
    {
      "cell_type": "code",
      "metadata": {
        "id": "54ph9_4uumzp",
        "colab_type": "code",
        "colab": {}
      },
      "source": [
        "#exporting the emails to a file\n",
        "with open(\"facultyMailingList.txt\", 'w') as out_file:\n",
        "     for x in emailList:\n",
        "        out_file.write(x.get_text()+\"\\n\" )"
      ],
      "execution_count": 12,
      "outputs": []
    }
  ]
}
