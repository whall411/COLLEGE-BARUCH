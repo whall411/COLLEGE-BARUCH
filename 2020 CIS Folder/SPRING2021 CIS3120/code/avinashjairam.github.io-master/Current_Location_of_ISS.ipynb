{
  "nbformat": 4,
  "nbformat_minor": 0,
  "metadata": {
    "colab": {
      "name": "Current Location of ISS.ipynb",
      "provenance": [],
      "authorship_tag": "ABX9TyOLvWSpEUeO/1FTPmsIuHil",
      "include_colab_link": true
    },
    "kernelspec": {
      "name": "python3",
      "display_name": "Python 3"
    }
  },
  "cells": [
    {
      "cell_type": "markdown",
      "metadata": {
        "id": "view-in-github",
        "colab_type": "text"
      },
      "source": [
        "<a href=\"https://colab.research.google.com/github/avinashjairam/avinashjairam.github.io/blob/master/Current_Location_of_ISS.ipynb\" target=\"_parent\"><img src=\"https://colab.research.google.com/assets/colab-badge.svg\" alt=\"Open In Colab\"/></a>"
      ]
    },
    {
      "cell_type": "code",
      "metadata": {
        "id": "dUPt0mxW6oMv"
      },
      "source": [
        "#import libraries\n",
        "import requests\n",
        "import json\n",
        "from datetime import datetime\n",
        "\n"
      ],
      "execution_count": null,
      "outputs": []
    },
    {
      "cell_type": "code",
      "metadata": {
        "colab": {
          "base_uri": "https://localhost:8080/"
        },
        "id": "COsxJHWj7tNT",
        "outputId": "dd81d8a9-aace-486c-fa81-ec1f8ee5fb1a"
      },
      "source": [
        "#specifying the URL (end point) of the API and Making the request\n",
        "response = requests.get(\"http://api.open-notify.org/iss-now.json\")\n",
        "\n",
        "#Printing the status code\n",
        "print(\"Status Code\",response.status_code,\"\\n\\n\")"
      ],
      "execution_count": null,
      "outputs": [
        {
          "output_type": "stream",
          "text": [
            "Status Code 200 \n",
            "\n",
            "\n"
          ],
          "name": "stdout"
        }
      ]
    },
    {
      "cell_type": "code",
      "metadata": {
        "colab": {
          "base_uri": "https://localhost:8080/"
        },
        "id": "sr-BWod07_Bv",
        "outputId": "44c0542c-7918-45a9-cfd1-bddf8502ee4c"
      },
      "source": [
        "#Collecting the JSON response\n",
        "data = response.json()\n",
        "data"
      ],
      "execution_count": null,
      "outputs": [
        {
          "output_type": "execute_result",
          "data": {
            "text/plain": [
              "{'iss_position': {'latitude': '51.1499', 'longitude': '36.4283'},\n",
              " 'message': 'success',\n",
              " 'timestamp': 1605981770}"
            ]
          },
          "metadata": {
            "tags": []
          },
          "execution_count": 25
        }
      ]
    },
    {
      "cell_type": "code",
      "metadata": {
        "colab": {
          "base_uri": "https://localhost:8080/"
        },
        "id": "-qKNOD0C8C5a",
        "outputId": "2eeae827-3123-4fba-bda0-00f646b6091b"
      },
      "source": [
        "#Formatting the JSON so that we can read it \n",
        "formatted_json = json.dumps(data, sort_keys=True, indent=4)\n",
        "print(formatted_json)"
      ],
      "execution_count": null,
      "outputs": [
        {
          "output_type": "stream",
          "text": [
            "{\n",
            "    \"iss_position\": {\n",
            "        \"latitude\": \"51.1499\",\n",
            "        \"longitude\": \"36.4283\"\n",
            "    },\n",
            "    \"message\": \"success\",\n",
            "    \"timestamp\": 1605981770\n",
            "}\n"
          ],
          "name": "stdout"
        }
      ]
    },
    {
      "cell_type": "code",
      "metadata": {
        "colab": {
          "base_uri": "https://localhost:8080/"
        },
        "id": "YFka9C7O8SxJ",
        "outputId": "5294d857-7b47-4957-f80d-a4724e472e5c"
      },
      "source": [
        "#taking another look at the unformatted JSON\n",
        "data"
      ],
      "execution_count": null,
      "outputs": [
        {
          "output_type": "execute_result",
          "data": {
            "text/plain": [
              "{'iss_position': {'latitude': '51.1499', 'longitude': '36.4283'},\n",
              " 'message': 'success',\n",
              " 'timestamp': 1605981770}"
            ]
          },
          "metadata": {
            "tags": []
          },
          "execution_count": 27
        }
      ]
    },
    {
      "cell_type": "code",
      "metadata": {
        "colab": {
          "base_uri": "https://localhost:8080/"
        },
        "id": "XlxAjeoR8qy7",
        "outputId": "1339ce4d-1150-454d-b49d-ffb5065cb4ce"
      },
      "source": [
        "#Extracting latitude, longitude, and time from the JSON \n",
        "lat = data['iss_position']['latitude']\n",
        "long = data['iss_position']['longitude']\n",
        "time = data['timestamp']\n",
        "\n",
        "#Formatting the time to something that is readable\n",
        "time = datetime.fromtimestamp(time)\n",
        "\n",
        "\n",
        "print('latitude: ' ,lat)\n",
        "print('longitude: ', long)\n",
        "print('time:', time)"
      ],
      "execution_count": null,
      "outputs": [
        {
          "output_type": "stream",
          "text": [
            "latitude:  51.1499\n",
            "longitude:  36.4283\n",
            "time: 2020-11-21 18:02:50\n"
          ],
          "name": "stdout"
        }
      ]
    },
    {
      "cell_type": "code",
      "metadata": {
        "id": "M-9Q3IMe80KZ"
      },
      "source": [
        ""
      ],
      "execution_count": null,
      "outputs": []
    }
  ]
}