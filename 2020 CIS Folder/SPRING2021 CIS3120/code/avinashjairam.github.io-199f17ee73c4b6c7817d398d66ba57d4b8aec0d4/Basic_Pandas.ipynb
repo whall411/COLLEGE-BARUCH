{
  "nbformat": 4,
  "nbformat_minor": 0,
  "metadata": {
    "colab": {
      "name": "Basic Pandas.ipynb",
      "provenance": [],
      "authorship_tag": "ABX9TyNL4dX17aMXmtsgJ3XnqDHD",
      "include_colab_link": true
    },
    "kernelspec": {
      "name": "python3",
      "display_name": "Python 3"
    }
  },
  "cells": [
    {
      "cell_type": "markdown",
      "metadata": {
        "id": "view-in-github",
        "colab_type": "text"
      },
      "source": [
        "<a href=\"https://colab.research.google.com/github/avinashjairam/avinashjairam.github.io/blob/master/Basic_Pandas.ipynb\" target=\"_parent\"><img src=\"https://colab.research.google.com/assets/colab-badge.svg\" alt=\"Open In Colab\"/></a>"
      ]
    },
    {
      "cell_type": "code",
      "metadata": {
        "id": "Bmip3-mqbEO4",
        "outputId": "eb68af62-0e3b-46b5-d55a-e09386e6de8a",
        "colab": {
          "base_uri": "https://localhost:8080/",
          "height": 359
        }
      },
      "source": [
        "import pandas as pd\n",
        "\n",
        "#Creating a dataframe from series\n",
        "#Note a series is a dictionary of dictionaries where the values are lists\n",
        "roster = {\"Name\" : [\"Bob\", \"Alice\", \"Joe\", \"Mike\", \"Lisa\", \"Alan\", \"Eli\", \"Mark\", \"Liz\", \"Jane\"],\n",
        "          \"Major\": [\"Accounting\", \"Finance\", \"Chemistry\", \"Art\", \"Engineering\", \"Biology\", \"Physics\", \"History\", \"Art\", \"Engineering\"],\n",
        "          \"GPA\": [3.5, 3.8, 3.2, 3.7, 4.0, 3.5, 3.8, 3.2, 3.1, 3.0],\n",
        "          \"Age\": [22, 23, 31, 40, 25, 22, 33, 31, 27, 55]          \n",
        "          }\n",
        "\n",
        "roster_df = pd.DataFrame(roster)\n",
        "\n",
        "roster_df"
      ],
      "execution_count": 45,
      "outputs": [
        {
          "output_type": "execute_result",
          "data": {
            "text/html": [
              "<div>\n",
              "<style scoped>\n",
              "    .dataframe tbody tr th:only-of-type {\n",
              "        vertical-align: middle;\n",
              "    }\n",
              "\n",
              "    .dataframe tbody tr th {\n",
              "        vertical-align: top;\n",
              "    }\n",
              "\n",
              "    .dataframe thead th {\n",
              "        text-align: right;\n",
              "    }\n",
              "</style>\n",
              "<table border=\"1\" class=\"dataframe\">\n",
              "  <thead>\n",
              "    <tr style=\"text-align: right;\">\n",
              "      <th></th>\n",
              "      <th>Name</th>\n",
              "      <th>Major</th>\n",
              "      <th>GPA</th>\n",
              "      <th>Age</th>\n",
              "    </tr>\n",
              "  </thead>\n",
              "  <tbody>\n",
              "    <tr>\n",
              "      <th>0</th>\n",
              "      <td>Bob</td>\n",
              "      <td>Accounting</td>\n",
              "      <td>3.5</td>\n",
              "      <td>22</td>\n",
              "    </tr>\n",
              "    <tr>\n",
              "      <th>1</th>\n",
              "      <td>Alice</td>\n",
              "      <td>Finance</td>\n",
              "      <td>3.8</td>\n",
              "      <td>23</td>\n",
              "    </tr>\n",
              "    <tr>\n",
              "      <th>2</th>\n",
              "      <td>Joe</td>\n",
              "      <td>Chemistry</td>\n",
              "      <td>3.2</td>\n",
              "      <td>31</td>\n",
              "    </tr>\n",
              "    <tr>\n",
              "      <th>3</th>\n",
              "      <td>Mike</td>\n",
              "      <td>Art</td>\n",
              "      <td>3.7</td>\n",
              "      <td>40</td>\n",
              "    </tr>\n",
              "    <tr>\n",
              "      <th>4</th>\n",
              "      <td>Lisa</td>\n",
              "      <td>Engineering</td>\n",
              "      <td>4.0</td>\n",
              "      <td>25</td>\n",
              "    </tr>\n",
              "    <tr>\n",
              "      <th>5</th>\n",
              "      <td>Alan</td>\n",
              "      <td>Biology</td>\n",
              "      <td>3.5</td>\n",
              "      <td>22</td>\n",
              "    </tr>\n",
              "    <tr>\n",
              "      <th>6</th>\n",
              "      <td>Eli</td>\n",
              "      <td>Physics</td>\n",
              "      <td>3.8</td>\n",
              "      <td>33</td>\n",
              "    </tr>\n",
              "    <tr>\n",
              "      <th>7</th>\n",
              "      <td>Mark</td>\n",
              "      <td>History</td>\n",
              "      <td>3.2</td>\n",
              "      <td>31</td>\n",
              "    </tr>\n",
              "    <tr>\n",
              "      <th>8</th>\n",
              "      <td>Liz</td>\n",
              "      <td>Art</td>\n",
              "      <td>3.1</td>\n",
              "      <td>27</td>\n",
              "    </tr>\n",
              "    <tr>\n",
              "      <th>9</th>\n",
              "      <td>Jane</td>\n",
              "      <td>Engineering</td>\n",
              "      <td>3.0</td>\n",
              "      <td>55</td>\n",
              "    </tr>\n",
              "  </tbody>\n",
              "</table>\n",
              "</div>"
            ],
            "text/plain": [
              "    Name        Major  GPA  Age\n",
              "0    Bob   Accounting  3.5   22\n",
              "1  Alice      Finance  3.8   23\n",
              "2    Joe    Chemistry  3.2   31\n",
              "3   Mike          Art  3.7   40\n",
              "4   Lisa  Engineering  4.0   25\n",
              "5   Alan      Biology  3.5   22\n",
              "6    Eli      Physics  3.8   33\n",
              "7   Mark      History  3.2   31\n",
              "8    Liz          Art  3.1   27\n",
              "9   Jane  Engineering  3.0   55"
            ]
          },
          "metadata": {
            "tags": []
          },
          "execution_count": 45
        }
      ]
    },
    {
      "cell_type": "code",
      "metadata": {
        "id": "DqHTnN00qw98",
        "outputId": "8dd2bd26-489d-45f7-8cb7-ac9e246aa978",
        "colab": {
          "base_uri": "https://localhost:8080/",
          "height": 359
        }
      },
      "source": [
        "#How to rename a column?\n",
        "#name_of_dataframe.rename(columns = {\"Old_Name\":New_Name}, inplace=True)\n",
        "roster_df.rename(columns = {\"Name\": \"First_Name\"}, inplace=True)\n",
        "\n",
        "roster_df\n"
      ],
      "execution_count": 46,
      "outputs": [
        {
          "output_type": "execute_result",
          "data": {
            "text/html": [
              "<div>\n",
              "<style scoped>\n",
              "    .dataframe tbody tr th:only-of-type {\n",
              "        vertical-align: middle;\n",
              "    }\n",
              "\n",
              "    .dataframe tbody tr th {\n",
              "        vertical-align: top;\n",
              "    }\n",
              "\n",
              "    .dataframe thead th {\n",
              "        text-align: right;\n",
              "    }\n",
              "</style>\n",
              "<table border=\"1\" class=\"dataframe\">\n",
              "  <thead>\n",
              "    <tr style=\"text-align: right;\">\n",
              "      <th></th>\n",
              "      <th>First_Name</th>\n",
              "      <th>Major</th>\n",
              "      <th>GPA</th>\n",
              "      <th>Age</th>\n",
              "    </tr>\n",
              "  </thead>\n",
              "  <tbody>\n",
              "    <tr>\n",
              "      <th>0</th>\n",
              "      <td>Bob</td>\n",
              "      <td>Accounting</td>\n",
              "      <td>3.5</td>\n",
              "      <td>22</td>\n",
              "    </tr>\n",
              "    <tr>\n",
              "      <th>1</th>\n",
              "      <td>Alice</td>\n",
              "      <td>Finance</td>\n",
              "      <td>3.8</td>\n",
              "      <td>23</td>\n",
              "    </tr>\n",
              "    <tr>\n",
              "      <th>2</th>\n",
              "      <td>Joe</td>\n",
              "      <td>Chemistry</td>\n",
              "      <td>3.2</td>\n",
              "      <td>31</td>\n",
              "    </tr>\n",
              "    <tr>\n",
              "      <th>3</th>\n",
              "      <td>Mike</td>\n",
              "      <td>Art</td>\n",
              "      <td>3.7</td>\n",
              "      <td>40</td>\n",
              "    </tr>\n",
              "    <tr>\n",
              "      <th>4</th>\n",
              "      <td>Lisa</td>\n",
              "      <td>Engineering</td>\n",
              "      <td>4.0</td>\n",
              "      <td>25</td>\n",
              "    </tr>\n",
              "    <tr>\n",
              "      <th>5</th>\n",
              "      <td>Alan</td>\n",
              "      <td>Biology</td>\n",
              "      <td>3.5</td>\n",
              "      <td>22</td>\n",
              "    </tr>\n",
              "    <tr>\n",
              "      <th>6</th>\n",
              "      <td>Eli</td>\n",
              "      <td>Physics</td>\n",
              "      <td>3.8</td>\n",
              "      <td>33</td>\n",
              "    </tr>\n",
              "    <tr>\n",
              "      <th>7</th>\n",
              "      <td>Mark</td>\n",
              "      <td>History</td>\n",
              "      <td>3.2</td>\n",
              "      <td>31</td>\n",
              "    </tr>\n",
              "    <tr>\n",
              "      <th>8</th>\n",
              "      <td>Liz</td>\n",
              "      <td>Art</td>\n",
              "      <td>3.1</td>\n",
              "      <td>27</td>\n",
              "    </tr>\n",
              "    <tr>\n",
              "      <th>9</th>\n",
              "      <td>Jane</td>\n",
              "      <td>Engineering</td>\n",
              "      <td>3.0</td>\n",
              "      <td>55</td>\n",
              "    </tr>\n",
              "  </tbody>\n",
              "</table>\n",
              "</div>"
            ],
            "text/plain": [
              "  First_Name        Major  GPA  Age\n",
              "0        Bob   Accounting  3.5   22\n",
              "1      Alice      Finance  3.8   23\n",
              "2        Joe    Chemistry  3.2   31\n",
              "3       Mike          Art  3.7   40\n",
              "4       Lisa  Engineering  4.0   25\n",
              "5       Alan      Biology  3.5   22\n",
              "6        Eli      Physics  3.8   33\n",
              "7       Mark      History  3.2   31\n",
              "8        Liz          Art  3.1   27\n",
              "9       Jane  Engineering  3.0   55"
            ]
          },
          "metadata": {
            "tags": []
          },
          "execution_count": 46
        }
      ]
    },
    {
      "cell_type": "code",
      "metadata": {
        "id": "sb1E9cJ4rxR4",
        "outputId": "709d26d9-76ab-4deb-ba4b-f6c32690db6c",
        "colab": {
          "base_uri": "https://localhost:8080/",
          "height": 359
        }
      },
      "source": [
        "#How to modify an individual cell in a table?\n",
        "#name_of_dataframe.loc[index, \"Name_of_column\"] = \"New Value\"\n",
        "#Here we are changing Joe's major (from the dataframe above) from chemistry to math\n",
        "roster_df.loc[2,\"Major\"] = \"Math\"\n",
        "\n",
        "roster_df"
      ],
      "execution_count": 47,
      "outputs": [
        {
          "output_type": "execute_result",
          "data": {
            "text/html": [
              "<div>\n",
              "<style scoped>\n",
              "    .dataframe tbody tr th:only-of-type {\n",
              "        vertical-align: middle;\n",
              "    }\n",
              "\n",
              "    .dataframe tbody tr th {\n",
              "        vertical-align: top;\n",
              "    }\n",
              "\n",
              "    .dataframe thead th {\n",
              "        text-align: right;\n",
              "    }\n",
              "</style>\n",
              "<table border=\"1\" class=\"dataframe\">\n",
              "  <thead>\n",
              "    <tr style=\"text-align: right;\">\n",
              "      <th></th>\n",
              "      <th>First_Name</th>\n",
              "      <th>Major</th>\n",
              "      <th>GPA</th>\n",
              "      <th>Age</th>\n",
              "    </tr>\n",
              "  </thead>\n",
              "  <tbody>\n",
              "    <tr>\n",
              "      <th>0</th>\n",
              "      <td>Bob</td>\n",
              "      <td>Accounting</td>\n",
              "      <td>3.5</td>\n",
              "      <td>22</td>\n",
              "    </tr>\n",
              "    <tr>\n",
              "      <th>1</th>\n",
              "      <td>Alice</td>\n",
              "      <td>Finance</td>\n",
              "      <td>3.8</td>\n",
              "      <td>23</td>\n",
              "    </tr>\n",
              "    <tr>\n",
              "      <th>2</th>\n",
              "      <td>Joe</td>\n",
              "      <td>Math</td>\n",
              "      <td>3.2</td>\n",
              "      <td>31</td>\n",
              "    </tr>\n",
              "    <tr>\n",
              "      <th>3</th>\n",
              "      <td>Mike</td>\n",
              "      <td>Art</td>\n",
              "      <td>3.7</td>\n",
              "      <td>40</td>\n",
              "    </tr>\n",
              "    <tr>\n",
              "      <th>4</th>\n",
              "      <td>Lisa</td>\n",
              "      <td>Engineering</td>\n",
              "      <td>4.0</td>\n",
              "      <td>25</td>\n",
              "    </tr>\n",
              "    <tr>\n",
              "      <th>5</th>\n",
              "      <td>Alan</td>\n",
              "      <td>Biology</td>\n",
              "      <td>3.5</td>\n",
              "      <td>22</td>\n",
              "    </tr>\n",
              "    <tr>\n",
              "      <th>6</th>\n",
              "      <td>Eli</td>\n",
              "      <td>Physics</td>\n",
              "      <td>3.8</td>\n",
              "      <td>33</td>\n",
              "    </tr>\n",
              "    <tr>\n",
              "      <th>7</th>\n",
              "      <td>Mark</td>\n",
              "      <td>History</td>\n",
              "      <td>3.2</td>\n",
              "      <td>31</td>\n",
              "    </tr>\n",
              "    <tr>\n",
              "      <th>8</th>\n",
              "      <td>Liz</td>\n",
              "      <td>Art</td>\n",
              "      <td>3.1</td>\n",
              "      <td>27</td>\n",
              "    </tr>\n",
              "    <tr>\n",
              "      <th>9</th>\n",
              "      <td>Jane</td>\n",
              "      <td>Engineering</td>\n",
              "      <td>3.0</td>\n",
              "      <td>55</td>\n",
              "    </tr>\n",
              "  </tbody>\n",
              "</table>\n",
              "</div>"
            ],
            "text/plain": [
              "  First_Name        Major  GPA  Age\n",
              "0        Bob   Accounting  3.5   22\n",
              "1      Alice      Finance  3.8   23\n",
              "2        Joe         Math  3.2   31\n",
              "3       Mike          Art  3.7   40\n",
              "4       Lisa  Engineering  4.0   25\n",
              "5       Alan      Biology  3.5   22\n",
              "6        Eli      Physics  3.8   33\n",
              "7       Mark      History  3.2   31\n",
              "8        Liz          Art  3.1   27\n",
              "9       Jane  Engineering  3.0   55"
            ]
          },
          "metadata": {
            "tags": []
          },
          "execution_count": 47
        }
      ]
    },
    {
      "cell_type": "code",
      "metadata": {
        "id": "MPDfRGaip8k2",
        "outputId": "120e1beb-c6ce-4ef4-a766-35df37c8907b",
        "colab": {
          "base_uri": "https://localhost:8080/",
          "height": 204
        }
      },
      "source": [
        "#Demonstration of the \"isin\" method\n",
        "\n",
        "#First create a list of items you wish to include in your search\n",
        "majors = ['Art', 'Engineering', 'Biology']\n",
        "\n",
        "#create a filter mask and call the \"isin\" method on the column you are searching\n",
        "filter_mask = roster_df['Major'].isin(majors)\n",
        "\n",
        "#apply the filter to the dataframe using loc\n",
        "roster_df.loc[filter_mask]"
      ],
      "execution_count": 48,
      "outputs": [
        {
          "output_type": "execute_result",
          "data": {
            "text/html": [
              "<div>\n",
              "<style scoped>\n",
              "    .dataframe tbody tr th:only-of-type {\n",
              "        vertical-align: middle;\n",
              "    }\n",
              "\n",
              "    .dataframe tbody tr th {\n",
              "        vertical-align: top;\n",
              "    }\n",
              "\n",
              "    .dataframe thead th {\n",
              "        text-align: right;\n",
              "    }\n",
              "</style>\n",
              "<table border=\"1\" class=\"dataframe\">\n",
              "  <thead>\n",
              "    <tr style=\"text-align: right;\">\n",
              "      <th></th>\n",
              "      <th>First_Name</th>\n",
              "      <th>Major</th>\n",
              "      <th>GPA</th>\n",
              "      <th>Age</th>\n",
              "    </tr>\n",
              "  </thead>\n",
              "  <tbody>\n",
              "    <tr>\n",
              "      <th>3</th>\n",
              "      <td>Mike</td>\n",
              "      <td>Art</td>\n",
              "      <td>3.7</td>\n",
              "      <td>40</td>\n",
              "    </tr>\n",
              "    <tr>\n",
              "      <th>4</th>\n",
              "      <td>Lisa</td>\n",
              "      <td>Engineering</td>\n",
              "      <td>4.0</td>\n",
              "      <td>25</td>\n",
              "    </tr>\n",
              "    <tr>\n",
              "      <th>5</th>\n",
              "      <td>Alan</td>\n",
              "      <td>Biology</td>\n",
              "      <td>3.5</td>\n",
              "      <td>22</td>\n",
              "    </tr>\n",
              "    <tr>\n",
              "      <th>8</th>\n",
              "      <td>Liz</td>\n",
              "      <td>Art</td>\n",
              "      <td>3.1</td>\n",
              "      <td>27</td>\n",
              "    </tr>\n",
              "    <tr>\n",
              "      <th>9</th>\n",
              "      <td>Jane</td>\n",
              "      <td>Engineering</td>\n",
              "      <td>3.0</td>\n",
              "      <td>55</td>\n",
              "    </tr>\n",
              "  </tbody>\n",
              "</table>\n",
              "</div>"
            ],
            "text/plain": [
              "  First_Name        Major  GPA  Age\n",
              "3       Mike          Art  3.7   40\n",
              "4       Lisa  Engineering  4.0   25\n",
              "5       Alan      Biology  3.5   22\n",
              "8        Liz          Art  3.1   27\n",
              "9       Jane  Engineering  3.0   55"
            ]
          },
          "metadata": {
            "tags": []
          },
          "execution_count": 48
        }
      ]
    },
    {
      "cell_type": "code",
      "metadata": {
        "id": "EwQPDW_roO5S",
        "outputId": "8a08a141-61cc-4569-8726-5d1662a66d32",
        "colab": {
          "base_uri": "https://localhost:8080/",
          "height": 328
        }
      },
      "source": [
        "#Negating a filter mask\n",
        "\n",
        "#First create a filter mask outlining the conditions of your search\n",
        "filter_mask = (roster_df['Major'] == 'Art') & (roster_df['Age'] > 30)\n",
        "\n",
        "#Apply the filter_mask to the dataframe but be sure to add ~\n",
        "#This will return all of the rows which do not satisfy the condition in the filter mask\n",
        "roster_df.loc[~filter_mask]"
      ],
      "execution_count": 5,
      "outputs": [
        {
          "output_type": "execute_result",
          "data": {
            "text/html": [
              "<div>\n",
              "<style scoped>\n",
              "    .dataframe tbody tr th:only-of-type {\n",
              "        vertical-align: middle;\n",
              "    }\n",
              "\n",
              "    .dataframe tbody tr th {\n",
              "        vertical-align: top;\n",
              "    }\n",
              "\n",
              "    .dataframe thead th {\n",
              "        text-align: right;\n",
              "    }\n",
              "</style>\n",
              "<table border=\"1\" class=\"dataframe\">\n",
              "  <thead>\n",
              "    <tr style=\"text-align: right;\">\n",
              "      <th></th>\n",
              "      <th>First_Name</th>\n",
              "      <th>Major</th>\n",
              "      <th>GPA</th>\n",
              "      <th>Age</th>\n",
              "    </tr>\n",
              "  </thead>\n",
              "  <tbody>\n",
              "    <tr>\n",
              "      <th>0</th>\n",
              "      <td>Bob</td>\n",
              "      <td>Accounting</td>\n",
              "      <td>3.5</td>\n",
              "      <td>22</td>\n",
              "    </tr>\n",
              "    <tr>\n",
              "      <th>1</th>\n",
              "      <td>Alice</td>\n",
              "      <td>Finance</td>\n",
              "      <td>3.8</td>\n",
              "      <td>23</td>\n",
              "    </tr>\n",
              "    <tr>\n",
              "      <th>2</th>\n",
              "      <td>Joe</td>\n",
              "      <td>Math</td>\n",
              "      <td>3.2</td>\n",
              "      <td>31</td>\n",
              "    </tr>\n",
              "    <tr>\n",
              "      <th>4</th>\n",
              "      <td>Lisa</td>\n",
              "      <td>Engineering</td>\n",
              "      <td>4.0</td>\n",
              "      <td>25</td>\n",
              "    </tr>\n",
              "    <tr>\n",
              "      <th>5</th>\n",
              "      <td>Alan</td>\n",
              "      <td>Biology</td>\n",
              "      <td>3.5</td>\n",
              "      <td>22</td>\n",
              "    </tr>\n",
              "    <tr>\n",
              "      <th>6</th>\n",
              "      <td>Eli</td>\n",
              "      <td>Physics</td>\n",
              "      <td>3.8</td>\n",
              "      <td>33</td>\n",
              "    </tr>\n",
              "    <tr>\n",
              "      <th>7</th>\n",
              "      <td>Mark</td>\n",
              "      <td>History</td>\n",
              "      <td>3.2</td>\n",
              "      <td>31</td>\n",
              "    </tr>\n",
              "    <tr>\n",
              "      <th>8</th>\n",
              "      <td>Liz</td>\n",
              "      <td>Art</td>\n",
              "      <td>3.1</td>\n",
              "      <td>27</td>\n",
              "    </tr>\n",
              "    <tr>\n",
              "      <th>9</th>\n",
              "      <td>Jane</td>\n",
              "      <td>Engineering</td>\n",
              "      <td>3.0</td>\n",
              "      <td>55</td>\n",
              "    </tr>\n",
              "  </tbody>\n",
              "</table>\n",
              "</div>"
            ],
            "text/plain": [
              "  First_Name        Major  GPA  Age\n",
              "0        Bob   Accounting  3.5   22\n",
              "1      Alice      Finance  3.8   23\n",
              "2        Joe         Math  3.2   31\n",
              "4       Lisa  Engineering  4.0   25\n",
              "5       Alan      Biology  3.5   22\n",
              "6        Eli      Physics  3.8   33\n",
              "7       Mark      History  3.2   31\n",
              "8        Liz          Art  3.1   27\n",
              "9       Jane  Engineering  3.0   55"
            ]
          },
          "metadata": {
            "tags": []
          },
          "execution_count": 5
        }
      ]
    },
    {
      "cell_type": "code",
      "metadata": {
        "id": "teI5C7aKbyUC",
        "outputId": "758b195a-e46d-466a-8487-8e55117b710b",
        "colab": {
          "base_uri": "https://localhost:8080/",
          "height": 204
        }
      },
      "source": [
        "#name_of_dataframe.head() returns by default the first 5 rows from the dataframe \n",
        "roster_df.head()"
      ],
      "execution_count": 6,
      "outputs": [
        {
          "output_type": "execute_result",
          "data": {
            "text/html": [
              "<div>\n",
              "<style scoped>\n",
              "    .dataframe tbody tr th:only-of-type {\n",
              "        vertical-align: middle;\n",
              "    }\n",
              "\n",
              "    .dataframe tbody tr th {\n",
              "        vertical-align: top;\n",
              "    }\n",
              "\n",
              "    .dataframe thead th {\n",
              "        text-align: right;\n",
              "    }\n",
              "</style>\n",
              "<table border=\"1\" class=\"dataframe\">\n",
              "  <thead>\n",
              "    <tr style=\"text-align: right;\">\n",
              "      <th></th>\n",
              "      <th>First_Name</th>\n",
              "      <th>Major</th>\n",
              "      <th>GPA</th>\n",
              "      <th>Age</th>\n",
              "    </tr>\n",
              "  </thead>\n",
              "  <tbody>\n",
              "    <tr>\n",
              "      <th>0</th>\n",
              "      <td>Bob</td>\n",
              "      <td>Accounting</td>\n",
              "      <td>3.5</td>\n",
              "      <td>22</td>\n",
              "    </tr>\n",
              "    <tr>\n",
              "      <th>1</th>\n",
              "      <td>Alice</td>\n",
              "      <td>Finance</td>\n",
              "      <td>3.8</td>\n",
              "      <td>23</td>\n",
              "    </tr>\n",
              "    <tr>\n",
              "      <th>2</th>\n",
              "      <td>Joe</td>\n",
              "      <td>Math</td>\n",
              "      <td>3.2</td>\n",
              "      <td>31</td>\n",
              "    </tr>\n",
              "    <tr>\n",
              "      <th>3</th>\n",
              "      <td>Mike</td>\n",
              "      <td>Art</td>\n",
              "      <td>3.7</td>\n",
              "      <td>40</td>\n",
              "    </tr>\n",
              "    <tr>\n",
              "      <th>4</th>\n",
              "      <td>Lisa</td>\n",
              "      <td>Engineering</td>\n",
              "      <td>4.0</td>\n",
              "      <td>25</td>\n",
              "    </tr>\n",
              "  </tbody>\n",
              "</table>\n",
              "</div>"
            ],
            "text/plain": [
              "  First_Name        Major  GPA  Age\n",
              "0        Bob   Accounting  3.5   22\n",
              "1      Alice      Finance  3.8   23\n",
              "2        Joe         Math  3.2   31\n",
              "3       Mike          Art  3.7   40\n",
              "4       Lisa  Engineering  4.0   25"
            ]
          },
          "metadata": {
            "tags": []
          },
          "execution_count": 6
        }
      ]
    },
    {
      "cell_type": "code",
      "metadata": {
        "id": "lc4lzAPVeUfW",
        "outputId": "114e1054-85aa-4adb-9a3a-eb65e0c1abf4",
        "colab": {
          "base_uri": "https://localhost:8080/",
          "height": 80
        }
      },
      "source": [
        "#name_of_dataframe.head(n) - returns the first n rows from the dataframe\n",
        "roster_df.head(1)"
      ],
      "execution_count": 7,
      "outputs": [
        {
          "output_type": "execute_result",
          "data": {
            "text/html": [
              "<div>\n",
              "<style scoped>\n",
              "    .dataframe tbody tr th:only-of-type {\n",
              "        vertical-align: middle;\n",
              "    }\n",
              "\n",
              "    .dataframe tbody tr th {\n",
              "        vertical-align: top;\n",
              "    }\n",
              "\n",
              "    .dataframe thead th {\n",
              "        text-align: right;\n",
              "    }\n",
              "</style>\n",
              "<table border=\"1\" class=\"dataframe\">\n",
              "  <thead>\n",
              "    <tr style=\"text-align: right;\">\n",
              "      <th></th>\n",
              "      <th>First_Name</th>\n",
              "      <th>Major</th>\n",
              "      <th>GPA</th>\n",
              "      <th>Age</th>\n",
              "    </tr>\n",
              "  </thead>\n",
              "  <tbody>\n",
              "    <tr>\n",
              "      <th>0</th>\n",
              "      <td>Bob</td>\n",
              "      <td>Accounting</td>\n",
              "      <td>3.5</td>\n",
              "      <td>22</td>\n",
              "    </tr>\n",
              "  </tbody>\n",
              "</table>\n",
              "</div>"
            ],
            "text/plain": [
              "  First_Name       Major  GPA  Age\n",
              "0        Bob  Accounting  3.5   22"
            ]
          },
          "metadata": {
            "tags": []
          },
          "execution_count": 7
        }
      ]
    },
    {
      "cell_type": "code",
      "metadata": {
        "id": "L30GyQxceoGy",
        "outputId": "8979ad78-619b-4cfa-f6f3-b0f96ee05828",
        "colab": {
          "base_uri": "https://localhost:8080/",
          "height": 204
        }
      },
      "source": [
        "#name_of_dataframe.tail() - returns the last 5 rows from the dataframe\n",
        "roster_df.tail()"
      ],
      "execution_count": 8,
      "outputs": [
        {
          "output_type": "execute_result",
          "data": {
            "text/html": [
              "<div>\n",
              "<style scoped>\n",
              "    .dataframe tbody tr th:only-of-type {\n",
              "        vertical-align: middle;\n",
              "    }\n",
              "\n",
              "    .dataframe tbody tr th {\n",
              "        vertical-align: top;\n",
              "    }\n",
              "\n",
              "    .dataframe thead th {\n",
              "        text-align: right;\n",
              "    }\n",
              "</style>\n",
              "<table border=\"1\" class=\"dataframe\">\n",
              "  <thead>\n",
              "    <tr style=\"text-align: right;\">\n",
              "      <th></th>\n",
              "      <th>First_Name</th>\n",
              "      <th>Major</th>\n",
              "      <th>GPA</th>\n",
              "      <th>Age</th>\n",
              "    </tr>\n",
              "  </thead>\n",
              "  <tbody>\n",
              "    <tr>\n",
              "      <th>5</th>\n",
              "      <td>Alan</td>\n",
              "      <td>Biology</td>\n",
              "      <td>3.5</td>\n",
              "      <td>22</td>\n",
              "    </tr>\n",
              "    <tr>\n",
              "      <th>6</th>\n",
              "      <td>Eli</td>\n",
              "      <td>Physics</td>\n",
              "      <td>3.8</td>\n",
              "      <td>33</td>\n",
              "    </tr>\n",
              "    <tr>\n",
              "      <th>7</th>\n",
              "      <td>Mark</td>\n",
              "      <td>History</td>\n",
              "      <td>3.2</td>\n",
              "      <td>31</td>\n",
              "    </tr>\n",
              "    <tr>\n",
              "      <th>8</th>\n",
              "      <td>Liz</td>\n",
              "      <td>Art</td>\n",
              "      <td>3.1</td>\n",
              "      <td>27</td>\n",
              "    </tr>\n",
              "    <tr>\n",
              "      <th>9</th>\n",
              "      <td>Jane</td>\n",
              "      <td>Engineering</td>\n",
              "      <td>3.0</td>\n",
              "      <td>55</td>\n",
              "    </tr>\n",
              "  </tbody>\n",
              "</table>\n",
              "</div>"
            ],
            "text/plain": [
              "  First_Name        Major  GPA  Age\n",
              "5       Alan      Biology  3.5   22\n",
              "6        Eli      Physics  3.8   33\n",
              "7       Mark      History  3.2   31\n",
              "8        Liz          Art  3.1   27\n",
              "9       Jane  Engineering  3.0   55"
            ]
          },
          "metadata": {
            "tags": []
          },
          "execution_count": 8
        }
      ]
    },
    {
      "cell_type": "code",
      "metadata": {
        "id": "QOUNuLYOeyT9",
        "outputId": "2e71527e-fb20-43fd-8aab-a359ee570ae9",
        "colab": {
          "base_uri": "https://localhost:8080/",
          "height": 142
        }
      },
      "source": [
        "#name_of_dataframe.tail(n) - returns the last n rows from the dataframe\n",
        "roster_df.tail(3)"
      ],
      "execution_count": 9,
      "outputs": [
        {
          "output_type": "execute_result",
          "data": {
            "text/html": [
              "<div>\n",
              "<style scoped>\n",
              "    .dataframe tbody tr th:only-of-type {\n",
              "        vertical-align: middle;\n",
              "    }\n",
              "\n",
              "    .dataframe tbody tr th {\n",
              "        vertical-align: top;\n",
              "    }\n",
              "\n",
              "    .dataframe thead th {\n",
              "        text-align: right;\n",
              "    }\n",
              "</style>\n",
              "<table border=\"1\" class=\"dataframe\">\n",
              "  <thead>\n",
              "    <tr style=\"text-align: right;\">\n",
              "      <th></th>\n",
              "      <th>First_Name</th>\n",
              "      <th>Major</th>\n",
              "      <th>GPA</th>\n",
              "      <th>Age</th>\n",
              "    </tr>\n",
              "  </thead>\n",
              "  <tbody>\n",
              "    <tr>\n",
              "      <th>7</th>\n",
              "      <td>Mark</td>\n",
              "      <td>History</td>\n",
              "      <td>3.2</td>\n",
              "      <td>31</td>\n",
              "    </tr>\n",
              "    <tr>\n",
              "      <th>8</th>\n",
              "      <td>Liz</td>\n",
              "      <td>Art</td>\n",
              "      <td>3.1</td>\n",
              "      <td>27</td>\n",
              "    </tr>\n",
              "    <tr>\n",
              "      <th>9</th>\n",
              "      <td>Jane</td>\n",
              "      <td>Engineering</td>\n",
              "      <td>3.0</td>\n",
              "      <td>55</td>\n",
              "    </tr>\n",
              "  </tbody>\n",
              "</table>\n",
              "</div>"
            ],
            "text/plain": [
              "  First_Name        Major  GPA  Age\n",
              "7       Mark      History  3.2   31\n",
              "8        Liz          Art  3.1   27\n",
              "9       Jane  Engineering  3.0   55"
            ]
          },
          "metadata": {
            "tags": []
          },
          "execution_count": 9
        }
      ]
    },
    {
      "cell_type": "code",
      "metadata": {
        "id": "4Id314s0fBXk",
        "outputId": "745c2901-b7fa-49c5-b056-388903dba23c",
        "colab": {
          "base_uri": "https://localhost:8080/",
          "height": 34
        }
      },
      "source": [
        "#name_of_dataframe.shape returns a tuple consisting of the number of rows and columns in the dataframe\n",
        "\n",
        "roster_df.shape"
      ],
      "execution_count": 10,
      "outputs": [
        {
          "output_type": "execute_result",
          "data": {
            "text/plain": [
              "(10, 4)"
            ]
          },
          "metadata": {
            "tags": []
          },
          "execution_count": 10
        }
      ]
    },
    {
      "cell_type": "code",
      "metadata": {
        "id": "d1scjcD5fTQT",
        "outputId": "2673c012-3bbc-4b1d-92a9-69f804369ddd",
        "colab": {
          "base_uri": "https://localhost:8080/",
          "height": 34
        }
      },
      "source": [
        "#The first value in the tuple is the number of rows and the last value in the number of columns\n",
        "#Here are finding the number of rows in the dataframe\n",
        "num_rows = roster_df.shape[0]\n",
        "print(num_rows)"
      ],
      "execution_count": 11,
      "outputs": [
        {
          "output_type": "stream",
          "text": [
            "10\n"
          ],
          "name": "stdout"
        }
      ]
    },
    {
      "cell_type": "code",
      "metadata": {
        "id": "h3aY8iwIiYnO",
        "outputId": "6a8126a2-b661-4bd6-9d46-2e4d6832d344",
        "colab": {
          "base_uri": "https://localhost:8080/",
          "height": 173
        }
      },
      "source": [
        "#name_of_dataframe.T returns a transpose of the dataframe. Note: This change is not permanent \n",
        "roster_df.T"
      ],
      "execution_count": 12,
      "outputs": [
        {
          "output_type": "execute_result",
          "data": {
            "text/html": [
              "<div>\n",
              "<style scoped>\n",
              "    .dataframe tbody tr th:only-of-type {\n",
              "        vertical-align: middle;\n",
              "    }\n",
              "\n",
              "    .dataframe tbody tr th {\n",
              "        vertical-align: top;\n",
              "    }\n",
              "\n",
              "    .dataframe thead th {\n",
              "        text-align: right;\n",
              "    }\n",
              "</style>\n",
              "<table border=\"1\" class=\"dataframe\">\n",
              "  <thead>\n",
              "    <tr style=\"text-align: right;\">\n",
              "      <th></th>\n",
              "      <th>0</th>\n",
              "      <th>1</th>\n",
              "      <th>2</th>\n",
              "      <th>3</th>\n",
              "      <th>4</th>\n",
              "      <th>5</th>\n",
              "      <th>6</th>\n",
              "      <th>7</th>\n",
              "      <th>8</th>\n",
              "      <th>9</th>\n",
              "    </tr>\n",
              "  </thead>\n",
              "  <tbody>\n",
              "    <tr>\n",
              "      <th>First_Name</th>\n",
              "      <td>Bob</td>\n",
              "      <td>Alice</td>\n",
              "      <td>Joe</td>\n",
              "      <td>Mike</td>\n",
              "      <td>Lisa</td>\n",
              "      <td>Alan</td>\n",
              "      <td>Eli</td>\n",
              "      <td>Mark</td>\n",
              "      <td>Liz</td>\n",
              "      <td>Jane</td>\n",
              "    </tr>\n",
              "    <tr>\n",
              "      <th>Major</th>\n",
              "      <td>Accounting</td>\n",
              "      <td>Finance</td>\n",
              "      <td>Math</td>\n",
              "      <td>Art</td>\n",
              "      <td>Engineering</td>\n",
              "      <td>Biology</td>\n",
              "      <td>Physics</td>\n",
              "      <td>History</td>\n",
              "      <td>Art</td>\n",
              "      <td>Engineering</td>\n",
              "    </tr>\n",
              "    <tr>\n",
              "      <th>GPA</th>\n",
              "      <td>3.5</td>\n",
              "      <td>3.8</td>\n",
              "      <td>3.2</td>\n",
              "      <td>3.7</td>\n",
              "      <td>4</td>\n",
              "      <td>3.5</td>\n",
              "      <td>3.8</td>\n",
              "      <td>3.2</td>\n",
              "      <td>3.1</td>\n",
              "      <td>3</td>\n",
              "    </tr>\n",
              "    <tr>\n",
              "      <th>Age</th>\n",
              "      <td>22</td>\n",
              "      <td>23</td>\n",
              "      <td>31</td>\n",
              "      <td>40</td>\n",
              "      <td>25</td>\n",
              "      <td>22</td>\n",
              "      <td>33</td>\n",
              "      <td>31</td>\n",
              "      <td>27</td>\n",
              "      <td>55</td>\n",
              "    </tr>\n",
              "  </tbody>\n",
              "</table>\n",
              "</div>"
            ],
            "text/plain": [
              "                     0        1     2     3  ...        6        7    8            9\n",
              "First_Name         Bob    Alice   Joe  Mike  ...      Eli     Mark  Liz         Jane\n",
              "Major       Accounting  Finance  Math   Art  ...  Physics  History  Art  Engineering\n",
              "GPA                3.5      3.8   3.2   3.7  ...      3.8      3.2  3.1            3\n",
              "Age                 22       23    31    40  ...       33       31   27           55\n",
              "\n",
              "[4 rows x 10 columns]"
            ]
          },
          "metadata": {
            "tags": []
          },
          "execution_count": 12
        }
      ]
    },
    {
      "cell_type": "code",
      "metadata": {
        "id": "x7Mk8bkwi9uS",
        "outputId": "adc99d28-eca4-4598-9c1a-da4ee3e4f6cc",
        "colab": {
          "base_uri": "https://localhost:8080/",
          "height": 359
        }
      },
      "source": [
        "#name_of_dataframe.sort_value(by='name_of_column', ascending=False) - allows us to sort a dataframe by a particular column, the ascending parameter \n",
        "#indicates whether we are sorting in ascending order or not\n",
        "roster_df.sort_values(by='GPA', ascending= False)"
      ],
      "execution_count": 13,
      "outputs": [
        {
          "output_type": "execute_result",
          "data": {
            "text/html": [
              "<div>\n",
              "<style scoped>\n",
              "    .dataframe tbody tr th:only-of-type {\n",
              "        vertical-align: middle;\n",
              "    }\n",
              "\n",
              "    .dataframe tbody tr th {\n",
              "        vertical-align: top;\n",
              "    }\n",
              "\n",
              "    .dataframe thead th {\n",
              "        text-align: right;\n",
              "    }\n",
              "</style>\n",
              "<table border=\"1\" class=\"dataframe\">\n",
              "  <thead>\n",
              "    <tr style=\"text-align: right;\">\n",
              "      <th></th>\n",
              "      <th>First_Name</th>\n",
              "      <th>Major</th>\n",
              "      <th>GPA</th>\n",
              "      <th>Age</th>\n",
              "    </tr>\n",
              "  </thead>\n",
              "  <tbody>\n",
              "    <tr>\n",
              "      <th>4</th>\n",
              "      <td>Lisa</td>\n",
              "      <td>Engineering</td>\n",
              "      <td>4.0</td>\n",
              "      <td>25</td>\n",
              "    </tr>\n",
              "    <tr>\n",
              "      <th>1</th>\n",
              "      <td>Alice</td>\n",
              "      <td>Finance</td>\n",
              "      <td>3.8</td>\n",
              "      <td>23</td>\n",
              "    </tr>\n",
              "    <tr>\n",
              "      <th>6</th>\n",
              "      <td>Eli</td>\n",
              "      <td>Physics</td>\n",
              "      <td>3.8</td>\n",
              "      <td>33</td>\n",
              "    </tr>\n",
              "    <tr>\n",
              "      <th>3</th>\n",
              "      <td>Mike</td>\n",
              "      <td>Art</td>\n",
              "      <td>3.7</td>\n",
              "      <td>40</td>\n",
              "    </tr>\n",
              "    <tr>\n",
              "      <th>0</th>\n",
              "      <td>Bob</td>\n",
              "      <td>Accounting</td>\n",
              "      <td>3.5</td>\n",
              "      <td>22</td>\n",
              "    </tr>\n",
              "    <tr>\n",
              "      <th>5</th>\n",
              "      <td>Alan</td>\n",
              "      <td>Biology</td>\n",
              "      <td>3.5</td>\n",
              "      <td>22</td>\n",
              "    </tr>\n",
              "    <tr>\n",
              "      <th>2</th>\n",
              "      <td>Joe</td>\n",
              "      <td>Math</td>\n",
              "      <td>3.2</td>\n",
              "      <td>31</td>\n",
              "    </tr>\n",
              "    <tr>\n",
              "      <th>7</th>\n",
              "      <td>Mark</td>\n",
              "      <td>History</td>\n",
              "      <td>3.2</td>\n",
              "      <td>31</td>\n",
              "    </tr>\n",
              "    <tr>\n",
              "      <th>8</th>\n",
              "      <td>Liz</td>\n",
              "      <td>Art</td>\n",
              "      <td>3.1</td>\n",
              "      <td>27</td>\n",
              "    </tr>\n",
              "    <tr>\n",
              "      <th>9</th>\n",
              "      <td>Jane</td>\n",
              "      <td>Engineering</td>\n",
              "      <td>3.0</td>\n",
              "      <td>55</td>\n",
              "    </tr>\n",
              "  </tbody>\n",
              "</table>\n",
              "</div>"
            ],
            "text/plain": [
              "  First_Name        Major  GPA  Age\n",
              "4       Lisa  Engineering  4.0   25\n",
              "1      Alice      Finance  3.8   23\n",
              "6        Eli      Physics  3.8   33\n",
              "3       Mike          Art  3.7   40\n",
              "0        Bob   Accounting  3.5   22\n",
              "5       Alan      Biology  3.5   22\n",
              "2        Joe         Math  3.2   31\n",
              "7       Mark      History  3.2   31\n",
              "8        Liz          Art  3.1   27\n",
              "9       Jane  Engineering  3.0   55"
            ]
          },
          "metadata": {
            "tags": []
          },
          "execution_count": 13
        }
      ]
    },
    {
      "cell_type": "code",
      "metadata": {
        "id": "oikZ3TekjIYZ",
        "outputId": "583fd2a4-8845-4086-d739-81bb412b73ca",
        "colab": {
          "base_uri": "https://localhost:8080/",
          "height": 204
        }
      },
      "source": [
        "#Displaying the values in a column\n",
        "#name_of_dataframe['name_of_column]\n",
        "roster_df['GPA']"
      ],
      "execution_count": 14,
      "outputs": [
        {
          "output_type": "execute_result",
          "data": {
            "text/plain": [
              "0    3.5\n",
              "1    3.8\n",
              "2    3.2\n",
              "3    3.7\n",
              "4    4.0\n",
              "5    3.5\n",
              "6    3.8\n",
              "7    3.2\n",
              "8    3.1\n",
              "9    3.0\n",
              "Name: GPA, dtype: float64"
            ]
          },
          "metadata": {
            "tags": []
          },
          "execution_count": 14
        }
      ]
    },
    {
      "cell_type": "code",
      "metadata": {
        "id": "8E5Wrs96jwCE",
        "outputId": "8b15f730-8937-4428-a447-eb400635c5fa",
        "colab": {
          "base_uri": "https://localhost:8080/",
          "height": 142
        }
      },
      "source": [
        "#Displaying rows in a dataframe\n",
        "#name_of_dataframe[start:end]\n",
        "#NOTE: YOU CAN ALSO USE LOC OR ILOC\n",
        "roster_df[2:5]"
      ],
      "execution_count": 15,
      "outputs": [
        {
          "output_type": "execute_result",
          "data": {
            "text/html": [
              "<div>\n",
              "<style scoped>\n",
              "    .dataframe tbody tr th:only-of-type {\n",
              "        vertical-align: middle;\n",
              "    }\n",
              "\n",
              "    .dataframe tbody tr th {\n",
              "        vertical-align: top;\n",
              "    }\n",
              "\n",
              "    .dataframe thead th {\n",
              "        text-align: right;\n",
              "    }\n",
              "</style>\n",
              "<table border=\"1\" class=\"dataframe\">\n",
              "  <thead>\n",
              "    <tr style=\"text-align: right;\">\n",
              "      <th></th>\n",
              "      <th>First_Name</th>\n",
              "      <th>Major</th>\n",
              "      <th>GPA</th>\n",
              "      <th>Age</th>\n",
              "    </tr>\n",
              "  </thead>\n",
              "  <tbody>\n",
              "    <tr>\n",
              "      <th>2</th>\n",
              "      <td>Joe</td>\n",
              "      <td>Math</td>\n",
              "      <td>3.2</td>\n",
              "      <td>31</td>\n",
              "    </tr>\n",
              "    <tr>\n",
              "      <th>3</th>\n",
              "      <td>Mike</td>\n",
              "      <td>Art</td>\n",
              "      <td>3.7</td>\n",
              "      <td>40</td>\n",
              "    </tr>\n",
              "    <tr>\n",
              "      <th>4</th>\n",
              "      <td>Lisa</td>\n",
              "      <td>Engineering</td>\n",
              "      <td>4.0</td>\n",
              "      <td>25</td>\n",
              "    </tr>\n",
              "  </tbody>\n",
              "</table>\n",
              "</div>"
            ],
            "text/plain": [
              "  First_Name        Major  GPA  Age\n",
              "2        Joe         Math  3.2   31\n",
              "3       Mike          Art  3.7   40\n",
              "4       Lisa  Engineering  4.0   25"
            ]
          },
          "metadata": {
            "tags": []
          },
          "execution_count": 15
        }
      ]
    },
    {
      "cell_type": "code",
      "metadata": {
        "id": "iCqMrOh8kgm_",
        "outputId": "2f6c260c-3bb5-41fa-d122-852bef1bafda",
        "colab": {
          "base_uri": "https://localhost:8080/",
          "height": 173
        }
      },
      "source": [
        "#Filtering a dataframe - ONE WAY OF DOING THINGS\n",
        "#You can also use a filter mask\n",
        "roster_df[roster_df['GPA'] < 3.5]\n"
      ],
      "execution_count": 16,
      "outputs": [
        {
          "output_type": "execute_result",
          "data": {
            "text/html": [
              "<div>\n",
              "<style scoped>\n",
              "    .dataframe tbody tr th:only-of-type {\n",
              "        vertical-align: middle;\n",
              "    }\n",
              "\n",
              "    .dataframe tbody tr th {\n",
              "        vertical-align: top;\n",
              "    }\n",
              "\n",
              "    .dataframe thead th {\n",
              "        text-align: right;\n",
              "    }\n",
              "</style>\n",
              "<table border=\"1\" class=\"dataframe\">\n",
              "  <thead>\n",
              "    <tr style=\"text-align: right;\">\n",
              "      <th></th>\n",
              "      <th>First_Name</th>\n",
              "      <th>Major</th>\n",
              "      <th>GPA</th>\n",
              "      <th>Age</th>\n",
              "    </tr>\n",
              "  </thead>\n",
              "  <tbody>\n",
              "    <tr>\n",
              "      <th>2</th>\n",
              "      <td>Joe</td>\n",
              "      <td>Math</td>\n",
              "      <td>3.2</td>\n",
              "      <td>31</td>\n",
              "    </tr>\n",
              "    <tr>\n",
              "      <th>7</th>\n",
              "      <td>Mark</td>\n",
              "      <td>History</td>\n",
              "      <td>3.2</td>\n",
              "      <td>31</td>\n",
              "    </tr>\n",
              "    <tr>\n",
              "      <th>8</th>\n",
              "      <td>Liz</td>\n",
              "      <td>Art</td>\n",
              "      <td>3.1</td>\n",
              "      <td>27</td>\n",
              "    </tr>\n",
              "    <tr>\n",
              "      <th>9</th>\n",
              "      <td>Jane</td>\n",
              "      <td>Engineering</td>\n",
              "      <td>3.0</td>\n",
              "      <td>55</td>\n",
              "    </tr>\n",
              "  </tbody>\n",
              "</table>\n",
              "</div>"
            ],
            "text/plain": [
              "  First_Name        Major  GPA  Age\n",
              "2        Joe         Math  3.2   31\n",
              "7       Mark      History  3.2   31\n",
              "8        Liz          Art  3.1   27\n",
              "9       Jane  Engineering  3.0   55"
            ]
          },
          "metadata": {
            "tags": []
          },
          "execution_count": 16
        }
      ]
    },
    {
      "cell_type": "code",
      "metadata": {
        "id": "6ii5Prv1j8sG",
        "outputId": "e47f5ea3-3a13-4e8d-84df-8c570acbd78c",
        "colab": {
          "base_uri": "https://localhost:8080/",
          "height": 142
        }
      },
      "source": [
        "#Using integer locate -iloc - to access records from particular rows and columns\n",
        "#name_of_dataframe.iloc[[list of rows],[list of column indexes]]\n",
        "roster_df.iloc[[1,2,3],[1,2]]"
      ],
      "execution_count": 17,
      "outputs": [
        {
          "output_type": "execute_result",
          "data": {
            "text/html": [
              "<div>\n",
              "<style scoped>\n",
              "    .dataframe tbody tr th:only-of-type {\n",
              "        vertical-align: middle;\n",
              "    }\n",
              "\n",
              "    .dataframe tbody tr th {\n",
              "        vertical-align: top;\n",
              "    }\n",
              "\n",
              "    .dataframe thead th {\n",
              "        text-align: right;\n",
              "    }\n",
              "</style>\n",
              "<table border=\"1\" class=\"dataframe\">\n",
              "  <thead>\n",
              "    <tr style=\"text-align: right;\">\n",
              "      <th></th>\n",
              "      <th>Major</th>\n",
              "      <th>GPA</th>\n",
              "    </tr>\n",
              "  </thead>\n",
              "  <tbody>\n",
              "    <tr>\n",
              "      <th>1</th>\n",
              "      <td>Finance</td>\n",
              "      <td>3.8</td>\n",
              "    </tr>\n",
              "    <tr>\n",
              "      <th>2</th>\n",
              "      <td>Math</td>\n",
              "      <td>3.2</td>\n",
              "    </tr>\n",
              "    <tr>\n",
              "      <th>3</th>\n",
              "      <td>Art</td>\n",
              "      <td>3.7</td>\n",
              "    </tr>\n",
              "  </tbody>\n",
              "</table>\n",
              "</div>"
            ],
            "text/plain": [
              "     Major  GPA\n",
              "1  Finance  3.8\n",
              "2     Math  3.2\n",
              "3      Art  3.7"
            ]
          },
          "metadata": {
            "tags": []
          },
          "execution_count": 17
        }
      ]
    },
    {
      "cell_type": "code",
      "metadata": {
        "id": "Egj-ZiFIP5AF",
        "outputId": "ed14ae9d-06af-4211-a6cc-a522fabf0645",
        "colab": {
          "base_uri": "https://localhost:8080/",
          "height": 142
        }
      },
      "source": [
        "#Using iloc to display the 2nd through 4th rows in the dataframe\n",
        "roster_df.iloc[2:5]"
      ],
      "execution_count": 40,
      "outputs": [
        {
          "output_type": "execute_result",
          "data": {
            "text/html": [
              "<div>\n",
              "<style scoped>\n",
              "    .dataframe tbody tr th:only-of-type {\n",
              "        vertical-align: middle;\n",
              "    }\n",
              "\n",
              "    .dataframe tbody tr th {\n",
              "        vertical-align: top;\n",
              "    }\n",
              "\n",
              "    .dataframe thead th {\n",
              "        text-align: right;\n",
              "    }\n",
              "</style>\n",
              "<table border=\"1\" class=\"dataframe\">\n",
              "  <thead>\n",
              "    <tr style=\"text-align: right;\">\n",
              "      <th></th>\n",
              "      <th>Name</th>\n",
              "      <th>Major</th>\n",
              "      <th>GPA</th>\n",
              "      <th>Age</th>\n",
              "    </tr>\n",
              "  </thead>\n",
              "  <tbody>\n",
              "    <tr>\n",
              "      <th>2</th>\n",
              "      <td>Joe</td>\n",
              "      <td>Chemistry</td>\n",
              "      <td>3.2</td>\n",
              "      <td>31</td>\n",
              "    </tr>\n",
              "    <tr>\n",
              "      <th>3</th>\n",
              "      <td>Mike</td>\n",
              "      <td>Art</td>\n",
              "      <td>3.7</td>\n",
              "      <td>40</td>\n",
              "    </tr>\n",
              "    <tr>\n",
              "      <th>4</th>\n",
              "      <td>Lisa</td>\n",
              "      <td>Engineering</td>\n",
              "      <td>4.0</td>\n",
              "      <td>25</td>\n",
              "    </tr>\n",
              "  </tbody>\n",
              "</table>\n",
              "</div>"
            ],
            "text/plain": [
              "   Name        Major  GPA  Age\n",
              "2   Joe    Chemistry  3.2   31\n",
              "3  Mike          Art  3.7   40\n",
              "4  Lisa  Engineering  4.0   25"
            ]
          },
          "metadata": {
            "tags": []
          },
          "execution_count": 40
        }
      ]
    },
    {
      "cell_type": "code",
      "metadata": {
        "id": "RWuSby-ULm_j",
        "outputId": "3e8f7784-2271-446a-9cab-2662e0d35de0",
        "colab": {
          "base_uri": "https://localhost:8080/",
          "height": 359
        }
      },
      "source": [
        "#Just printing the dataframe to remind ourselves of the contents. No special operation done here.\n",
        "roster_df"
      ],
      "execution_count": 18,
      "outputs": [
        {
          "output_type": "execute_result",
          "data": {
            "text/html": [
              "<div>\n",
              "<style scoped>\n",
              "    .dataframe tbody tr th:only-of-type {\n",
              "        vertical-align: middle;\n",
              "    }\n",
              "\n",
              "    .dataframe tbody tr th {\n",
              "        vertical-align: top;\n",
              "    }\n",
              "\n",
              "    .dataframe thead th {\n",
              "        text-align: right;\n",
              "    }\n",
              "</style>\n",
              "<table border=\"1\" class=\"dataframe\">\n",
              "  <thead>\n",
              "    <tr style=\"text-align: right;\">\n",
              "      <th></th>\n",
              "      <th>First_Name</th>\n",
              "      <th>Major</th>\n",
              "      <th>GPA</th>\n",
              "      <th>Age</th>\n",
              "    </tr>\n",
              "  </thead>\n",
              "  <tbody>\n",
              "    <tr>\n",
              "      <th>0</th>\n",
              "      <td>Bob</td>\n",
              "      <td>Accounting</td>\n",
              "      <td>3.5</td>\n",
              "      <td>22</td>\n",
              "    </tr>\n",
              "    <tr>\n",
              "      <th>1</th>\n",
              "      <td>Alice</td>\n",
              "      <td>Finance</td>\n",
              "      <td>3.8</td>\n",
              "      <td>23</td>\n",
              "    </tr>\n",
              "    <tr>\n",
              "      <th>2</th>\n",
              "      <td>Joe</td>\n",
              "      <td>Math</td>\n",
              "      <td>3.2</td>\n",
              "      <td>31</td>\n",
              "    </tr>\n",
              "    <tr>\n",
              "      <th>3</th>\n",
              "      <td>Mike</td>\n",
              "      <td>Art</td>\n",
              "      <td>3.7</td>\n",
              "      <td>40</td>\n",
              "    </tr>\n",
              "    <tr>\n",
              "      <th>4</th>\n",
              "      <td>Lisa</td>\n",
              "      <td>Engineering</td>\n",
              "      <td>4.0</td>\n",
              "      <td>25</td>\n",
              "    </tr>\n",
              "    <tr>\n",
              "      <th>5</th>\n",
              "      <td>Alan</td>\n",
              "      <td>Biology</td>\n",
              "      <td>3.5</td>\n",
              "      <td>22</td>\n",
              "    </tr>\n",
              "    <tr>\n",
              "      <th>6</th>\n",
              "      <td>Eli</td>\n",
              "      <td>Physics</td>\n",
              "      <td>3.8</td>\n",
              "      <td>33</td>\n",
              "    </tr>\n",
              "    <tr>\n",
              "      <th>7</th>\n",
              "      <td>Mark</td>\n",
              "      <td>History</td>\n",
              "      <td>3.2</td>\n",
              "      <td>31</td>\n",
              "    </tr>\n",
              "    <tr>\n",
              "      <th>8</th>\n",
              "      <td>Liz</td>\n",
              "      <td>Art</td>\n",
              "      <td>3.1</td>\n",
              "      <td>27</td>\n",
              "    </tr>\n",
              "    <tr>\n",
              "      <th>9</th>\n",
              "      <td>Jane</td>\n",
              "      <td>Engineering</td>\n",
              "      <td>3.0</td>\n",
              "      <td>55</td>\n",
              "    </tr>\n",
              "  </tbody>\n",
              "</table>\n",
              "</div>"
            ],
            "text/plain": [
              "  First_Name        Major  GPA  Age\n",
              "0        Bob   Accounting  3.5   22\n",
              "1      Alice      Finance  3.8   23\n",
              "2        Joe         Math  3.2   31\n",
              "3       Mike          Art  3.7   40\n",
              "4       Lisa  Engineering  4.0   25\n",
              "5       Alan      Biology  3.5   22\n",
              "6        Eli      Physics  3.8   33\n",
              "7       Mark      History  3.2   31\n",
              "8        Liz          Art  3.1   27\n",
              "9       Jane  Engineering  3.0   55"
            ]
          },
          "metadata": {
            "tags": []
          },
          "execution_count": 18
        }
      ]
    },
    {
      "cell_type": "code",
      "metadata": {
        "id": "KNaNVlX6PG08",
        "outputId": "b04212ff-ee32-49e1-d101-8abd3f428eaf",
        "colab": {
          "base_uri": "https://localhost:8080/",
          "height": 390
        }
      },
      "source": [
        "#Adding a temporary index to a dataframe\n",
        "roster_df.set_index(\"First_Name\")"
      ],
      "execution_count": 21,
      "outputs": [
        {
          "output_type": "execute_result",
          "data": {
            "text/html": [
              "<div>\n",
              "<style scoped>\n",
              "    .dataframe tbody tr th:only-of-type {\n",
              "        vertical-align: middle;\n",
              "    }\n",
              "\n",
              "    .dataframe tbody tr th {\n",
              "        vertical-align: top;\n",
              "    }\n",
              "\n",
              "    .dataframe thead th {\n",
              "        text-align: right;\n",
              "    }\n",
              "</style>\n",
              "<table border=\"1\" class=\"dataframe\">\n",
              "  <thead>\n",
              "    <tr style=\"text-align: right;\">\n",
              "      <th></th>\n",
              "      <th>Major</th>\n",
              "      <th>GPA</th>\n",
              "      <th>Age</th>\n",
              "    </tr>\n",
              "    <tr>\n",
              "      <th>First_Name</th>\n",
              "      <th></th>\n",
              "      <th></th>\n",
              "      <th></th>\n",
              "    </tr>\n",
              "  </thead>\n",
              "  <tbody>\n",
              "    <tr>\n",
              "      <th>Bob</th>\n",
              "      <td>Accounting</td>\n",
              "      <td>3.5</td>\n",
              "      <td>22</td>\n",
              "    </tr>\n",
              "    <tr>\n",
              "      <th>Alice</th>\n",
              "      <td>Finance</td>\n",
              "      <td>3.8</td>\n",
              "      <td>23</td>\n",
              "    </tr>\n",
              "    <tr>\n",
              "      <th>Joe</th>\n",
              "      <td>Math</td>\n",
              "      <td>3.2</td>\n",
              "      <td>31</td>\n",
              "    </tr>\n",
              "    <tr>\n",
              "      <th>Mike</th>\n",
              "      <td>Art</td>\n",
              "      <td>3.7</td>\n",
              "      <td>40</td>\n",
              "    </tr>\n",
              "    <tr>\n",
              "      <th>Lisa</th>\n",
              "      <td>Engineering</td>\n",
              "      <td>4.0</td>\n",
              "      <td>25</td>\n",
              "    </tr>\n",
              "    <tr>\n",
              "      <th>Alan</th>\n",
              "      <td>Biology</td>\n",
              "      <td>3.5</td>\n",
              "      <td>22</td>\n",
              "    </tr>\n",
              "    <tr>\n",
              "      <th>Eli</th>\n",
              "      <td>Physics</td>\n",
              "      <td>3.8</td>\n",
              "      <td>33</td>\n",
              "    </tr>\n",
              "    <tr>\n",
              "      <th>Mark</th>\n",
              "      <td>History</td>\n",
              "      <td>3.2</td>\n",
              "      <td>31</td>\n",
              "    </tr>\n",
              "    <tr>\n",
              "      <th>Liz</th>\n",
              "      <td>Art</td>\n",
              "      <td>3.1</td>\n",
              "      <td>27</td>\n",
              "    </tr>\n",
              "    <tr>\n",
              "      <th>Jane</th>\n",
              "      <td>Engineering</td>\n",
              "      <td>3.0</td>\n",
              "      <td>55</td>\n",
              "    </tr>\n",
              "  </tbody>\n",
              "</table>\n",
              "</div>"
            ],
            "text/plain": [
              "                  Major  GPA  Age\n",
              "First_Name                       \n",
              "Bob          Accounting  3.5   22\n",
              "Alice           Finance  3.8   23\n",
              "Joe                Math  3.2   31\n",
              "Mike                Art  3.7   40\n",
              "Lisa        Engineering  4.0   25\n",
              "Alan            Biology  3.5   22\n",
              "Eli             Physics  3.8   33\n",
              "Mark            History  3.2   31\n",
              "Liz                 Art  3.1   27\n",
              "Jane        Engineering  3.0   55"
            ]
          },
          "metadata": {
            "tags": []
          },
          "execution_count": 21
        }
      ]
    },
    {
      "cell_type": "code",
      "metadata": {
        "id": "lYXT7_OPPbbm",
        "outputId": "f024743a-e863-4f28-ebf0-962066c0ab41",
        "colab": {
          "base_uri": "https://localhost:8080/",
          "height": 359
        }
      },
      "source": [
        "#Note the dataframe reverts to its original indexes since the change above was temporary\n",
        "roster_df"
      ],
      "execution_count": 24,
      "outputs": [
        {
          "output_type": "execute_result",
          "data": {
            "text/html": [
              "<div>\n",
              "<style scoped>\n",
              "    .dataframe tbody tr th:only-of-type {\n",
              "        vertical-align: middle;\n",
              "    }\n",
              "\n",
              "    .dataframe tbody tr th {\n",
              "        vertical-align: top;\n",
              "    }\n",
              "\n",
              "    .dataframe thead th {\n",
              "        text-align: right;\n",
              "    }\n",
              "</style>\n",
              "<table border=\"1\" class=\"dataframe\">\n",
              "  <thead>\n",
              "    <tr style=\"text-align: right;\">\n",
              "      <th></th>\n",
              "      <th>First_Name</th>\n",
              "      <th>Major</th>\n",
              "      <th>GPA</th>\n",
              "      <th>Age</th>\n",
              "    </tr>\n",
              "  </thead>\n",
              "  <tbody>\n",
              "    <tr>\n",
              "      <th>0</th>\n",
              "      <td>Bob</td>\n",
              "      <td>Accounting</td>\n",
              "      <td>3.5</td>\n",
              "      <td>22</td>\n",
              "    </tr>\n",
              "    <tr>\n",
              "      <th>1</th>\n",
              "      <td>Alice</td>\n",
              "      <td>Finance</td>\n",
              "      <td>3.8</td>\n",
              "      <td>23</td>\n",
              "    </tr>\n",
              "    <tr>\n",
              "      <th>2</th>\n",
              "      <td>Joe</td>\n",
              "      <td>Math</td>\n",
              "      <td>3.2</td>\n",
              "      <td>31</td>\n",
              "    </tr>\n",
              "    <tr>\n",
              "      <th>3</th>\n",
              "      <td>Mike</td>\n",
              "      <td>Art</td>\n",
              "      <td>3.7</td>\n",
              "      <td>40</td>\n",
              "    </tr>\n",
              "    <tr>\n",
              "      <th>4</th>\n",
              "      <td>Lisa</td>\n",
              "      <td>Engineering</td>\n",
              "      <td>4.0</td>\n",
              "      <td>25</td>\n",
              "    </tr>\n",
              "    <tr>\n",
              "      <th>5</th>\n",
              "      <td>Alan</td>\n",
              "      <td>Biology</td>\n",
              "      <td>3.5</td>\n",
              "      <td>22</td>\n",
              "    </tr>\n",
              "    <tr>\n",
              "      <th>6</th>\n",
              "      <td>Eli</td>\n",
              "      <td>Physics</td>\n",
              "      <td>3.8</td>\n",
              "      <td>33</td>\n",
              "    </tr>\n",
              "    <tr>\n",
              "      <th>7</th>\n",
              "      <td>Mark</td>\n",
              "      <td>History</td>\n",
              "      <td>3.2</td>\n",
              "      <td>31</td>\n",
              "    </tr>\n",
              "    <tr>\n",
              "      <th>8</th>\n",
              "      <td>Liz</td>\n",
              "      <td>Art</td>\n",
              "      <td>3.1</td>\n",
              "      <td>27</td>\n",
              "    </tr>\n",
              "    <tr>\n",
              "      <th>9</th>\n",
              "      <td>Jane</td>\n",
              "      <td>Engineering</td>\n",
              "      <td>3.0</td>\n",
              "      <td>55</td>\n",
              "    </tr>\n",
              "  </tbody>\n",
              "</table>\n",
              "</div>"
            ],
            "text/plain": [
              "  First_Name        Major  GPA  Age\n",
              "0        Bob   Accounting  3.5   22\n",
              "1      Alice      Finance  3.8   23\n",
              "2        Joe         Math  3.2   31\n",
              "3       Mike          Art  3.7   40\n",
              "4       Lisa  Engineering  4.0   25\n",
              "5       Alan      Biology  3.5   22\n",
              "6        Eli      Physics  3.8   33\n",
              "7       Mark      History  3.2   31\n",
              "8        Liz          Art  3.1   27\n",
              "9       Jane  Engineering  3.0   55"
            ]
          },
          "metadata": {
            "tags": []
          },
          "execution_count": 24
        }
      ]
    },
    {
      "cell_type": "code",
      "metadata": {
        "id": "Ep-1kta-QvsV"
      },
      "source": [
        "#Adding a permanent index to a dataframe\n",
        "#name_of_dataframe.set_index(\"Name of column you wish to make the index\", inplace=True)\n",
        "roster_df.set_index(\"First_Name\", inplace=True)"
      ],
      "execution_count": 25,
      "outputs": []
    },
    {
      "cell_type": "code",
      "metadata": {
        "id": "Ly_QPYM1RdRU",
        "outputId": "8a742a65-56e2-446b-c86e-7847dc577444",
        "colab": {
          "base_uri": "https://localhost:8080/",
          "height": 390
        }
      },
      "source": [
        "#Now the index change is permanent\n",
        "roster_df"
      ],
      "execution_count": 27,
      "outputs": [
        {
          "output_type": "execute_result",
          "data": {
            "text/html": [
              "<div>\n",
              "<style scoped>\n",
              "    .dataframe tbody tr th:only-of-type {\n",
              "        vertical-align: middle;\n",
              "    }\n",
              "\n",
              "    .dataframe tbody tr th {\n",
              "        vertical-align: top;\n",
              "    }\n",
              "\n",
              "    .dataframe thead th {\n",
              "        text-align: right;\n",
              "    }\n",
              "</style>\n",
              "<table border=\"1\" class=\"dataframe\">\n",
              "  <thead>\n",
              "    <tr style=\"text-align: right;\">\n",
              "      <th></th>\n",
              "      <th>Major</th>\n",
              "      <th>GPA</th>\n",
              "      <th>Age</th>\n",
              "    </tr>\n",
              "    <tr>\n",
              "      <th>First_Name</th>\n",
              "      <th></th>\n",
              "      <th></th>\n",
              "      <th></th>\n",
              "    </tr>\n",
              "  </thead>\n",
              "  <tbody>\n",
              "    <tr>\n",
              "      <th>Bob</th>\n",
              "      <td>Accounting</td>\n",
              "      <td>3.5</td>\n",
              "      <td>22</td>\n",
              "    </tr>\n",
              "    <tr>\n",
              "      <th>Alice</th>\n",
              "      <td>Finance</td>\n",
              "      <td>3.8</td>\n",
              "      <td>23</td>\n",
              "    </tr>\n",
              "    <tr>\n",
              "      <th>Joe</th>\n",
              "      <td>Math</td>\n",
              "      <td>3.2</td>\n",
              "      <td>31</td>\n",
              "    </tr>\n",
              "    <tr>\n",
              "      <th>Mike</th>\n",
              "      <td>Art</td>\n",
              "      <td>3.7</td>\n",
              "      <td>40</td>\n",
              "    </tr>\n",
              "    <tr>\n",
              "      <th>Lisa</th>\n",
              "      <td>Engineering</td>\n",
              "      <td>4.0</td>\n",
              "      <td>25</td>\n",
              "    </tr>\n",
              "    <tr>\n",
              "      <th>Alan</th>\n",
              "      <td>Biology</td>\n",
              "      <td>3.5</td>\n",
              "      <td>22</td>\n",
              "    </tr>\n",
              "    <tr>\n",
              "      <th>Eli</th>\n",
              "      <td>Physics</td>\n",
              "      <td>3.8</td>\n",
              "      <td>33</td>\n",
              "    </tr>\n",
              "    <tr>\n",
              "      <th>Mark</th>\n",
              "      <td>History</td>\n",
              "      <td>3.2</td>\n",
              "      <td>31</td>\n",
              "    </tr>\n",
              "    <tr>\n",
              "      <th>Liz</th>\n",
              "      <td>Art</td>\n",
              "      <td>3.1</td>\n",
              "      <td>27</td>\n",
              "    </tr>\n",
              "    <tr>\n",
              "      <th>Jane</th>\n",
              "      <td>Engineering</td>\n",
              "      <td>3.0</td>\n",
              "      <td>55</td>\n",
              "    </tr>\n",
              "  </tbody>\n",
              "</table>\n",
              "</div>"
            ],
            "text/plain": [
              "                  Major  GPA  Age\n",
              "First_Name                       \n",
              "Bob          Accounting  3.5   22\n",
              "Alice           Finance  3.8   23\n",
              "Joe                Math  3.2   31\n",
              "Mike                Art  3.7   40\n",
              "Lisa        Engineering  4.0   25\n",
              "Alan            Biology  3.5   22\n",
              "Eli             Physics  3.8   33\n",
              "Mark            History  3.2   31\n",
              "Liz                 Art  3.1   27\n",
              "Jane        Engineering  3.0   55"
            ]
          },
          "metadata": {
            "tags": []
          },
          "execution_count": 27
        }
      ]
    },
    {
      "cell_type": "code",
      "metadata": {
        "id": "yoLZCL1tRemH",
        "outputId": "c0060eaa-5310-40b8-d023-59a20c211325",
        "colab": {
          "base_uri": "https://localhost:8080/",
          "height": 68
        }
      },
      "source": [
        "#Viewing all the indexes in the dataframe\n",
        "#name_of_dataframe.index\n",
        "roster_df.index"
      ],
      "execution_count": 28,
      "outputs": [
        {
          "output_type": "execute_result",
          "data": {
            "text/plain": [
              "Index(['Bob', 'Alice', 'Joe', 'Mike', 'Lisa', 'Alan', 'Eli', 'Mark', 'Liz',\n",
              "       'Jane'],\n",
              "      dtype='object', name='First_Name')"
            ]
          },
          "metadata": {
            "tags": []
          },
          "execution_count": 28
        }
      ]
    },
    {
      "cell_type": "markdown",
      "metadata": {
        "id": "N_Pi35dnQLVA"
      },
      "source": [
        "NOTE THE DIFFERENCE BETWEEN loc and iloc: loc is used to 'locate' rows by indexes. Such indexes can be integers, strings,etc. By default, all rows are given zero based numerical indexes. For example, row 1 has an index of 0, row 2 has an index of 1, etc.\n",
        "\n",
        "iloc is used to locate rows by their numerical position in a dataframe regardless of what their indexes are.\n"
      ]
    },
    {
      "cell_type": "code",
      "metadata": {
        "id": "oIAfi276QwLq",
        "outputId": "465068ff-3a80-4694-f51f-029a7a4756b6",
        "colab": {
          "base_uri": "https://localhost:8080/",
          "height": 142
        }
      },
      "source": [
        "#Note that iloc returns the 1st, 2nd, 3rd rows even though the index has been changed!\n",
        "roster_df.iloc[1:4]"
      ],
      "execution_count": 44,
      "outputs": [
        {
          "output_type": "execute_result",
          "data": {
            "text/html": [
              "<div>\n",
              "<style scoped>\n",
              "    .dataframe tbody tr th:only-of-type {\n",
              "        vertical-align: middle;\n",
              "    }\n",
              "\n",
              "    .dataframe tbody tr th {\n",
              "        vertical-align: top;\n",
              "    }\n",
              "\n",
              "    .dataframe thead th {\n",
              "        text-align: right;\n",
              "    }\n",
              "</style>\n",
              "<table border=\"1\" class=\"dataframe\">\n",
              "  <thead>\n",
              "    <tr style=\"text-align: right;\">\n",
              "      <th></th>\n",
              "      <th>Name</th>\n",
              "      <th>Major</th>\n",
              "      <th>GPA</th>\n",
              "      <th>Age</th>\n",
              "    </tr>\n",
              "  </thead>\n",
              "  <tbody>\n",
              "    <tr>\n",
              "      <th>1</th>\n",
              "      <td>Alice</td>\n",
              "      <td>Finance</td>\n",
              "      <td>3.8</td>\n",
              "      <td>23</td>\n",
              "    </tr>\n",
              "    <tr>\n",
              "      <th>2</th>\n",
              "      <td>Joe</td>\n",
              "      <td>Chemistry</td>\n",
              "      <td>3.2</td>\n",
              "      <td>31</td>\n",
              "    </tr>\n",
              "    <tr>\n",
              "      <th>3</th>\n",
              "      <td>Mike</td>\n",
              "      <td>Art</td>\n",
              "      <td>3.7</td>\n",
              "      <td>40</td>\n",
              "    </tr>\n",
              "  </tbody>\n",
              "</table>\n",
              "</div>"
            ],
            "text/plain": [
              "    Name      Major  GPA  Age\n",
              "1  Alice    Finance  3.8   23\n",
              "2    Joe  Chemistry  3.2   31\n",
              "3   Mike        Art  3.7   40"
            ]
          },
          "metadata": {
            "tags": []
          },
          "execution_count": 44
        }
      ]
    },
    {
      "cell_type": "code",
      "metadata": {
        "id": "oxwmLtqKR9pV",
        "outputId": "fc74dd48-8f46-4e6b-acd3-c970c332b673",
        "colab": {
          "base_uri": "https://localhost:8080/",
          "height": 85
        }
      },
      "source": [
        "#Locating record by a particular index\n",
        "#name_of_dataframe.loc['Name of Index']\n",
        "roster_df.loc['Alan']"
      ],
      "execution_count": 29,
      "outputs": [
        {
          "output_type": "execute_result",
          "data": {
            "text/plain": [
              "Major    Biology\n",
              "GPA          3.5\n",
              "Age           22\n",
              "Name: Alan, dtype: object"
            ]
          },
          "metadata": {
            "tags": []
          },
          "execution_count": 29
        }
      ]
    },
    {
      "cell_type": "code",
      "metadata": {
        "id": "ztbhTvyPT1CP",
        "outputId": "6d925011-4215-4e9b-e46f-8304bfab6eed",
        "colab": {
          "base_uri": "https://localhost:8080/",
          "height": 34
        }
      },
      "source": [
        "#Viewing the individual cell associated with a particular index\n",
        "#name_of_dataframe.loc['name-of-index', 'column_name']\n",
        "\n",
        "roster_df.loc['Alan', 'GPA']"
      ],
      "execution_count": 30,
      "outputs": [
        {
          "output_type": "execute_result",
          "data": {
            "text/plain": [
              "3.5"
            ]
          },
          "metadata": {
            "tags": []
          },
          "execution_count": 30
        }
      ]
    },
    {
      "cell_type": "code",
      "metadata": {
        "id": "k-z2w_rJXpev",
        "outputId": "99dc7361-da55-4075-93cd-6019d45f6337",
        "colab": {
          "base_uri": "https://localhost:8080/",
          "height": 390
        }
      },
      "source": [
        "#Sorting the indexes in descending order\n",
        "#name_of_dataframe.sort_index(ascending=False)\n",
        "roster_df.sort_index(ascending=False)"
      ],
      "execution_count": 31,
      "outputs": [
        {
          "output_type": "execute_result",
          "data": {
            "text/html": [
              "<div>\n",
              "<style scoped>\n",
              "    .dataframe tbody tr th:only-of-type {\n",
              "        vertical-align: middle;\n",
              "    }\n",
              "\n",
              "    .dataframe tbody tr th {\n",
              "        vertical-align: top;\n",
              "    }\n",
              "\n",
              "    .dataframe thead th {\n",
              "        text-align: right;\n",
              "    }\n",
              "</style>\n",
              "<table border=\"1\" class=\"dataframe\">\n",
              "  <thead>\n",
              "    <tr style=\"text-align: right;\">\n",
              "      <th></th>\n",
              "      <th>Major</th>\n",
              "      <th>GPA</th>\n",
              "      <th>Age</th>\n",
              "    </tr>\n",
              "    <tr>\n",
              "      <th>First_Name</th>\n",
              "      <th></th>\n",
              "      <th></th>\n",
              "      <th></th>\n",
              "    </tr>\n",
              "  </thead>\n",
              "  <tbody>\n",
              "    <tr>\n",
              "      <th>Mike</th>\n",
              "      <td>Art</td>\n",
              "      <td>3.7</td>\n",
              "      <td>40</td>\n",
              "    </tr>\n",
              "    <tr>\n",
              "      <th>Mark</th>\n",
              "      <td>History</td>\n",
              "      <td>3.2</td>\n",
              "      <td>31</td>\n",
              "    </tr>\n",
              "    <tr>\n",
              "      <th>Liz</th>\n",
              "      <td>Art</td>\n",
              "      <td>3.1</td>\n",
              "      <td>27</td>\n",
              "    </tr>\n",
              "    <tr>\n",
              "      <th>Lisa</th>\n",
              "      <td>Engineering</td>\n",
              "      <td>4.0</td>\n",
              "      <td>25</td>\n",
              "    </tr>\n",
              "    <tr>\n",
              "      <th>Joe</th>\n",
              "      <td>Math</td>\n",
              "      <td>3.2</td>\n",
              "      <td>31</td>\n",
              "    </tr>\n",
              "    <tr>\n",
              "      <th>Jane</th>\n",
              "      <td>Engineering</td>\n",
              "      <td>3.0</td>\n",
              "      <td>55</td>\n",
              "    </tr>\n",
              "    <tr>\n",
              "      <th>Eli</th>\n",
              "      <td>Physics</td>\n",
              "      <td>3.8</td>\n",
              "      <td>33</td>\n",
              "    </tr>\n",
              "    <tr>\n",
              "      <th>Bob</th>\n",
              "      <td>Accounting</td>\n",
              "      <td>3.5</td>\n",
              "      <td>22</td>\n",
              "    </tr>\n",
              "    <tr>\n",
              "      <th>Alice</th>\n",
              "      <td>Finance</td>\n",
              "      <td>3.8</td>\n",
              "      <td>23</td>\n",
              "    </tr>\n",
              "    <tr>\n",
              "      <th>Alan</th>\n",
              "      <td>Biology</td>\n",
              "      <td>3.5</td>\n",
              "      <td>22</td>\n",
              "    </tr>\n",
              "  </tbody>\n",
              "</table>\n",
              "</div>"
            ],
            "text/plain": [
              "                  Major  GPA  Age\n",
              "First_Name                       \n",
              "Mike                Art  3.7   40\n",
              "Mark            History  3.2   31\n",
              "Liz                 Art  3.1   27\n",
              "Lisa        Engineering  4.0   25\n",
              "Joe                Math  3.2   31\n",
              "Jane        Engineering  3.0   55\n",
              "Eli             Physics  3.8   33\n",
              "Bob          Accounting  3.5   22\n",
              "Alice           Finance  3.8   23\n",
              "Alan            Biology  3.5   22"
            ]
          },
          "metadata": {
            "tags": []
          },
          "execution_count": 31
        }
      ]
    },
    {
      "cell_type": "code",
      "metadata": {
        "id": "YCrgNElxU94m",
        "outputId": "946c2775-7671-4ad4-96d8-3a93f78f99f4",
        "colab": {
          "base_uri": "https://localhost:8080/",
          "height": 359
        }
      },
      "source": [
        "#Resetting a dataframe back to the original index\n",
        "#name_of_dataframe.reset_index(inplace=True)\n",
        "roster_df.reset_index(inplace=True)\n",
        "roster_df"
      ],
      "execution_count": 32,
      "outputs": [
        {
          "output_type": "execute_result",
          "data": {
            "text/html": [
              "<div>\n",
              "<style scoped>\n",
              "    .dataframe tbody tr th:only-of-type {\n",
              "        vertical-align: middle;\n",
              "    }\n",
              "\n",
              "    .dataframe tbody tr th {\n",
              "        vertical-align: top;\n",
              "    }\n",
              "\n",
              "    .dataframe thead th {\n",
              "        text-align: right;\n",
              "    }\n",
              "</style>\n",
              "<table border=\"1\" class=\"dataframe\">\n",
              "  <thead>\n",
              "    <tr style=\"text-align: right;\">\n",
              "      <th></th>\n",
              "      <th>First_Name</th>\n",
              "      <th>Major</th>\n",
              "      <th>GPA</th>\n",
              "      <th>Age</th>\n",
              "    </tr>\n",
              "  </thead>\n",
              "  <tbody>\n",
              "    <tr>\n",
              "      <th>0</th>\n",
              "      <td>Bob</td>\n",
              "      <td>Accounting</td>\n",
              "      <td>3.5</td>\n",
              "      <td>22</td>\n",
              "    </tr>\n",
              "    <tr>\n",
              "      <th>1</th>\n",
              "      <td>Alice</td>\n",
              "      <td>Finance</td>\n",
              "      <td>3.8</td>\n",
              "      <td>23</td>\n",
              "    </tr>\n",
              "    <tr>\n",
              "      <th>2</th>\n",
              "      <td>Joe</td>\n",
              "      <td>Math</td>\n",
              "      <td>3.2</td>\n",
              "      <td>31</td>\n",
              "    </tr>\n",
              "    <tr>\n",
              "      <th>3</th>\n",
              "      <td>Mike</td>\n",
              "      <td>Art</td>\n",
              "      <td>3.7</td>\n",
              "      <td>40</td>\n",
              "    </tr>\n",
              "    <tr>\n",
              "      <th>4</th>\n",
              "      <td>Lisa</td>\n",
              "      <td>Engineering</td>\n",
              "      <td>4.0</td>\n",
              "      <td>25</td>\n",
              "    </tr>\n",
              "    <tr>\n",
              "      <th>5</th>\n",
              "      <td>Alan</td>\n",
              "      <td>Biology</td>\n",
              "      <td>3.5</td>\n",
              "      <td>22</td>\n",
              "    </tr>\n",
              "    <tr>\n",
              "      <th>6</th>\n",
              "      <td>Eli</td>\n",
              "      <td>Physics</td>\n",
              "      <td>3.8</td>\n",
              "      <td>33</td>\n",
              "    </tr>\n",
              "    <tr>\n",
              "      <th>7</th>\n",
              "      <td>Mark</td>\n",
              "      <td>History</td>\n",
              "      <td>3.2</td>\n",
              "      <td>31</td>\n",
              "    </tr>\n",
              "    <tr>\n",
              "      <th>8</th>\n",
              "      <td>Liz</td>\n",
              "      <td>Art</td>\n",
              "      <td>3.1</td>\n",
              "      <td>27</td>\n",
              "    </tr>\n",
              "    <tr>\n",
              "      <th>9</th>\n",
              "      <td>Jane</td>\n",
              "      <td>Engineering</td>\n",
              "      <td>3.0</td>\n",
              "      <td>55</td>\n",
              "    </tr>\n",
              "  </tbody>\n",
              "</table>\n",
              "</div>"
            ],
            "text/plain": [
              "  First_Name        Major  GPA  Age\n",
              "0        Bob   Accounting  3.5   22\n",
              "1      Alice      Finance  3.8   23\n",
              "2        Joe         Math  3.2   31\n",
              "3       Mike          Art  3.7   40\n",
              "4       Lisa  Engineering  4.0   25\n",
              "5       Alan      Biology  3.5   22\n",
              "6        Eli      Physics  3.8   33\n",
              "7       Mark      History  3.2   31\n",
              "8        Liz          Art  3.1   27\n",
              "9       Jane  Engineering  3.0   55"
            ]
          },
          "metadata": {
            "tags": []
          },
          "execution_count": 32
        }
      ]
    },
    {
      "cell_type": "code",
      "metadata": {
        "id": "PKh-_IJ6VoxX",
        "outputId": "557f3c7a-8b26-4e49-bcbf-b44d7c6e0116",
        "colab": {
          "base_uri": "https://localhost:8080/",
          "height": 204
        }
      },
      "source": [
        "#Here is what happens when you create a conditional statement\n",
        "#Below we are trying to find all the records where the major is art\n",
        "#Conditions like the one below are assigned to a filter mask\n",
        "roster_df['Major'] == 'Art'"
      ],
      "execution_count": 33,
      "outputs": [
        {
          "output_type": "execute_result",
          "data": {
            "text/plain": [
              "0    False\n",
              "1    False\n",
              "2    False\n",
              "3     True\n",
              "4    False\n",
              "5    False\n",
              "6    False\n",
              "7    False\n",
              "8     True\n",
              "9    False\n",
              "Name: Major, dtype: bool"
            ]
          },
          "metadata": {
            "tags": []
          },
          "execution_count": 33
        }
      ]
    },
    {
      "cell_type": "code",
      "metadata": {
        "id": "IPeinn1ggbP9"
      },
      "source": [
        "#Assigning a condition to a filter mask\n",
        "filter_mask = roster_df['Major'] == 'Art'"
      ],
      "execution_count": 34,
      "outputs": []
    },
    {
      "cell_type": "code",
      "metadata": {
        "id": "YrbS6VYthSXW",
        "outputId": "ac5f9515-432c-4960-c43a-5ef7d7eed0a2",
        "colab": {
          "base_uri": "https://localhost:8080/",
          "height": 111
        }
      },
      "source": [
        "#Applying the filter mask to a dataframe\n",
        "roster_df[filter_mask]"
      ],
      "execution_count": 35,
      "outputs": [
        {
          "output_type": "execute_result",
          "data": {
            "text/html": [
              "<div>\n",
              "<style scoped>\n",
              "    .dataframe tbody tr th:only-of-type {\n",
              "        vertical-align: middle;\n",
              "    }\n",
              "\n",
              "    .dataframe tbody tr th {\n",
              "        vertical-align: top;\n",
              "    }\n",
              "\n",
              "    .dataframe thead th {\n",
              "        text-align: right;\n",
              "    }\n",
              "</style>\n",
              "<table border=\"1\" class=\"dataframe\">\n",
              "  <thead>\n",
              "    <tr style=\"text-align: right;\">\n",
              "      <th></th>\n",
              "      <th>First_Name</th>\n",
              "      <th>Major</th>\n",
              "      <th>GPA</th>\n",
              "      <th>Age</th>\n",
              "    </tr>\n",
              "  </thead>\n",
              "  <tbody>\n",
              "    <tr>\n",
              "      <th>3</th>\n",
              "      <td>Mike</td>\n",
              "      <td>Art</td>\n",
              "      <td>3.7</td>\n",
              "      <td>40</td>\n",
              "    </tr>\n",
              "    <tr>\n",
              "      <th>8</th>\n",
              "      <td>Liz</td>\n",
              "      <td>Art</td>\n",
              "      <td>3.1</td>\n",
              "      <td>27</td>\n",
              "    </tr>\n",
              "  </tbody>\n",
              "</table>\n",
              "</div>"
            ],
            "text/plain": [
              "  First_Name Major  GPA  Age\n",
              "3       Mike   Art  3.7   40\n",
              "8        Liz   Art  3.1   27"
            ]
          },
          "metadata": {
            "tags": []
          },
          "execution_count": 35
        }
      ]
    },
    {
      "cell_type": "code",
      "metadata": {
        "id": "wvIyPgi6hn5L",
        "outputId": "754dd0b2-5ce8-49c4-c7a6-4aca66f3e764",
        "colab": {
          "base_uri": "https://localhost:8080/",
          "height": 68
        }
      },
      "source": [
        "#Using loc to \"Filter within a filter mask\"\n",
        "#Here we are displaying all age records from those which were described in the filter mask\n",
        "#NOTE: .loc can also be used with a filter mask\n",
        "roster_df.loc[filter_mask, \"Age\"]"
      ],
      "execution_count": 36,
      "outputs": [
        {
          "output_type": "execute_result",
          "data": {
            "text/plain": [
              "3    40\n",
              "8    27\n",
              "Name: Age, dtype: int64"
            ]
          },
          "metadata": {
            "tags": []
          },
          "execution_count": 36
        }
      ]
    },
    {
      "cell_type": "code",
      "metadata": {
        "id": "kf-uRxejiMNz",
        "outputId": "a2893bca-1168-4ac0-9b27-f9a13e8c29de",
        "colab": {
          "base_uri": "https://localhost:8080/",
          "height": 80
        }
      },
      "source": [
        "#A filter mask with a more complex condition\n",
        "filter_mask = (roster_df['Major'] == 'Art') & (roster_df['Age'] > 30)\n",
        "#NOTE: .loc can also be used with a filter mask\n",
        "roster_df.loc[filter_mask]"
      ],
      "execution_count": 37,
      "outputs": [
        {
          "output_type": "execute_result",
          "data": {
            "text/html": [
              "<div>\n",
              "<style scoped>\n",
              "    .dataframe tbody tr th:only-of-type {\n",
              "        vertical-align: middle;\n",
              "    }\n",
              "\n",
              "    .dataframe tbody tr th {\n",
              "        vertical-align: top;\n",
              "    }\n",
              "\n",
              "    .dataframe thead th {\n",
              "        text-align: right;\n",
              "    }\n",
              "</style>\n",
              "<table border=\"1\" class=\"dataframe\">\n",
              "  <thead>\n",
              "    <tr style=\"text-align: right;\">\n",
              "      <th></th>\n",
              "      <th>First_Name</th>\n",
              "      <th>Major</th>\n",
              "      <th>GPA</th>\n",
              "      <th>Age</th>\n",
              "    </tr>\n",
              "  </thead>\n",
              "  <tbody>\n",
              "    <tr>\n",
              "      <th>3</th>\n",
              "      <td>Mike</td>\n",
              "      <td>Art</td>\n",
              "      <td>3.7</td>\n",
              "      <td>40</td>\n",
              "    </tr>\n",
              "  </tbody>\n",
              "</table>\n",
              "</div>"
            ],
            "text/plain": [
              "  First_Name Major  GPA  Age\n",
              "3       Mike   Art  3.7   40"
            ]
          },
          "metadata": {
            "tags": []
          },
          "execution_count": 37
        }
      ]
    },
    {
      "cell_type": "code",
      "metadata": {
        "id": "K099WwU9urJu",
        "outputId": "614279f8-7f48-4c3c-9db5-3358147f20bc",
        "colab": {
          "base_uri": "https://localhost:8080/",
          "height": 359
        }
      },
      "source": [
        "#Just printing the dataframe to remind ourselves of the contents. No special operation done here.\n",
        "\n",
        "roster_df"
      ],
      "execution_count": 38,
      "outputs": [
        {
          "output_type": "execute_result",
          "data": {
            "text/html": [
              "<div>\n",
              "<style scoped>\n",
              "    .dataframe tbody tr th:only-of-type {\n",
              "        vertical-align: middle;\n",
              "    }\n",
              "\n",
              "    .dataframe tbody tr th {\n",
              "        vertical-align: top;\n",
              "    }\n",
              "\n",
              "    .dataframe thead th {\n",
              "        text-align: right;\n",
              "    }\n",
              "</style>\n",
              "<table border=\"1\" class=\"dataframe\">\n",
              "  <thead>\n",
              "    <tr style=\"text-align: right;\">\n",
              "      <th></th>\n",
              "      <th>First_Name</th>\n",
              "      <th>Major</th>\n",
              "      <th>GPA</th>\n",
              "      <th>Age</th>\n",
              "    </tr>\n",
              "  </thead>\n",
              "  <tbody>\n",
              "    <tr>\n",
              "      <th>0</th>\n",
              "      <td>Bob</td>\n",
              "      <td>Accounting</td>\n",
              "      <td>3.5</td>\n",
              "      <td>22</td>\n",
              "    </tr>\n",
              "    <tr>\n",
              "      <th>1</th>\n",
              "      <td>Alice</td>\n",
              "      <td>Finance</td>\n",
              "      <td>3.8</td>\n",
              "      <td>23</td>\n",
              "    </tr>\n",
              "    <tr>\n",
              "      <th>2</th>\n",
              "      <td>Joe</td>\n",
              "      <td>Math</td>\n",
              "      <td>3.2</td>\n",
              "      <td>31</td>\n",
              "    </tr>\n",
              "    <tr>\n",
              "      <th>3</th>\n",
              "      <td>Mike</td>\n",
              "      <td>Art</td>\n",
              "      <td>3.7</td>\n",
              "      <td>40</td>\n",
              "    </tr>\n",
              "    <tr>\n",
              "      <th>4</th>\n",
              "      <td>Lisa</td>\n",
              "      <td>Engineering</td>\n",
              "      <td>4.0</td>\n",
              "      <td>25</td>\n",
              "    </tr>\n",
              "    <tr>\n",
              "      <th>5</th>\n",
              "      <td>Alan</td>\n",
              "      <td>Biology</td>\n",
              "      <td>3.5</td>\n",
              "      <td>22</td>\n",
              "    </tr>\n",
              "    <tr>\n",
              "      <th>6</th>\n",
              "      <td>Eli</td>\n",
              "      <td>Physics</td>\n",
              "      <td>3.8</td>\n",
              "      <td>33</td>\n",
              "    </tr>\n",
              "    <tr>\n",
              "      <th>7</th>\n",
              "      <td>Mark</td>\n",
              "      <td>History</td>\n",
              "      <td>3.2</td>\n",
              "      <td>31</td>\n",
              "    </tr>\n",
              "    <tr>\n",
              "      <th>8</th>\n",
              "      <td>Liz</td>\n",
              "      <td>Art</td>\n",
              "      <td>3.1</td>\n",
              "      <td>27</td>\n",
              "    </tr>\n",
              "    <tr>\n",
              "      <th>9</th>\n",
              "      <td>Jane</td>\n",
              "      <td>Engineering</td>\n",
              "      <td>3.0</td>\n",
              "      <td>55</td>\n",
              "    </tr>\n",
              "  </tbody>\n",
              "</table>\n",
              "</div>"
            ],
            "text/plain": [
              "  First_Name        Major  GPA  Age\n",
              "0        Bob   Accounting  3.5   22\n",
              "1      Alice      Finance  3.8   23\n",
              "2        Joe         Math  3.2   31\n",
              "3       Mike          Art  3.7   40\n",
              "4       Lisa  Engineering  4.0   25\n",
              "5       Alan      Biology  3.5   22\n",
              "6        Eli      Physics  3.8   33\n",
              "7       Mark      History  3.2   31\n",
              "8        Liz          Art  3.1   27\n",
              "9       Jane  Engineering  3.0   55"
            ]
          },
          "metadata": {
            "tags": []
          },
          "execution_count": 38
        }
      ]
    },
    {
      "cell_type": "code",
      "metadata": {
        "id": "gREFxCkIDadc",
        "outputId": "571da059-f5a7-417d-e062-2abb893b3d43",
        "colab": {
          "base_uri": "https://localhost:8080/",
          "height": 669
        }
      },
      "source": [
        "#Merging two data frames vertically, one on top of the other\n",
        "roster1 = {\"Name\" : [\"Bob\", \"Alice\", \"Joe\", \"Mike\", \"Lisa\", \"Alan\", \"Eli\", \"Mark\", \"Liz\", \"Jane\"],\n",
        "          \"Major\": [\"Accounting\", \"Finance\", \"Chemistry\", \"Art\", \"Engineering\", \"Biology\", \"Physics\", \"History\", \"Art\", \"Engineering\"],\n",
        "          \"GPA\": [3.5, 3.8, 3.2, 3.7, 4.0, 3.5, 3.8, 3.2, 3.1, 3.0],\n",
        "          \"Age\": [22, 23, 31, 40, 25, 22, 33, 31, 27, 55]          \n",
        "          }\n",
        "\n",
        "roster1_df = pd.DataFrame(roster1)\n",
        "\n",
        "roster2 = {\"Name\" : [\"Bob\", \"Alice\", \"Joe\", \"Mike\", \"Lisa\", \"Alan\", \"Eli\", \"Mark\", \"Liz\", \"Jane\"],\n",
        "          \"Major\": [\"Accounting\", \"Finance\", \"Chemistry\", \"Art\", \"Engineering\", \"Biology\", \"Physics\", \"History\", \"Art\", \"Engineering\"],\n",
        "          \"GPA\": [3.5, 3.8, 3.2, 3.7, 4.0, 3.5, 3.8, 3.2, 3.1, 3.0],\n",
        "          \"Age\": [22, 23, 31, 40, 25, 22, 33, 31, 27, 55]          \n",
        "          }\n",
        "\n",
        "roster2_df = pd.DataFrame(roster2)\n",
        "\n",
        "#Note to use of pd.concat and the list of dataframes to be merged\n",
        "\n",
        "roster_df = pd.concat([roster1_df,roster2_df] )\n",
        "\n",
        "roster_df"
      ],
      "execution_count": 39,
      "outputs": [
        {
          "output_type": "execute_result",
          "data": {
            "text/html": [
              "<div>\n",
              "<style scoped>\n",
              "    .dataframe tbody tr th:only-of-type {\n",
              "        vertical-align: middle;\n",
              "    }\n",
              "\n",
              "    .dataframe tbody tr th {\n",
              "        vertical-align: top;\n",
              "    }\n",
              "\n",
              "    .dataframe thead th {\n",
              "        text-align: right;\n",
              "    }\n",
              "</style>\n",
              "<table border=\"1\" class=\"dataframe\">\n",
              "  <thead>\n",
              "    <tr style=\"text-align: right;\">\n",
              "      <th></th>\n",
              "      <th>Name</th>\n",
              "      <th>Major</th>\n",
              "      <th>GPA</th>\n",
              "      <th>Age</th>\n",
              "    </tr>\n",
              "  </thead>\n",
              "  <tbody>\n",
              "    <tr>\n",
              "      <th>0</th>\n",
              "      <td>Bob</td>\n",
              "      <td>Accounting</td>\n",
              "      <td>3.5</td>\n",
              "      <td>22</td>\n",
              "    </tr>\n",
              "    <tr>\n",
              "      <th>1</th>\n",
              "      <td>Alice</td>\n",
              "      <td>Finance</td>\n",
              "      <td>3.8</td>\n",
              "      <td>23</td>\n",
              "    </tr>\n",
              "    <tr>\n",
              "      <th>2</th>\n",
              "      <td>Joe</td>\n",
              "      <td>Chemistry</td>\n",
              "      <td>3.2</td>\n",
              "      <td>31</td>\n",
              "    </tr>\n",
              "    <tr>\n",
              "      <th>3</th>\n",
              "      <td>Mike</td>\n",
              "      <td>Art</td>\n",
              "      <td>3.7</td>\n",
              "      <td>40</td>\n",
              "    </tr>\n",
              "    <tr>\n",
              "      <th>4</th>\n",
              "      <td>Lisa</td>\n",
              "      <td>Engineering</td>\n",
              "      <td>4.0</td>\n",
              "      <td>25</td>\n",
              "    </tr>\n",
              "    <tr>\n",
              "      <th>5</th>\n",
              "      <td>Alan</td>\n",
              "      <td>Biology</td>\n",
              "      <td>3.5</td>\n",
              "      <td>22</td>\n",
              "    </tr>\n",
              "    <tr>\n",
              "      <th>6</th>\n",
              "      <td>Eli</td>\n",
              "      <td>Physics</td>\n",
              "      <td>3.8</td>\n",
              "      <td>33</td>\n",
              "    </tr>\n",
              "    <tr>\n",
              "      <th>7</th>\n",
              "      <td>Mark</td>\n",
              "      <td>History</td>\n",
              "      <td>3.2</td>\n",
              "      <td>31</td>\n",
              "    </tr>\n",
              "    <tr>\n",
              "      <th>8</th>\n",
              "      <td>Liz</td>\n",
              "      <td>Art</td>\n",
              "      <td>3.1</td>\n",
              "      <td>27</td>\n",
              "    </tr>\n",
              "    <tr>\n",
              "      <th>9</th>\n",
              "      <td>Jane</td>\n",
              "      <td>Engineering</td>\n",
              "      <td>3.0</td>\n",
              "      <td>55</td>\n",
              "    </tr>\n",
              "    <tr>\n",
              "      <th>0</th>\n",
              "      <td>Bob</td>\n",
              "      <td>Accounting</td>\n",
              "      <td>3.5</td>\n",
              "      <td>22</td>\n",
              "    </tr>\n",
              "    <tr>\n",
              "      <th>1</th>\n",
              "      <td>Alice</td>\n",
              "      <td>Finance</td>\n",
              "      <td>3.8</td>\n",
              "      <td>23</td>\n",
              "    </tr>\n",
              "    <tr>\n",
              "      <th>2</th>\n",
              "      <td>Joe</td>\n",
              "      <td>Chemistry</td>\n",
              "      <td>3.2</td>\n",
              "      <td>31</td>\n",
              "    </tr>\n",
              "    <tr>\n",
              "      <th>3</th>\n",
              "      <td>Mike</td>\n",
              "      <td>Art</td>\n",
              "      <td>3.7</td>\n",
              "      <td>40</td>\n",
              "    </tr>\n",
              "    <tr>\n",
              "      <th>4</th>\n",
              "      <td>Lisa</td>\n",
              "      <td>Engineering</td>\n",
              "      <td>4.0</td>\n",
              "      <td>25</td>\n",
              "    </tr>\n",
              "    <tr>\n",
              "      <th>5</th>\n",
              "      <td>Alan</td>\n",
              "      <td>Biology</td>\n",
              "      <td>3.5</td>\n",
              "      <td>22</td>\n",
              "    </tr>\n",
              "    <tr>\n",
              "      <th>6</th>\n",
              "      <td>Eli</td>\n",
              "      <td>Physics</td>\n",
              "      <td>3.8</td>\n",
              "      <td>33</td>\n",
              "    </tr>\n",
              "    <tr>\n",
              "      <th>7</th>\n",
              "      <td>Mark</td>\n",
              "      <td>History</td>\n",
              "      <td>3.2</td>\n",
              "      <td>31</td>\n",
              "    </tr>\n",
              "    <tr>\n",
              "      <th>8</th>\n",
              "      <td>Liz</td>\n",
              "      <td>Art</td>\n",
              "      <td>3.1</td>\n",
              "      <td>27</td>\n",
              "    </tr>\n",
              "    <tr>\n",
              "      <th>9</th>\n",
              "      <td>Jane</td>\n",
              "      <td>Engineering</td>\n",
              "      <td>3.0</td>\n",
              "      <td>55</td>\n",
              "    </tr>\n",
              "  </tbody>\n",
              "</table>\n",
              "</div>"
            ],
            "text/plain": [
              "    Name        Major  GPA  Age\n",
              "0    Bob   Accounting  3.5   22\n",
              "1  Alice      Finance  3.8   23\n",
              "2    Joe    Chemistry  3.2   31\n",
              "3   Mike          Art  3.7   40\n",
              "4   Lisa  Engineering  4.0   25\n",
              "5   Alan      Biology  3.5   22\n",
              "6    Eli      Physics  3.8   33\n",
              "7   Mark      History  3.2   31\n",
              "8    Liz          Art  3.1   27\n",
              "9   Jane  Engineering  3.0   55\n",
              "0    Bob   Accounting  3.5   22\n",
              "1  Alice      Finance  3.8   23\n",
              "2    Joe    Chemistry  3.2   31\n",
              "3   Mike          Art  3.7   40\n",
              "4   Lisa  Engineering  4.0   25\n",
              "5   Alan      Biology  3.5   22\n",
              "6    Eli      Physics  3.8   33\n",
              "7   Mark      History  3.2   31\n",
              "8    Liz          Art  3.1   27\n",
              "9   Jane  Engineering  3.0   55"
            ]
          },
          "metadata": {
            "tags": []
          },
          "execution_count": 39
        }
      ]
    }
  ]
}