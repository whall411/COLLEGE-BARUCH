{
  "nbformat": 4,
  "nbformat_minor": 0,
  "metadata": {
    "colab": {
      "name": "Overhead ISS.ipynb",
      "provenance": [],
      "authorship_tag": "ABX9TyPsyVIrSfh+bF2507kEIed8",
      "include_colab_link": true
    },
    "kernelspec": {
      "name": "python3",
      "display_name": "Python 3"
    }
  },
  "cells": [
    {
      "cell_type": "markdown",
      "metadata": {
        "id": "view-in-github",
        "colab_type": "text"
      },
      "source": [
        "<a href=\"https://colab.research.google.com/github/avinashjairam/avinashjairam.github.io/blob/master/Overhead_ISS.ipynb\" target=\"_parent\"><img src=\"https://colab.research.google.com/assets/colab-badge.svg\" alt=\"Open In Colab\"/></a>"
      ]
    },
    {
      "cell_type": "code",
      "metadata": {
        "id": "6a3eBd-lD8QA"
      },
      "source": [
        " #importing libraries\n",
        "import requests\n",
        "import json\n",
        "from datetime import datetime\n"
      ],
      "execution_count": null,
      "outputs": []
    },
    {
      "cell_type": "code",
      "metadata": {
        "colab": {
          "base_uri": "https://localhost:8080/"
        },
        "id": "6-Lcdet2EBBy",
        "outputId": "cdc39d28-1da7-464c-de86-bd54a28baf48"
      },
      "source": [
        "#setting the coordinates of my location\n",
        "nyc_lat= 40.71\n",
        "nyc_long = -74\n",
        "\n",
        "#specifying the URL of the API and Making the request. Note we the parameters after the '?' \n",
        "response = requests.get(\"http://api.open-notify.org/iss-pass.json?lat=\" + str(nyc_lat) + \" &lon=\" + str(nyc_long) )\n",
        "\n",
        "print(response.status_code)"
      ],
      "execution_count": null,
      "outputs": [
        {
          "output_type": "stream",
          "text": [
            "200\n"
          ],
          "name": "stdout"
        }
      ]
    },
    {
      "cell_type": "code",
      "metadata": {
        "colab": {
          "base_uri": "https://localhost:8080/"
        },
        "id": "By8ffSU7EGUe",
        "outputId": "4130a9de-91a4-4a52-87e3-bf660d77063a"
      },
      "source": [
        "#retrieving the json code\n",
        "data = response.json()\n",
        "data"
      ],
      "execution_count": null,
      "outputs": [
        {
          "output_type": "execute_result",
          "data": {
            "text/plain": [
              "{'message': 'success',\n",
              " 'request': {'altitude': 100,\n",
              "  'datetime': 1605983409,\n",
              "  'latitude': 40.71,\n",
              "  'longitude': -74.0,\n",
              "  'passes': 5},\n",
              " 'response': [{'duration': 427, 'risetime': 1605992043},\n",
              "  {'duration': 649, 'risetime': 1605997700},\n",
              "  {'duration': 618, 'risetime': 1606003537},\n",
              "  {'duration': 560, 'risetime': 1606009429},\n",
              "  {'duration': 602, 'risetime': 1606015277}]}"
            ]
          },
          "metadata": {
            "tags": []
          },
          "execution_count": 17
        }
      ]
    },
    {
      "cell_type": "code",
      "metadata": {
        "colab": {
          "base_uri": "https://localhost:8080/"
        },
        "id": "WtgLH526Eq59",
        "outputId": "29180e5f-e496-41bf-9d20-f33340bcfd41"
      },
      "source": [
        "#Formatting the JSON code so that we can read it\n",
        "formatted_json = json.dumps(data, sort_keys=True, indent=3)\n",
        "print(formatted_json)"
      ],
      "execution_count": null,
      "outputs": [
        {
          "output_type": "stream",
          "text": [
            "{\n",
            "   \"message\": \"success\",\n",
            "   \"request\": {\n",
            "      \"altitude\": 100,\n",
            "      \"datetime\": 1605983409,\n",
            "      \"latitude\": 40.71,\n",
            "      \"longitude\": -74.0,\n",
            "      \"passes\": 5\n",
            "   },\n",
            "   \"response\": [\n",
            "      {\n",
            "         \"duration\": 427,\n",
            "         \"risetime\": 1605992043\n",
            "      },\n",
            "      {\n",
            "         \"duration\": 649,\n",
            "         \"risetime\": 1605997700\n",
            "      },\n",
            "      {\n",
            "         \"duration\": 618,\n",
            "         \"risetime\": 1606003537\n",
            "      },\n",
            "      {\n",
            "         \"duration\": 560,\n",
            "         \"risetime\": 1606009429\n",
            "      },\n",
            "      {\n",
            "         \"duration\": 602,\n",
            "         \"risetime\": 1606015277\n",
            "      }\n",
            "   ]\n",
            "}\n"
          ],
          "name": "stdout"
        }
      ]
    },
    {
      "cell_type": "code",
      "metadata": {
        "colab": {
          "base_uri": "https://localhost:8080/"
        },
        "id": "W_hFGyeGE2dV",
        "outputId": "38cf63ee-986b-446e-e0f7-827d6a669c7f"
      },
      "source": [
        "#Extracting the time/date for when the space station will be above us \n",
        "for x in data['response']:\n",
        "  time = x['risetime']\n",
        "  #Converting the time to 24 HR format\n",
        "  time = datetime.fromtimestamp(time)\n",
        "  print(time)\n",
        "\n"
      ],
      "execution_count": null,
      "outputs": [
        {
          "output_type": "stream",
          "text": [
            "2020-11-21 20:54:03\n",
            "2020-11-21 22:28:20\n",
            "2020-11-22 00:05:37\n",
            "2020-11-22 01:43:49\n",
            "2020-11-22 03:21:17\n"
          ],
          "name": "stdout"
        }
      ]
    },
    {
      "cell_type": "code",
      "metadata": {
        "id": "n_FkhE2NFY19"
      },
      "source": [
        ""
      ],
      "execution_count": null,
      "outputs": []
    }
  ]
}