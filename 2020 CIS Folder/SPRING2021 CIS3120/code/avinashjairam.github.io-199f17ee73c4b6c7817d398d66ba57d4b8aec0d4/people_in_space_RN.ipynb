{
  "nbformat": 4,
  "nbformat_minor": 0,
  "metadata": {
    "colab": {
      "name": "people in space-RN.ipynb",
      "provenance": [],
      "authorship_tag": "ABX9TyNWSurd9XHUt2GzdF2zh9NI",
      "include_colab_link": true
    },
    "kernelspec": {
      "name": "python3",
      "display_name": "Python 3"
    }
  },
  "cells": [
    {
      "cell_type": "markdown",
      "metadata": {
        "id": "view-in-github",
        "colab_type": "text"
      },
      "source": [
        "<a href=\"https://colab.research.google.com/github/avinashjairam/avinashjairam.github.io/blob/master/people_in_space_RN.ipynb\" target=\"_parent\"><img src=\"https://colab.research.google.com/assets/colab-badge.svg\" alt=\"Open In Colab\"/></a>"
      ]
    },
    {
      "cell_type": "code",
      "metadata": {
        "id": "cfAVAPig1XJc"
      },
      "source": [
        "#importing libraries\n",
        "import requests\n",
        "import json"
      ],
      "execution_count": null,
      "outputs": []
    },
    {
      "cell_type": "code",
      "metadata": {
        "colab": {
          "base_uri": "https://localhost:8080/"
        },
        "id": "-pXLt6Sc1qGa",
        "outputId": "e7f06268-aac9-43dd-d090-c1ee9c4293af"
      },
      "source": [
        "#specify the URL (end point) of the API and Making the request\n",
        "response = requests.get(\"http://api.open-notify.org/astros.json\")\n",
        "\n",
        "#Printing the status code\n",
        "print(\"Status Code\", response.status_code,\"\\n\\n\")"
      ],
      "execution_count": null,
      "outputs": [
        {
          "output_type": "stream",
          "text": [
            "Status Code 200 \n",
            "\n",
            "\n"
          ],
          "name": "stdout"
        }
      ]
    },
    {
      "cell_type": "code",
      "metadata": {
        "colab": {
          "base_uri": "https://localhost:8080/"
        },
        "id": "yjYddxVi2DqJ",
        "outputId": "0054ad66-8d5a-490d-9065-4d3a4624fcd0"
      },
      "source": [
        "#retrieving the json sent by the API\n",
        "data = response.json()\n",
        "data"
      ],
      "execution_count": null,
      "outputs": [
        {
          "output_type": "execute_result",
          "data": {
            "text/plain": [
              "{'message': 'success',\n",
              " 'number': 7,\n",
              " 'people': [{'craft': 'ISS', 'name': 'Sergey Ryzhikov'},\n",
              "  {'craft': 'ISS', 'name': 'Kate Rubins'},\n",
              "  {'craft': 'ISS', 'name': 'Sergey Kud-Sverchkov'},\n",
              "  {'craft': 'ISS', 'name': 'Mike Hopkins'},\n",
              "  {'craft': 'ISS', 'name': 'Victor Glover'},\n",
              "  {'craft': 'ISS', 'name': 'Shannon Walker'},\n",
              "  {'craft': 'ISS', 'name': 'Soichi Noguchi'}]}"
            ]
          },
          "metadata": {
            "tags": []
          },
          "execution_count": 9
        }
      ]
    },
    {
      "cell_type": "code",
      "metadata": {
        "colab": {
          "base_uri": "https://localhost:8080/"
        },
        "id": "CrWWI82T2k8d",
        "outputId": "327b5e2b-11ae-4bc1-a262-4e84764c321c"
      },
      "source": [
        "#Output the JSON returned by the API\n",
        "formatted_json = json.dumps(data, sort_keys=True, indent=4)\n",
        "\n",
        "print(formatted_json)"
      ],
      "execution_count": null,
      "outputs": [
        {
          "output_type": "stream",
          "text": [
            "{\n",
            "    \"message\": \"success\",\n",
            "    \"number\": 7,\n",
            "    \"people\": [\n",
            "        {\n",
            "            \"craft\": \"ISS\",\n",
            "            \"name\": \"Sergey Ryzhikov\"\n",
            "        },\n",
            "        {\n",
            "            \"craft\": \"ISS\",\n",
            "            \"name\": \"Kate Rubins\"\n",
            "        },\n",
            "        {\n",
            "            \"craft\": \"ISS\",\n",
            "            \"name\": \"Sergey Kud-Sverchkov\"\n",
            "        },\n",
            "        {\n",
            "            \"craft\": \"ISS\",\n",
            "            \"name\": \"Mike Hopkins\"\n",
            "        },\n",
            "        {\n",
            "            \"craft\": \"ISS\",\n",
            "            \"name\": \"Victor Glover\"\n",
            "        },\n",
            "        {\n",
            "            \"craft\": \"ISS\",\n",
            "            \"name\": \"Shannon Walker\"\n",
            "        },\n",
            "        {\n",
            "            \"craft\": \"ISS\",\n",
            "            \"name\": \"Soichi Noguchi\"\n",
            "        }\n",
            "    ]\n",
            "}\n"
          ],
          "name": "stdout"
        }
      ]
    },
    {
      "cell_type": "code",
      "metadata": {
        "colab": {
          "base_uri": "https://localhost:8080/"
        },
        "id": "uLrK-N6w3xdC",
        "outputId": "fe22b0ea-4144-4395-e9ce-201602c04941"
      },
      "source": [
        "print(formatted_json[10])"
      ],
      "execution_count": null,
      "outputs": [
        {
          "output_type": "stream",
          "text": [
            "s\n"
          ],
          "name": "stdout"
        }
      ]
    },
    {
      "cell_type": "code",
      "metadata": {
        "colab": {
          "base_uri": "https://localhost:8080/"
        },
        "id": "fRZjehU14VHK",
        "outputId": "b73998d1-3d87-41c3-9cff-db113f59df58"
      },
      "source": [
        "data"
      ],
      "execution_count": null,
      "outputs": [
        {
          "output_type": "execute_result",
          "data": {
            "text/plain": [
              "{'message': 'success',\n",
              " 'number': 7,\n",
              " 'people': [{'craft': 'ISS', 'name': 'Sergey Ryzhikov'},\n",
              "  {'craft': 'ISS', 'name': 'Kate Rubins'},\n",
              "  {'craft': 'ISS', 'name': 'Sergey Kud-Sverchkov'},\n",
              "  {'craft': 'ISS', 'name': 'Mike Hopkins'},\n",
              "  {'craft': 'ISS', 'name': 'Victor Glover'},\n",
              "  {'craft': 'ISS', 'name': 'Shannon Walker'},\n",
              "  {'craft': 'ISS', 'name': 'Soichi Noguchi'}]}"
            ]
          },
          "metadata": {
            "tags": []
          },
          "execution_count": 15
        }
      ]
    },
    {
      "cell_type": "code",
      "metadata": {
        "colab": {
          "base_uri": "https://localhost:8080/"
        },
        "id": "98XFO6Oc5A4-",
        "outputId": "3b279caa-5ac6-40fd-d5cf-2ca2db1de43f"
      },
      "source": [
        "people_list = data['people']\n",
        "\n",
        "for x in people_list:\n",
        "  print(x['name'])"
      ],
      "execution_count": null,
      "outputs": [
        {
          "output_type": "stream",
          "text": [
            "Sergey Ryzhikov\n",
            "Kate Rubins\n",
            "Sergey Kud-Sverchkov\n",
            "Mike Hopkins\n",
            "Victor Glover\n",
            "Shannon Walker\n",
            "Soichi Noguchi\n"
          ],
          "name": "stdout"
        }
      ]
    },
    {
      "cell_type": "code",
      "metadata": {
        "id": "y3VJ4wA-5FaE"
      },
      "source": [
        ""
      ],
      "execution_count": null,
      "outputs": []
    }
  ]
}