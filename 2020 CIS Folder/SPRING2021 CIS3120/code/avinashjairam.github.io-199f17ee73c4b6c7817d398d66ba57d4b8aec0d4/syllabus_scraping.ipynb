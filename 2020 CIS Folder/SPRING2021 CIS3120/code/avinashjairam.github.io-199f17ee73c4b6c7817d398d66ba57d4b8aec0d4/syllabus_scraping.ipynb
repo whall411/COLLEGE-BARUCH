{
  "nbformat": 4,
  "nbformat_minor": 0,
  "metadata": {
    "colab": {
      "name": "syllabus_scraping.ipynb",
      "provenance": [],
      "authorship_tag": "ABX9TyN56Yx9RFFFTgdxrPlaGzyE",
      "include_colab_link": true
    },
    "kernelspec": {
      "name": "python3",
      "display_name": "Python 3"
    }
  },
  "cells": [
    {
      "cell_type": "markdown",
      "metadata": {
        "id": "view-in-github",
        "colab_type": "text"
      },
      "source": [
        "<a href=\"https://colab.research.google.com/github/avinashjairam/avinashjairam.github.io/blob/master/syllabus_scraping.ipynb\" target=\"_parent\"><img src=\"https://colab.research.google.com/assets/colab-badge.svg\" alt=\"Open In Colab\"/></a>"
      ]
    },
    {
      "cell_type": "code",
      "metadata": {
        "id": "m0mD3K0FRVfU"
      },
      "source": [
        "#Scraping office hours, website and course description from https://avinashjairam.github.io/syllabus.html\n",
        "import requests\n",
        "from bs4 import BeautifulSoup\n"
      ],
      "execution_count": null,
      "outputs": []
    },
    {
      "cell_type": "code",
      "metadata": {
        "id": "aQFgWVOUR0K1",
        "outputId": "82677ae2-640e-4a95-9ab1-ddb189150d58",
        "colab": {
          "base_uri": "https://localhost:8080/",
          "height": 54
        }
      },
      "source": [
        "URL='https://avinashjairam.github.io/syllabus.html'\n",
        "\n",
        "page = requests.get(URL)\n",
        "print(page.content)"
      ],
      "execution_count": null,
      "outputs": [
        {
          "output_type": "stream",
          "text": [
            "b'<!DOCTYPE html>\\n\\n<html>\\n     <head>\\n\\t<title>CIS 3120 SYLLABUS></title>\\n     </head>\\n\\n\\n\\n      <body>\\n\\t<h4>Instructor:</h4> \\n\\t<p id=\"instructor\"> Mr. Avinash Jairam </p>\\n\\n\\t<h4>Class Time: </h4> \\n\\t<p id =\"time\"> Saturday: 11:10AM - 2:05PM - ONLINE via BlackBoard Collaborate </p>\\n\\n\\t<h4>Office hours:</h4> \\n\\t<p id = \"office_hours\"> Saturday: 10:00AM - 11:00AM </p>\\n\\n\\t<h4>Email:</h4>\\n        <p id=\"email\"> avinash.jairam@baruch.cuny.edu </p>\\n\\n\\t<h4>Course Website :</h4> \\n\\t<p id=\"website\"> Blackboard</p>\\n\\n\\t<h4>Course Description:</h4>\\n\\t<p id=\"description\">\\n\\t This course introduces the aspects of programming that can\\n\\tsupport business analytics. The course covers hands-on issues in programming for\\n\\tanalytics which include accessing data, \\n\\tcreating informative data graphics, writing functions, \\n\\tdebugging, and organizing and commenting code.</p>\\n\\n      </body>\\n\\n\\n</html>'\n"
          ],
          "name": "stdout"
        }
      ]
    },
    {
      "cell_type": "code",
      "metadata": {
        "id": "n6xWLKMJWWTM"
      },
      "source": [
        "soup = BeautifulSoup(page.content, 'html.parser')"
      ],
      "execution_count": null,
      "outputs": []
    },
    {
      "cell_type": "code",
      "metadata": {
        "id": "K0ZDPgFWSnLV",
        "outputId": "bc43c93a-032a-4d04-c3fe-3779de45dbe0",
        "colab": {
          "base_uri": "https://localhost:8080/",
          "height": 867
        }
      },
      "source": [
        "print(soup.prettify())"
      ],
      "execution_count": null,
      "outputs": [
        {
          "output_type": "stream",
          "text": [
            "<!DOCTYPE html>\n",
            "<html>\n",
            " <head>\n",
            "  <title>\n",
            "   CIS 3120 SYLLABUS&gt;\n",
            "  </title>\n",
            " </head>\n",
            " <body>\n",
            "  <h4>\n",
            "   Instructor:\n",
            "  </h4>\n",
            "  <p id=\"instructor\">\n",
            "   Mr. Avinash Jairam\n",
            "  </p>\n",
            "  <h4>\n",
            "   Class Time:\n",
            "  </h4>\n",
            "  <p id=\"time\">\n",
            "   Saturday: 11:10AM - 2:05PM - ONLINE via BlackBoard Collaborate\n",
            "  </p>\n",
            "  <h4>\n",
            "   Office hours:\n",
            "  </h4>\n",
            "  <p id=\"office_hours\">\n",
            "   Saturday: 10:00AM - 11:00AM\n",
            "  </p>\n",
            "  <h4>\n",
            "   Email:\n",
            "  </h4>\n",
            "  <p id=\"email\">\n",
            "   avinash.jairam@baruch.cuny.edu\n",
            "  </p>\n",
            "  <h4>\n",
            "   Course Website :\n",
            "  </h4>\n",
            "  <p id=\"website\">\n",
            "   Blackboard\n",
            "  </p>\n",
            "  <h4>\n",
            "   Course Description:\n",
            "  </h4>\n",
            "  <p id=\"description\">\n",
            "   This course introduces the aspects of programming that can\n",
            "\tsupport business analytics. The course covers hands-on issues in programming for\n",
            "\tanalytics which include accessing data, \n",
            "\tcreating informative data graphics, writing functions, \n",
            "\tdebugging, and organizing and commenting code.\n",
            "  </p>\n",
            " </body>\n",
            "</html>\n"
          ],
          "name": "stdout"
        }
      ]
    },
    {
      "cell_type": "code",
      "metadata": {
        "id": "XHIwcO6RS1AS"
      },
      "source": [
        "office_hours= list(soup.find_all('p', id=\"office_hours\"))"
      ],
      "execution_count": null,
      "outputs": []
    },
    {
      "cell_type": "code",
      "metadata": {
        "id": "Igr92w6WTkYf",
        "outputId": "66a301c3-61c4-4553-9913-2d1fe99ba6d0",
        "colab": {
          "base_uri": "https://localhost:8080/",
          "height": 34
        }
      },
      "source": [
        "office_hours = office_hours[0].get_text()\n",
        "print(office_hours)"
      ],
      "execution_count": null,
      "outputs": [
        {
          "output_type": "stream",
          "text": [
            " Saturday: 10:00AM - 11:00AM \n"
          ],
          "name": "stdout"
        }
      ]
    },
    {
      "cell_type": "code",
      "metadata": {
        "id": "DGe4OV4NUzS3",
        "outputId": "0f0f3d24-7eb3-4a5d-bb59-09e72c1078a3",
        "colab": {
          "base_uri": "https://localhost:8080/",
          "height": 34
        }
      },
      "source": [
        "website = list(soup.find_all('p', id = \"website\"))\n",
        "website = website[0].get_text()\n",
        "print(website)"
      ],
      "execution_count": null,
      "outputs": [
        {
          "output_type": "stream",
          "text": [
            " Blackboard\n"
          ],
          "name": "stdout"
        }
      ]
    },
    {
      "cell_type": "code",
      "metadata": {
        "id": "9ELUDvBcTleI",
        "outputId": "82090b38-9253-4262-ddac-f27c9d0c5cfc",
        "colab": {
          "base_uri": "https://localhost:8080/",
          "height": 119
        }
      },
      "source": [
        "course_description=list(soup.find_all('p', id=\"description\"))\n",
        "course_description=course_description[0].get_text()\n",
        "print(course_description)"
      ],
      "execution_count": null,
      "outputs": [
        {
          "output_type": "stream",
          "text": [
            "\n",
            "\t This course introduces the aspects of programming that can\n",
            "\tsupport business analytics. The course covers hands-on issues in programming for\n",
            "\tanalytics which include accessing data, \n",
            "\tcreating informative data graphics, writing functions, \n",
            "\tdebugging, and organizing and commenting code.\n"
          ],
          "name": "stdout"
        }
      ]
    },
    {
      "cell_type": "code",
      "metadata": {
        "id": "yCLcvOz0VXTZ"
      },
      "source": [
        ""
      ],
      "execution_count": null,
      "outputs": []
    }
  ]
}