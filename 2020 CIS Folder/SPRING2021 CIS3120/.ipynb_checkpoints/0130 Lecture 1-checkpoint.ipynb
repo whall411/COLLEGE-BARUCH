{
 "cells": [
  {
   "cell_type": "markdown",
   "id": "standard-fountain",
   "metadata": {},
   "source": [
    "# Program that opens a webpage and search function"
   ]
  },
  {
   "cell_type": "code",
   "execution_count": 2,
   "id": "italian-membership",
   "metadata": {},
   "outputs": [
    {
     "name": "stdout",
     "output_type": "stream",
     "text": [
      "Note: you may need to restart the kernel to use updated packages.\n"
     ]
    },
    {
     "name": "stderr",
     "output_type": "stream",
     "text": [
      "ERROR: Could not find a version that satisfies the requirement webbrowser\n",
      "ERROR: No matching distribution found for webbrowser\n"
     ]
    }
   ],
   "source": [
    "# pip install webbrowser"
   ]
  },
  {
   "cell_type": "code",
   "execution_count": 3,
   "id": "accessible-benefit",
   "metadata": {},
   "outputs": [],
   "source": [
    "import webbrowser"
   ]
  },
  {
   "cell_type": "code",
   "execution_count": 4,
   "id": "toxic-mission",
   "metadata": {},
   "outputs": [],
   "source": [
    "# webbrowser.open(\"url\")"
   ]
  },
  {
   "cell_type": "code",
   "execution_count": 5,
   "id": "strong-greenhouse",
   "metadata": {},
   "outputs": [
    {
     "data": {
      "text/plain": [
       "True"
      ]
     },
     "execution_count": 5,
     "metadata": {},
     "output_type": "execute_result"
    }
   ],
   "source": [
    "webbrowser.open(\"baruch.edu\")"
   ]
  },
  {
   "cell_type": "code",
   "execution_count": 6,
   "id": "hybrid-herald",
   "metadata": {},
   "outputs": [],
   "source": [
    "#2"
   ]
  },
  {
   "cell_type": "code",
   "execution_count": 9,
   "id": "enclosed-spyware",
   "metadata": {},
   "outputs": [],
   "source": [
    "to_search = [\"brooklyn\",\"baruch\",\"hunter\",\"NYC\"]\n",
    "\n",
    "for x in to_search:\n",
    "    webbrowser.open('google.com %s' % x)"
   ]
  },
  {
   "cell_type": "code",
   "execution_count": 10,
   "id": "divine-diagram",
   "metadata": {},
   "outputs": [],
   "source": [
    "#3"
   ]
  },
  {
   "cell_type": "code",
   "execution_count": null,
   "id": "affected-black",
   "metadata": {},
   "outputs": [],
   "source": [
    "#google = input('Google Map Search')\n",
    "#webbrowser.open_new_tab"
   ]
  }
 ],
 "metadata": {
  "kernelspec": {
   "display_name": "Python 3",
   "language": "python",
   "name": "python3"
  },
  "language_info": {
   "codemirror_mode": {
    "name": "ipython",
    "version": 3
   },
   "file_extension": ".py",
   "mimetype": "text/x-python",
   "name": "python",
   "nbconvert_exporter": "python",
   "pygments_lexer": "ipython3",
   "version": "3.7.3"
  }
 },
 "nbformat": 4,
 "nbformat_minor": 5
}
