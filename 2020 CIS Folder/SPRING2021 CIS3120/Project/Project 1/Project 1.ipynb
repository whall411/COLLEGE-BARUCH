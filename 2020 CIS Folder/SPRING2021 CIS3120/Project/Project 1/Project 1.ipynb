{
 "cells": [
  {
   "cell_type": "markdown",
   "metadata": {},
   "source": [
    "# Project 1"
   ]
  },
  {
   "cell_type": "markdown",
   "metadata": {},
   "source": [
    "### CIS3120"
   ]
  },
  {
   "cell_type": "markdown",
   "metadata": {},
   "source": [
    "### William Hall"
   ]
  },
  {
   "cell_type": "code",
   "execution_count": 2,
   "metadata": {},
   "outputs": [],
   "source": [
    "# Importing packages\n",
    "from bs4 import BeautifulSoup as soup\n",
    "import requests\n",
    "import pandas as pd"
   ]
  },
  {
   "cell_type": "markdown",
   "metadata": {},
   "source": [
    "# SWIMMING"
   ]
  },
  {
   "cell_type": "markdown",
   "metadata": {},
   "source": [
    "## - Baruch Men's Swimming"
   ]
  },
  {
   "cell_type": "code",
   "execution_count": 3,
   "metadata": {},
   "outputs": [],
   "source": [
    "url = \"https://athletics.baruch.cuny.edu/sports/mens-swimming-and-diving/roster\"\n",
    "r = requests.get(url)\n",
    "rtext = r.text\n",
    "bmssoup = soup(rtext,\"html.parser\")"
   ]
  },
  {
   "cell_type": "code",
   "execution_count": 4,
   "metadata": {},
   "outputs": [],
   "source": [
    "def baruch_men_swim(): \n",
    "    p = bmssoup.findAll('div',{'class':\"sidearm-roster-player-details flex flex-align-center large-6 x-small-12 full columns\"})\n",
    "    out = []\n",
    "    for i in p:\n",
    "        name = i.find('div',{'class':\"sidearm-roster-player-name\"}).a.text\n",
    "        hght = i.find('span',{'class':\"sidearm-roster-player-height\"}).text\n",
    "        for h in hght:\n",
    "            height_split = hght.split( \"\\'\")\n",
    "            # convert height to inches\n",
    "            feet = int(height_split[0])\n",
    "            i1 = height_split[1]\n",
    "            inch = i1.replace('\"',\" \")\n",
    "            inches = int(inch)\n",
    "            height = int(feet*12 + inches)\n",
    "        out.append((name,height))\n",
    "    return(out)\n",
    "      "
   ]
  },
  {
   "cell_type": "code",
   "execution_count": 5,
   "metadata": {},
   "outputs": [
    {
     "data": {
      "text/plain": [
       "[('Gregory Becker', 77),\n",
       " ('Nicholas  Blanco', 70),\n",
       " ('Kevin Chen', 69),\n",
       " ('Gary Danilyan', 74),\n",
       " ('Kasper Gacek', 77),\n",
       " ('David Gazaryan', 70),\n",
       " ('Matthew Greenfield', 68),\n",
       " ('Julio  Hernandez', 68),\n",
       " ('Jonathan  Jaramillo', 70),\n",
       " ('Erik  Kantar', 69),\n",
       " ('Fernando Marroquin', 67),\n",
       " ('David Matskovsky', 74),\n",
       " ('Eddy Min', 72),\n",
       " ('Eli Mogorichev', 72),\n",
       " ('Jose Munoz Aycart', 71),\n",
       " ('Evan Nikolic', 75),\n",
       " ('Dayan  Ordabayev', 70),\n",
       " ('Luca Rivitti', 70),\n",
       " ('Ben Sionov', 65),\n",
       " ('Julian Tineo', 73),\n",
       " ('Peter Tzotchev', 69),\n",
       " ('Joseph Vasile', 67),\n",
       " ('Morgan  Welling', 75)]"
      ]
     },
     "execution_count": 5,
     "metadata": {},
     "output_type": "execute_result"
    }
   ],
   "source": [
    "baruch_men_swim()"
   ]
  },
  {
   "cell_type": "code",
   "execution_count": 6,
   "metadata": {},
   "outputs": [],
   "source": [
    "bmsdf = pd.DataFrame(baruch_men_swim())"
   ]
  },
  {
   "cell_type": "code",
   "execution_count": 7,
   "metadata": {},
   "outputs": [],
   "source": [
    "bmsdf.columns = ['Name','Height']"
   ]
  },
  {
   "cell_type": "code",
   "execution_count": 8,
   "metadata": {},
   "outputs": [],
   "source": [
    "sex = 'M'\n",
    "sport = 'Swimming'\n",
    "college = 'Baruch'\n",
    "\n",
    "bmsdf['Sex'] = sex\n",
    "bmsdf['Sport'] = sport\n",
    "bmsdf['College'] = college"
   ]
  },
  {
   "cell_type": "code",
   "execution_count": 9,
   "metadata": {},
   "outputs": [
    {
     "data": {
      "text/html": [
       "<div>\n",
       "<style scoped>\n",
       "    .dataframe tbody tr th:only-of-type {\n",
       "        vertical-align: middle;\n",
       "    }\n",
       "\n",
       "    .dataframe tbody tr th {\n",
       "        vertical-align: top;\n",
       "    }\n",
       "\n",
       "    .dataframe thead th {\n",
       "        text-align: right;\n",
       "    }\n",
       "</style>\n",
       "<table border=\"1\" class=\"dataframe\">\n",
       "  <thead>\n",
       "    <tr style=\"text-align: right;\">\n",
       "      <th></th>\n",
       "      <th>Name</th>\n",
       "      <th>Height</th>\n",
       "      <th>Sex</th>\n",
       "      <th>Sport</th>\n",
       "      <th>College</th>\n",
       "    </tr>\n",
       "  </thead>\n",
       "  <tbody>\n",
       "    <tr>\n",
       "      <th>0</th>\n",
       "      <td>Gregory Becker</td>\n",
       "      <td>77</td>\n",
       "      <td>M</td>\n",
       "      <td>Swimming</td>\n",
       "      <td>Baruch</td>\n",
       "    </tr>\n",
       "    <tr>\n",
       "      <th>1</th>\n",
       "      <td>Nicholas  Blanco</td>\n",
       "      <td>70</td>\n",
       "      <td>M</td>\n",
       "      <td>Swimming</td>\n",
       "      <td>Baruch</td>\n",
       "    </tr>\n",
       "    <tr>\n",
       "      <th>2</th>\n",
       "      <td>Kevin Chen</td>\n",
       "      <td>69</td>\n",
       "      <td>M</td>\n",
       "      <td>Swimming</td>\n",
       "      <td>Baruch</td>\n",
       "    </tr>\n",
       "    <tr>\n",
       "      <th>3</th>\n",
       "      <td>Gary Danilyan</td>\n",
       "      <td>74</td>\n",
       "      <td>M</td>\n",
       "      <td>Swimming</td>\n",
       "      <td>Baruch</td>\n",
       "    </tr>\n",
       "    <tr>\n",
       "      <th>4</th>\n",
       "      <td>Kasper Gacek</td>\n",
       "      <td>77</td>\n",
       "      <td>M</td>\n",
       "      <td>Swimming</td>\n",
       "      <td>Baruch</td>\n",
       "    </tr>\n",
       "  </tbody>\n",
       "</table>\n",
       "</div>"
      ],
      "text/plain": [
       "               Name  Height Sex     Sport College\n",
       "0    Gregory Becker      77   M  Swimming  Baruch\n",
       "1  Nicholas  Blanco      70   M  Swimming  Baruch\n",
       "2        Kevin Chen      69   M  Swimming  Baruch\n",
       "3     Gary Danilyan      74   M  Swimming  Baruch\n",
       "4      Kasper Gacek      77   M  Swimming  Baruch"
      ]
     },
     "execution_count": 9,
     "metadata": {},
     "output_type": "execute_result"
    }
   ],
   "source": [
    "bmsdf.head()"
   ]
  },
  {
   "cell_type": "code",
   "execution_count": 10,
   "metadata": {},
   "outputs": [
    {
     "data": {
      "text/html": [
       "<div>\n",
       "<style scoped>\n",
       "    .dataframe tbody tr th:only-of-type {\n",
       "        vertical-align: middle;\n",
       "    }\n",
       "\n",
       "    .dataframe tbody tr th {\n",
       "        vertical-align: top;\n",
       "    }\n",
       "\n",
       "    .dataframe thead th {\n",
       "        text-align: right;\n",
       "    }\n",
       "</style>\n",
       "<table border=\"1\" class=\"dataframe\">\n",
       "  <thead>\n",
       "    <tr style=\"text-align: right;\">\n",
       "      <th></th>\n",
       "      <th>Height</th>\n",
       "      <th>Sex</th>\n",
       "      <th>Sport</th>\n",
       "      <th>College</th>\n",
       "    </tr>\n",
       "    <tr>\n",
       "      <th>Name</th>\n",
       "      <th></th>\n",
       "      <th></th>\n",
       "      <th></th>\n",
       "      <th></th>\n",
       "    </tr>\n",
       "  </thead>\n",
       "  <tbody>\n",
       "    <tr>\n",
       "      <th>Gregory Becker</th>\n",
       "      <td>77</td>\n",
       "      <td>M</td>\n",
       "      <td>Swimming</td>\n",
       "      <td>Baruch</td>\n",
       "    </tr>\n",
       "    <tr>\n",
       "      <th>Nicholas  Blanco</th>\n",
       "      <td>70</td>\n",
       "      <td>M</td>\n",
       "      <td>Swimming</td>\n",
       "      <td>Baruch</td>\n",
       "    </tr>\n",
       "    <tr>\n",
       "      <th>Kevin Chen</th>\n",
       "      <td>69</td>\n",
       "      <td>M</td>\n",
       "      <td>Swimming</td>\n",
       "      <td>Baruch</td>\n",
       "    </tr>\n",
       "    <tr>\n",
       "      <th>Gary Danilyan</th>\n",
       "      <td>74</td>\n",
       "      <td>M</td>\n",
       "      <td>Swimming</td>\n",
       "      <td>Baruch</td>\n",
       "    </tr>\n",
       "    <tr>\n",
       "      <th>Kasper Gacek</th>\n",
       "      <td>77</td>\n",
       "      <td>M</td>\n",
       "      <td>Swimming</td>\n",
       "      <td>Baruch</td>\n",
       "    </tr>\n",
       "  </tbody>\n",
       "</table>\n",
       "</div>"
      ],
      "text/plain": [
       "                  Height Sex     Sport College\n",
       "Name                                          \n",
       "Gregory Becker        77   M  Swimming  Baruch\n",
       "Nicholas  Blanco      70   M  Swimming  Baruch\n",
       "Kevin Chen            69   M  Swimming  Baruch\n",
       "Gary Danilyan         74   M  Swimming  Baruch\n",
       "Kasper Gacek          77   M  Swimming  Baruch"
      ]
     },
     "execution_count": 10,
     "metadata": {},
     "output_type": "execute_result"
    }
   ],
   "source": [
    "# Dropping numbers in index\n",
    "bmsdf.index = (bmsdf['Name'])\n",
    "bmsdf = bmsdf.drop(['Name'],axis=1)\n",
    "bmsdf.head()"
   ]
  },
  {
   "cell_type": "markdown",
   "metadata": {},
   "source": [
    "## - Baruch Women's Swimming"
   ]
  },
  {
   "cell_type": "code",
   "execution_count": 11,
   "metadata": {},
   "outputs": [],
   "source": [
    "url = \"https://athletics.baruch.cuny.edu/sports/womens-swimming-and-diving/roster\"\n",
    "r = requests.get(url)\n",
    "rtext = r.text\n",
    "bwssoup = soup(rtext,\"html.parser\")"
   ]
  },
  {
   "cell_type": "code",
   "execution_count": 12,
   "metadata": {},
   "outputs": [],
   "source": [
    "def baruch_women_swim(): \n",
    "    p = bwssoup.findAll('div',{'class':\"sidearm-roster-player-details flex flex-align-center large-6 x-small-12 full columns\"})\n",
    "    out = []\n",
    "    for i in p:\n",
    "        name = i.find('div',{'class':\"sidearm-roster-player-name\"}).a.text\n",
    "        hght = i.find('span',{'class':\"sidearm-roster-player-height\"}).text\n",
    "        for h in hght:\n",
    "            height_split = hght.split( \"\\'\")\n",
    "            # convert height to inches\n",
    "            feet = int(height_split[0])\n",
    "            i1 = height_split[1]\n",
    "            inch = i1.replace('\"',\" \")\n",
    "            inches = int(inch)\n",
    "            height = int(feet*12 + inches)\n",
    "        out.append((name,height))\n",
    "    return(out)"
   ]
  },
  {
   "cell_type": "code",
   "execution_count": 13,
   "metadata": {},
   "outputs": [],
   "source": [
    "bwsdf = pd.DataFrame(baruch_women_swim())"
   ]
  },
  {
   "cell_type": "code",
   "execution_count": 14,
   "metadata": {},
   "outputs": [],
   "source": [
    "sex = 'W'\n",
    "sport = 'Swimming'\n",
    "college = 'Baruch'\n",
    "\n",
    "bwsdf.columns = ['Name','Height']\n",
    "bwsdf['Sex'] = sex\n",
    "bwsdf['Sport'] = sport\n",
    "bwsdf['College'] = college"
   ]
  },
  {
   "cell_type": "code",
   "execution_count": 15,
   "metadata": {},
   "outputs": [
    {
     "data": {
      "text/html": [
       "<div>\n",
       "<style scoped>\n",
       "    .dataframe tbody tr th:only-of-type {\n",
       "        vertical-align: middle;\n",
       "    }\n",
       "\n",
       "    .dataframe tbody tr th {\n",
       "        vertical-align: top;\n",
       "    }\n",
       "\n",
       "    .dataframe thead th {\n",
       "        text-align: right;\n",
       "    }\n",
       "</style>\n",
       "<table border=\"1\" class=\"dataframe\">\n",
       "  <thead>\n",
       "    <tr style=\"text-align: right;\">\n",
       "      <th></th>\n",
       "      <th>Height</th>\n",
       "      <th>Sex</th>\n",
       "      <th>Sport</th>\n",
       "      <th>College</th>\n",
       "    </tr>\n",
       "    <tr>\n",
       "      <th>Name</th>\n",
       "      <th></th>\n",
       "      <th></th>\n",
       "      <th></th>\n",
       "      <th></th>\n",
       "    </tr>\n",
       "  </thead>\n",
       "  <tbody>\n",
       "    <tr>\n",
       "      <th>Stephanie  Antonova</th>\n",
       "      <td>61</td>\n",
       "      <td>W</td>\n",
       "      <td>Swimming</td>\n",
       "      <td>Baruch</td>\n",
       "    </tr>\n",
       "    <tr>\n",
       "      <th>Nicole Astudillo</th>\n",
       "      <td>62</td>\n",
       "      <td>W</td>\n",
       "      <td>Swimming</td>\n",
       "      <td>Baruch</td>\n",
       "    </tr>\n",
       "    <tr>\n",
       "      <th>Andrea Gasic</th>\n",
       "      <td>69</td>\n",
       "      <td>W</td>\n",
       "      <td>Swimming</td>\n",
       "      <td>Baruch</td>\n",
       "    </tr>\n",
       "    <tr>\n",
       "      <th>Onika George</th>\n",
       "      <td>70</td>\n",
       "      <td>W</td>\n",
       "      <td>Swimming</td>\n",
       "      <td>Baruch</td>\n",
       "    </tr>\n",
       "    <tr>\n",
       "      <th>Karina Gotz</th>\n",
       "      <td>67</td>\n",
       "      <td>W</td>\n",
       "      <td>Swimming</td>\n",
       "      <td>Baruch</td>\n",
       "    </tr>\n",
       "  </tbody>\n",
       "</table>\n",
       "</div>"
      ],
      "text/plain": [
       "                     Height Sex     Sport College\n",
       "Name                                             \n",
       "Stephanie  Antonova      61   W  Swimming  Baruch\n",
       "Nicole Astudillo         62   W  Swimming  Baruch\n",
       "Andrea Gasic             69   W  Swimming  Baruch\n",
       "Onika George             70   W  Swimming  Baruch\n",
       "Karina Gotz              67   W  Swimming  Baruch"
      ]
     },
     "execution_count": 15,
     "metadata": {},
     "output_type": "execute_result"
    }
   ],
   "source": [
    "# Dropping numbers in index\n",
    "bwsdf.index = (bwsdf['Name'])\n",
    "bwsdf = bwsdf.drop(['Name'],axis=1)\n",
    "bwsdf.head()\n"
   ]
  },
  {
   "cell_type": "markdown",
   "metadata": {},
   "source": [
    "## - Brooklyn College Men's Swimming"
   ]
  },
  {
   "cell_type": "code",
   "execution_count": 16,
   "metadata": {},
   "outputs": [],
   "source": [
    "url = \"https://www.brooklyncollegeathletics.com/sports/mens-swimming-and-diving/roster\"\n",
    "r = requests.get(url)\n",
    "rtext = r.text\n",
    "bkmssoup = soup(rtext,\"html.parser\")\n"
   ]
  },
  {
   "cell_type": "code",
   "execution_count": 17,
   "metadata": {},
   "outputs": [],
   "source": [
    "def brooklyn_men_swim(): \n",
    "    p = bkmssoup.findAll('div',{'class':\"sidearm-roster-player-details flex flex-align-center large-6 x-small-12 full columns\"})\n",
    "    out = []\n",
    "    for i in p:\n",
    "        name = i.find('div',{'class':\"sidearm-roster-player-name\"}).a.text\n",
    "        hght = i.find('span',{'class':\"sidearm-roster-player-height\"}).text\n",
    "        for h in hght:\n",
    "            height_split = hght.split( \"\\'\")\n",
    "            # convert height to inches\n",
    "            feet = int(height_split[0])\n",
    "            i1 = height_split[1]\n",
    "            inch = i1.replace('\"',\" \")\n",
    "            inches = int(inch)\n",
    "            height = int(feet*12 + inches)\n",
    "        out.append((name,height))\n",
    "    return(out)"
   ]
  },
  {
   "cell_type": "code",
   "execution_count": 18,
   "metadata": {},
   "outputs": [],
   "source": [
    "bkmsdf = pd.DataFrame(brooklyn_men_swim())"
   ]
  },
  {
   "cell_type": "code",
   "execution_count": 19,
   "metadata": {},
   "outputs": [],
   "source": [
    "sex = 'M'\n",
    "sport = 'Swimming'\n",
    "college = 'Brooklyn College'\n",
    "\n",
    "bkmsdf.columns = ['Name','Height']\n",
    "bkmsdf['Sex'] = sex\n",
    "bkmsdf['Sport'] = sport\n",
    "bkmsdf['College'] = college"
   ]
  },
  {
   "cell_type": "code",
   "execution_count": 20,
   "metadata": {},
   "outputs": [
    {
     "data": {
      "text/html": [
       "<div>\n",
       "<style scoped>\n",
       "    .dataframe tbody tr th:only-of-type {\n",
       "        vertical-align: middle;\n",
       "    }\n",
       "\n",
       "    .dataframe tbody tr th {\n",
       "        vertical-align: top;\n",
       "    }\n",
       "\n",
       "    .dataframe thead th {\n",
       "        text-align: right;\n",
       "    }\n",
       "</style>\n",
       "<table border=\"1\" class=\"dataframe\">\n",
       "  <thead>\n",
       "    <tr style=\"text-align: right;\">\n",
       "      <th></th>\n",
       "      <th>Height</th>\n",
       "      <th>Sex</th>\n",
       "      <th>Sport</th>\n",
       "      <th>College</th>\n",
       "    </tr>\n",
       "    <tr>\n",
       "      <th>Name</th>\n",
       "      <th></th>\n",
       "      <th></th>\n",
       "      <th></th>\n",
       "      <th></th>\n",
       "    </tr>\n",
       "  </thead>\n",
       "  <tbody>\n",
       "    <tr>\n",
       "      <th>Ronaldo Barrios</th>\n",
       "      <td>74</td>\n",
       "      <td>M</td>\n",
       "      <td>Swimming</td>\n",
       "      <td>Brooklyn College</td>\n",
       "    </tr>\n",
       "    <tr>\n",
       "      <th>Devin Boodha</th>\n",
       "      <td>69</td>\n",
       "      <td>M</td>\n",
       "      <td>Swimming</td>\n",
       "      <td>Brooklyn College</td>\n",
       "    </tr>\n",
       "    <tr>\n",
       "      <th>Nikita  Cary</th>\n",
       "      <td>68</td>\n",
       "      <td>M</td>\n",
       "      <td>Swimming</td>\n",
       "      <td>Brooklyn College</td>\n",
       "    </tr>\n",
       "    <tr>\n",
       "      <th>Alec Chi</th>\n",
       "      <td>70</td>\n",
       "      <td>M</td>\n",
       "      <td>Swimming</td>\n",
       "      <td>Brooklyn College</td>\n",
       "    </tr>\n",
       "    <tr>\n",
       "      <th>Peter Ebert</th>\n",
       "      <td>74</td>\n",
       "      <td>M</td>\n",
       "      <td>Swimming</td>\n",
       "      <td>Brooklyn College</td>\n",
       "    </tr>\n",
       "  </tbody>\n",
       "</table>\n",
       "</div>"
      ],
      "text/plain": [
       "                 Height Sex     Sport           College\n",
       "Name                                                   \n",
       "Ronaldo Barrios      74   M  Swimming  Brooklyn College\n",
       "Devin Boodha         69   M  Swimming  Brooklyn College\n",
       "Nikita  Cary         68   M  Swimming  Brooklyn College\n",
       "Alec Chi             70   M  Swimming  Brooklyn College\n",
       "Peter Ebert          74   M  Swimming  Brooklyn College"
      ]
     },
     "execution_count": 20,
     "metadata": {},
     "output_type": "execute_result"
    }
   ],
   "source": [
    "# Dropping numbers in index\n",
    "bkmsdf.index = (bkmsdf['Name'])\n",
    "bkmsdf = bkmsdf.drop(['Name'],axis=1)\n",
    "bkmsdf.head()"
   ]
  },
  {
   "cell_type": "markdown",
   "metadata": {},
   "source": [
    "## - Brooklyn College Women's Swimming\n"
   ]
  },
  {
   "cell_type": "code",
   "execution_count": 21,
   "metadata": {},
   "outputs": [],
   "source": [
    "url = \"https://www.brooklyncollegeathletics.com/sports/womens-swimming-and-diving/roster\"\n",
    "r = requests.get(url)\n",
    "rtext = r.text\n",
    "bkwssoup = soup(rtext,\"html.parser\")"
   ]
  },
  {
   "cell_type": "code",
   "execution_count": 22,
   "metadata": {},
   "outputs": [],
   "source": [
    "def brooklyn_women_swim(): \n",
    "    p = bkwssoup.findAll('div',{'class':\"sidearm-roster-player-details flex flex-align-center large-6 x-small-12 full columns\"})\n",
    "    out = []\n",
    "    for i in p:\n",
    "        name = i.find('div',{'class':\"sidearm-roster-player-name\"}).a.text\n",
    "        hght = i.find('span',{'class':\"sidearm-roster-player-height\"}).text\n",
    "        for h in hght:\n",
    "            height_split = hght.split( \"\\'\")\n",
    "            # convert height to inches\n",
    "            feet = int(height_split[0])\n",
    "            i1 = height_split[1]\n",
    "            inch = i1.replace('\"',\" \")\n",
    "            inches = int(inch)\n",
    "            height = int(feet*12 + inches)\n",
    "        out.append((name,height))\n",
    "    return(out)"
   ]
  },
  {
   "cell_type": "code",
   "execution_count": 23,
   "metadata": {},
   "outputs": [],
   "source": [
    "bkwsdf = pd.DataFrame(brooklyn_women_swim())"
   ]
  },
  {
   "cell_type": "code",
   "execution_count": 24,
   "metadata": {},
   "outputs": [],
   "source": [
    "sex = 'W'\n",
    "sport = 'Swimming'\n",
    "college = 'Brooklyn College'\n",
    "\n",
    "bkwsdf.columns = ['Name','Height']\n",
    "bkwsdf['Sex'] = sex\n",
    "bkwsdf['Sport'] = sport\n",
    "bkwsdf['College'] = college"
   ]
  },
  {
   "cell_type": "code",
   "execution_count": 25,
   "metadata": {},
   "outputs": [
    {
     "data": {
      "text/html": [
       "<div>\n",
       "<style scoped>\n",
       "    .dataframe tbody tr th:only-of-type {\n",
       "        vertical-align: middle;\n",
       "    }\n",
       "\n",
       "    .dataframe tbody tr th {\n",
       "        vertical-align: top;\n",
       "    }\n",
       "\n",
       "    .dataframe thead th {\n",
       "        text-align: right;\n",
       "    }\n",
       "</style>\n",
       "<table border=\"1\" class=\"dataframe\">\n",
       "  <thead>\n",
       "    <tr style=\"text-align: right;\">\n",
       "      <th></th>\n",
       "      <th>Height</th>\n",
       "      <th>Sex</th>\n",
       "      <th>Sport</th>\n",
       "      <th>College</th>\n",
       "    </tr>\n",
       "    <tr>\n",
       "      <th>Name</th>\n",
       "      <th></th>\n",
       "      <th></th>\n",
       "      <th></th>\n",
       "      <th></th>\n",
       "    </tr>\n",
       "  </thead>\n",
       "  <tbody>\n",
       "    <tr>\n",
       "      <th>Semona Bardman</th>\n",
       "      <td>66</td>\n",
       "      <td>W</td>\n",
       "      <td>Swimming</td>\n",
       "      <td>Brooklyn College</td>\n",
       "    </tr>\n",
       "    <tr>\n",
       "      <th>Angella  Christopher</th>\n",
       "      <td>67</td>\n",
       "      <td>W</td>\n",
       "      <td>Swimming</td>\n",
       "      <td>Brooklyn College</td>\n",
       "    </tr>\n",
       "    <tr>\n",
       "      <th>Anna Curran</th>\n",
       "      <td>63</td>\n",
       "      <td>W</td>\n",
       "      <td>Swimming</td>\n",
       "      <td>Brooklyn College</td>\n",
       "    </tr>\n",
       "    <tr>\n",
       "      <th>Rachel  Davidovich</th>\n",
       "      <td>64</td>\n",
       "      <td>W</td>\n",
       "      <td>Swimming</td>\n",
       "      <td>Brooklyn College</td>\n",
       "    </tr>\n",
       "    <tr>\n",
       "      <th>Shenaika Eliassaint</th>\n",
       "      <td>71</td>\n",
       "      <td>W</td>\n",
       "      <td>Swimming</td>\n",
       "      <td>Brooklyn College</td>\n",
       "    </tr>\n",
       "  </tbody>\n",
       "</table>\n",
       "</div>"
      ],
      "text/plain": [
       "                      Height Sex     Sport           College\n",
       "Name                                                        \n",
       "Semona Bardman            66   W  Swimming  Brooklyn College\n",
       "Angella  Christopher      67   W  Swimming  Brooklyn College\n",
       "Anna Curran               63   W  Swimming  Brooklyn College\n",
       "Rachel  Davidovich        64   W  Swimming  Brooklyn College\n",
       "Shenaika Eliassaint       71   W  Swimming  Brooklyn College"
      ]
     },
     "execution_count": 25,
     "metadata": {},
     "output_type": "execute_result"
    }
   ],
   "source": [
    "# Dropping numbers in index\n",
    "bkwsdf.index = (bkwsdf['Name'])\n",
    "bkwsdf = bkwsdf.drop(['Name'],axis=1)\n",
    "bkwsdf.head()"
   ]
  },
  {
   "cell_type": "markdown",
   "metadata": {},
   "source": [
    "## - York College Men's Swimming"
   ]
  },
  {
   "cell_type": "code",
   "execution_count": 26,
   "metadata": {},
   "outputs": [],
   "source": [
    "url = \"https://yorkathletics.com/sports/mens-swimming-and-diving/roster\"\n",
    "table = pd.read_html(url)\n",
    "table = table[2]"
   ]
  },
  {
   "cell_type": "code",
   "execution_count": 27,
   "metadata": {},
   "outputs": [],
   "source": [
    "yorkmsdf = pd.DataFrame(table)"
   ]
  },
  {
   "cell_type": "code",
   "execution_count": 28,
   "metadata": {},
   "outputs": [
    {
     "data": {
      "text/html": [
       "<div>\n",
       "<style scoped>\n",
       "    .dataframe tbody tr th:only-of-type {\n",
       "        vertical-align: middle;\n",
       "    }\n",
       "\n",
       "    .dataframe tbody tr th {\n",
       "        vertical-align: top;\n",
       "    }\n",
       "\n",
       "    .dataframe thead th {\n",
       "        text-align: right;\n",
       "    }\n",
       "</style>\n",
       "<table border=\"1\" class=\"dataframe\">\n",
       "  <thead>\n",
       "    <tr style=\"text-align: right;\">\n",
       "      <th></th>\n",
       "      <th>Name</th>\n",
       "      <th>Yr.</th>\n",
       "      <th>Ht.</th>\n",
       "      <th>Wt.</th>\n",
       "      <th>Hometown / High School</th>\n",
       "    </tr>\n",
       "  </thead>\n",
       "  <tbody>\n",
       "    <tr>\n",
       "      <th>0</th>\n",
       "      <td>Ti’Juan Boothe</td>\n",
       "      <td>Fr.</td>\n",
       "      <td>5-8</td>\n",
       "      <td>210.0</td>\n",
       "      <td>Kingston, Jamaica / Excelsior Prep</td>\n",
       "    </tr>\n",
       "    <tr>\n",
       "      <th>1</th>\n",
       "      <td>Jaquan Eleazard</td>\n",
       "      <td>So.</td>\n",
       "      <td>5-9</td>\n",
       "      <td>150.0</td>\n",
       "      <td>Brooklyn, N.Y. / Samuel J. Tilden</td>\n",
       "    </tr>\n",
       "    <tr>\n",
       "      <th>2</th>\n",
       "      <td>Arafath Hussain</td>\n",
       "      <td>So.</td>\n",
       "      <td>5-8</td>\n",
       "      <td>138.0</td>\n",
       "      <td>Queens, N.Y. / Academy of Finance &amp; Enterprise</td>\n",
       "    </tr>\n",
       "    <tr>\n",
       "      <th>3</th>\n",
       "      <td>Anthony Jordan</td>\n",
       "      <td>Jr.</td>\n",
       "      <td>5-7</td>\n",
       "      <td>160.0</td>\n",
       "      <td>Woodhaven, N.Y. / St. John's Prep</td>\n",
       "    </tr>\n",
       "    <tr>\n",
       "      <th>4</th>\n",
       "      <td>Antonio Josephs</td>\n",
       "      <td>Fr.</td>\n",
       "      <td>6-2</td>\n",
       "      <td>166.0</td>\n",
       "      <td>Brooklyn, N.Y. / George W. Wingate</td>\n",
       "    </tr>\n",
       "    <tr>\n",
       "      <th>5</th>\n",
       "      <td>Christopher Mendez</td>\n",
       "      <td>Fr.</td>\n",
       "      <td>5-7</td>\n",
       "      <td>149.0</td>\n",
       "      <td>Brooklyn, N.Y. / Brooklyn School for Social Ju...</td>\n",
       "    </tr>\n",
       "    <tr>\n",
       "      <th>6</th>\n",
       "      <td>Anthony Nazario, Jr.</td>\n",
       "      <td>Sr.</td>\n",
       "      <td>5-9</td>\n",
       "      <td>235.0</td>\n",
       "      <td>Bronx, N.Y. / DeWitt Clinton</td>\n",
       "    </tr>\n",
       "    <tr>\n",
       "      <th>7</th>\n",
       "      <td>Jeremy Sapeg</td>\n",
       "      <td>Jr.</td>\n",
       "      <td>5-9</td>\n",
       "      <td>NaN</td>\n",
       "      <td>Bronx, N.Y. / HS of Law &amp; Community Service</td>\n",
       "    </tr>\n",
       "    <tr>\n",
       "      <th>8</th>\n",
       "      <td>Jamaar Watson</td>\n",
       "      <td>Sr.</td>\n",
       "      <td>6-1</td>\n",
       "      <td>182.0</td>\n",
       "      <td>Port of Spain Trinidad and Tobago / Secondary ...</td>\n",
       "    </tr>\n",
       "    <tr>\n",
       "      <th>9</th>\n",
       "      <td>Alex Winter</td>\n",
       "      <td>Fr.</td>\n",
       "      <td>6-0</td>\n",
       "      <td>174.0</td>\n",
       "      <td>Queens, N.Y. / St. Stanislaus College</td>\n",
       "    </tr>\n",
       "  </tbody>\n",
       "</table>\n",
       "</div>"
      ],
      "text/plain": [
       "                   Name  Yr.  Ht.    Wt.  \\\n",
       "0        Ti’Juan Boothe  Fr.  5-8  210.0   \n",
       "1       Jaquan Eleazard  So.  5-9  150.0   \n",
       "2       Arafath Hussain  So.  5-8  138.0   \n",
       "3        Anthony Jordan  Jr.  5-7  160.0   \n",
       "4       Antonio Josephs  Fr.  6-2  166.0   \n",
       "5    Christopher Mendez  Fr.  5-7  149.0   \n",
       "6  Anthony Nazario, Jr.  Sr.  5-9  235.0   \n",
       "7          Jeremy Sapeg  Jr.  5-9    NaN   \n",
       "8         Jamaar Watson  Sr.  6-1  182.0   \n",
       "9           Alex Winter  Fr.  6-0  174.0   \n",
       "\n",
       "                              Hometown / High School  \n",
       "0                 Kingston, Jamaica / Excelsior Prep  \n",
       "1                  Brooklyn, N.Y. / Samuel J. Tilden  \n",
       "2     Queens, N.Y. / Academy of Finance & Enterprise  \n",
       "3                  Woodhaven, N.Y. / St. John's Prep  \n",
       "4                 Brooklyn, N.Y. / George W. Wingate  \n",
       "5  Brooklyn, N.Y. / Brooklyn School for Social Ju...  \n",
       "6                       Bronx, N.Y. / DeWitt Clinton  \n",
       "7        Bronx, N.Y. / HS of Law & Community Service  \n",
       "8  Port of Spain Trinidad and Tobago / Secondary ...  \n",
       "9              Queens, N.Y. / St. Stanislaus College  "
      ]
     },
     "execution_count": 28,
     "metadata": {},
     "output_type": "execute_result"
    }
   ],
   "source": [
    "yorkmsdf "
   ]
  },
  {
   "cell_type": "code",
   "execution_count": 29,
   "metadata": {},
   "outputs": [
    {
     "data": {
      "text/plain": [
       "Index(['Name', 'Yr.', 'Ht.', 'Wt.', 'Hometown / High School'], dtype='object')"
      ]
     },
     "execution_count": 29,
     "metadata": {},
     "output_type": "execute_result"
    }
   ],
   "source": [
    "yorkmsdf.columns"
   ]
  },
  {
   "cell_type": "code",
   "execution_count": 30,
   "metadata": {},
   "outputs": [],
   "source": [
    "del yorkmsdf['Yr.']\n",
    "del yorkmsdf['Wt.']\n",
    "del yorkmsdf['Hometown / High School']"
   ]
  },
  {
   "cell_type": "code",
   "execution_count": 31,
   "metadata": {},
   "outputs": [],
   "source": [
    "yorkmsdf.rename(columns={'Ht.':'Height'}, inplace=True)"
   ]
  },
  {
   "cell_type": "code",
   "execution_count": null,
   "metadata": {},
   "outputs": [],
   "source": []
  },
  {
   "cell_type": "code",
   "execution_count": 32,
   "metadata": {},
   "outputs": [],
   "source": [
    "sex = 'M'\n",
    "sport = 'Swimming'\n",
    "college = 'York College'\n",
    "\n",
    "yorkmsdf.columns = ['Name','Height']\n",
    "yorkmsdf['Sex'] = sex\n",
    "yorkmsdf['Sport'] = sport\n",
    "yorkmsdf['College'] = college"
   ]
  },
  {
   "cell_type": "code",
   "execution_count": 33,
   "metadata": {},
   "outputs": [
    {
     "data": {
      "text/html": [
       "<div>\n",
       "<style scoped>\n",
       "    .dataframe tbody tr th:only-of-type {\n",
       "        vertical-align: middle;\n",
       "    }\n",
       "\n",
       "    .dataframe tbody tr th {\n",
       "        vertical-align: top;\n",
       "    }\n",
       "\n",
       "    .dataframe thead th {\n",
       "        text-align: right;\n",
       "    }\n",
       "</style>\n",
       "<table border=\"1\" class=\"dataframe\">\n",
       "  <thead>\n",
       "    <tr style=\"text-align: right;\">\n",
       "      <th></th>\n",
       "      <th>Height</th>\n",
       "      <th>Sex</th>\n",
       "      <th>Sport</th>\n",
       "      <th>College</th>\n",
       "    </tr>\n",
       "    <tr>\n",
       "      <th>Name</th>\n",
       "      <th></th>\n",
       "      <th></th>\n",
       "      <th></th>\n",
       "      <th></th>\n",
       "    </tr>\n",
       "  </thead>\n",
       "  <tbody>\n",
       "    <tr>\n",
       "      <th>Ti’Juan Boothe</th>\n",
       "      <td>5-8</td>\n",
       "      <td>M</td>\n",
       "      <td>Swimming</td>\n",
       "      <td>York College</td>\n",
       "    </tr>\n",
       "    <tr>\n",
       "      <th>Jaquan Eleazard</th>\n",
       "      <td>5-9</td>\n",
       "      <td>M</td>\n",
       "      <td>Swimming</td>\n",
       "      <td>York College</td>\n",
       "    </tr>\n",
       "    <tr>\n",
       "      <th>Arafath Hussain</th>\n",
       "      <td>5-8</td>\n",
       "      <td>M</td>\n",
       "      <td>Swimming</td>\n",
       "      <td>York College</td>\n",
       "    </tr>\n",
       "    <tr>\n",
       "      <th>Anthony Jordan</th>\n",
       "      <td>5-7</td>\n",
       "      <td>M</td>\n",
       "      <td>Swimming</td>\n",
       "      <td>York College</td>\n",
       "    </tr>\n",
       "    <tr>\n",
       "      <th>Antonio Josephs</th>\n",
       "      <td>6-2</td>\n",
       "      <td>M</td>\n",
       "      <td>Swimming</td>\n",
       "      <td>York College</td>\n",
       "    </tr>\n",
       "  </tbody>\n",
       "</table>\n",
       "</div>"
      ],
      "text/plain": [
       "                Height Sex     Sport       College\n",
       "Name                                              \n",
       "Ti’Juan Boothe     5-8   M  Swimming  York College\n",
       "Jaquan Eleazard    5-9   M  Swimming  York College\n",
       "Arafath Hussain    5-8   M  Swimming  York College\n",
       "Anthony Jordan     5-7   M  Swimming  York College\n",
       "Antonio Josephs    6-2   M  Swimming  York College"
      ]
     },
     "execution_count": 33,
     "metadata": {},
     "output_type": "execute_result"
    }
   ],
   "source": [
    "# Dropping numbers in index\n",
    "yorkmsdf.index = (yorkmsdf['Name'])\n",
    "yorkmsdf = yorkmsdf.drop(['Name'],axis=1)\n",
    "yorkmsdf.head()"
   ]
  },
  {
   "cell_type": "code",
   "execution_count": 34,
   "metadata": {},
   "outputs": [],
   "source": [
    "splitfeet = yorkmsdf['Height'].str.split('-').str.get(0)\n",
    "splitin = yorkmsdf['Height'].str.split('-').str.get(1)"
   ]
  },
  {
   "cell_type": "code",
   "execution_count": 35,
   "metadata": {},
   "outputs": [],
   "source": [
    "splitfeet = splitfeet.astype(int)\n",
    "splitin = splitin.astype(int)\n",
    "yorkmsdf['Height'] = (splitfeet*12)+splitin"
   ]
  },
  {
   "cell_type": "code",
   "execution_count": 36,
   "metadata": {},
   "outputs": [
    {
     "data": {
      "text/html": [
       "<div>\n",
       "<style scoped>\n",
       "    .dataframe tbody tr th:only-of-type {\n",
       "        vertical-align: middle;\n",
       "    }\n",
       "\n",
       "    .dataframe tbody tr th {\n",
       "        vertical-align: top;\n",
       "    }\n",
       "\n",
       "    .dataframe thead th {\n",
       "        text-align: right;\n",
       "    }\n",
       "</style>\n",
       "<table border=\"1\" class=\"dataframe\">\n",
       "  <thead>\n",
       "    <tr style=\"text-align: right;\">\n",
       "      <th></th>\n",
       "      <th>Height</th>\n",
       "      <th>Sex</th>\n",
       "      <th>Sport</th>\n",
       "      <th>College</th>\n",
       "    </tr>\n",
       "    <tr>\n",
       "      <th>Name</th>\n",
       "      <th></th>\n",
       "      <th></th>\n",
       "      <th></th>\n",
       "      <th></th>\n",
       "    </tr>\n",
       "  </thead>\n",
       "  <tbody>\n",
       "    <tr>\n",
       "      <th>Ti’Juan Boothe</th>\n",
       "      <td>68</td>\n",
       "      <td>M</td>\n",
       "      <td>Swimming</td>\n",
       "      <td>York College</td>\n",
       "    </tr>\n",
       "    <tr>\n",
       "      <th>Jaquan Eleazard</th>\n",
       "      <td>69</td>\n",
       "      <td>M</td>\n",
       "      <td>Swimming</td>\n",
       "      <td>York College</td>\n",
       "    </tr>\n",
       "    <tr>\n",
       "      <th>Arafath Hussain</th>\n",
       "      <td>68</td>\n",
       "      <td>M</td>\n",
       "      <td>Swimming</td>\n",
       "      <td>York College</td>\n",
       "    </tr>\n",
       "    <tr>\n",
       "      <th>Anthony Jordan</th>\n",
       "      <td>67</td>\n",
       "      <td>M</td>\n",
       "      <td>Swimming</td>\n",
       "      <td>York College</td>\n",
       "    </tr>\n",
       "    <tr>\n",
       "      <th>Antonio Josephs</th>\n",
       "      <td>74</td>\n",
       "      <td>M</td>\n",
       "      <td>Swimming</td>\n",
       "      <td>York College</td>\n",
       "    </tr>\n",
       "  </tbody>\n",
       "</table>\n",
       "</div>"
      ],
      "text/plain": [
       "                 Height Sex     Sport       College\n",
       "Name                                               \n",
       "Ti’Juan Boothe       68   M  Swimming  York College\n",
       "Jaquan Eleazard      69   M  Swimming  York College\n",
       "Arafath Hussain      68   M  Swimming  York College\n",
       "Anthony Jordan       67   M  Swimming  York College\n",
       "Antonio Josephs      74   M  Swimming  York College"
      ]
     },
     "execution_count": 36,
     "metadata": {},
     "output_type": "execute_result"
    }
   ],
   "source": [
    "yorkmsdf.head()"
   ]
  },
  {
   "cell_type": "markdown",
   "metadata": {},
   "source": [
    "## - Queens College Women's Swimming"
   ]
  },
  {
   "cell_type": "code",
   "execution_count": 37,
   "metadata": {},
   "outputs": [],
   "source": [
    "url = \"https://queensknights.com/sports/womens-swimming-and-diving/roster\"\n",
    "table = pd.read_html(url)\n",
    "table = table[2]"
   ]
  },
  {
   "cell_type": "code",
   "execution_count": 38,
   "metadata": {},
   "outputs": [
    {
     "data": {
      "text/html": [
       "<div>\n",
       "<style scoped>\n",
       "    .dataframe tbody tr th:only-of-type {\n",
       "        vertical-align: middle;\n",
       "    }\n",
       "\n",
       "    .dataframe tbody tr th {\n",
       "        vertical-align: top;\n",
       "    }\n",
       "\n",
       "    .dataframe thead th {\n",
       "        text-align: right;\n",
       "    }\n",
       "</style>\n",
       "<table border=\"1\" class=\"dataframe\">\n",
       "  <thead>\n",
       "    <tr style=\"text-align: right;\">\n",
       "      <th></th>\n",
       "      <th>Full Name</th>\n",
       "      <th>Academic Year</th>\n",
       "      <th>Ht.</th>\n",
       "      <th>Pos.</th>\n",
       "      <th>Hometown / High School</th>\n",
       "      <th>Previous School</th>\n",
       "    </tr>\n",
       "  </thead>\n",
       "  <tbody>\n",
       "    <tr>\n",
       "      <th>0</th>\n",
       "      <td>Gabriela Almeida</td>\n",
       "      <td>Sr.</td>\n",
       "      <td>5-3</td>\n",
       "      <td>Backstroke/Butterfly</td>\n",
       "      <td>Jackson Heights, N.Y. / Stuyvesant</td>\n",
       "      <td>NaN</td>\n",
       "    </tr>\n",
       "    <tr>\n",
       "      <th>1</th>\n",
       "      <td>Marin Azhar</td>\n",
       "      <td>Jr.</td>\n",
       "      <td>5-1</td>\n",
       "      <td>NaN</td>\n",
       "      <td>Woodside, N.Y. / Razi School</td>\n",
       "      <td>NaN</td>\n",
       "    </tr>\n",
       "    <tr>\n",
       "      <th>2</th>\n",
       "      <td>Alyssa Budzynski</td>\n",
       "      <td>Fr.</td>\n",
       "      <td>5-8</td>\n",
       "      <td>All Disciplines</td>\n",
       "      <td>East Meadow, N.Y. / East Meadow</td>\n",
       "      <td>Ithaca</td>\n",
       "    </tr>\n",
       "    <tr>\n",
       "      <th>3</th>\n",
       "      <td>Brigitti Cruz</td>\n",
       "      <td>Sr.</td>\n",
       "      <td>5-6</td>\n",
       "      <td>Backstroke/Free Distance</td>\n",
       "      <td>Queens, N.Y. / H.S. of Art &amp; Design</td>\n",
       "      <td>NYC Tech</td>\n",
       "    </tr>\n",
       "    <tr>\n",
       "      <th>4</th>\n",
       "      <td>Danielle D'Angelo</td>\n",
       "      <td>Jr.</td>\n",
       "      <td>5-6</td>\n",
       "      <td>NaN</td>\n",
       "      <td>Middle Island, N.Y. / William Floyd</td>\n",
       "      <td>NaN</td>\n",
       "    </tr>\n",
       "  </tbody>\n",
       "</table>\n",
       "</div>"
      ],
      "text/plain": [
       "           Full Name Academic Year  Ht.                      Pos.  \\\n",
       "0   Gabriela Almeida           Sr.  5-3      Backstroke/Butterfly   \n",
       "1        Marin Azhar           Jr.  5-1                       NaN   \n",
       "2   Alyssa Budzynski           Fr.  5-8           All Disciplines   \n",
       "3      Brigitti Cruz           Sr.  5-6  Backstroke/Free Distance   \n",
       "4  Danielle D'Angelo           Jr.  5-6                       NaN   \n",
       "\n",
       "                Hometown / High School Previous School  \n",
       "0   Jackson Heights, N.Y. / Stuyvesant             NaN  \n",
       "1         Woodside, N.Y. / Razi School             NaN  \n",
       "2      East Meadow, N.Y. / East Meadow          Ithaca  \n",
       "3  Queens, N.Y. / H.S. of Art & Design        NYC Tech  \n",
       "4  Middle Island, N.Y. / William Floyd             NaN  "
      ]
     },
     "execution_count": 38,
     "metadata": {},
     "output_type": "execute_result"
    }
   ],
   "source": [
    "qwsdf = pd.DataFrame(table) \n",
    "qwsdf.head()"
   ]
  },
  {
   "cell_type": "code",
   "execution_count": 39,
   "metadata": {},
   "outputs": [
    {
     "data": {
      "text/plain": [
       "Index(['Full Name', 'Academic Year', 'Ht.', 'Pos.', 'Hometown / High School',\n",
       "       'Previous School'],\n",
       "      dtype='object')"
      ]
     },
     "execution_count": 39,
     "metadata": {},
     "output_type": "execute_result"
    }
   ],
   "source": [
    "qwsdf.columns"
   ]
  },
  {
   "cell_type": "code",
   "execution_count": 40,
   "metadata": {},
   "outputs": [],
   "source": [
    "del qwsdf['Academic Year']\n",
    "del qwsdf['Pos.']\n",
    "del qwsdf['Hometown / High School']\n",
    "del qwsdf['Previous School']"
   ]
  },
  {
   "cell_type": "code",
   "execution_count": 41,
   "metadata": {},
   "outputs": [],
   "source": [
    "qwsdf.rename(columns={'Full Name':'Name','Ht.':'Height'}, inplace=True)"
   ]
  },
  {
   "cell_type": "code",
   "execution_count": 42,
   "metadata": {},
   "outputs": [],
   "source": [
    "sex = 'W'\n",
    "sport = 'Swimming'\n",
    "college = 'Queens College'\n",
    "\n",
    "qwsdf['Sex'] = sex\n",
    "qwsdf['Sport'] = sport\n",
    "qwsdf['College'] = college"
   ]
  },
  {
   "cell_type": "code",
   "execution_count": 43,
   "metadata": {},
   "outputs": [
    {
     "data": {
      "text/html": [
       "<div>\n",
       "<style scoped>\n",
       "    .dataframe tbody tr th:only-of-type {\n",
       "        vertical-align: middle;\n",
       "    }\n",
       "\n",
       "    .dataframe tbody tr th {\n",
       "        vertical-align: top;\n",
       "    }\n",
       "\n",
       "    .dataframe thead th {\n",
       "        text-align: right;\n",
       "    }\n",
       "</style>\n",
       "<table border=\"1\" class=\"dataframe\">\n",
       "  <thead>\n",
       "    <tr style=\"text-align: right;\">\n",
       "      <th></th>\n",
       "      <th>Height</th>\n",
       "      <th>Sex</th>\n",
       "      <th>Sport</th>\n",
       "      <th>College</th>\n",
       "    </tr>\n",
       "    <tr>\n",
       "      <th>Name</th>\n",
       "      <th></th>\n",
       "      <th></th>\n",
       "      <th></th>\n",
       "      <th></th>\n",
       "    </tr>\n",
       "  </thead>\n",
       "  <tbody>\n",
       "    <tr>\n",
       "      <th>Gabriela Almeida</th>\n",
       "      <td>5-3</td>\n",
       "      <td>W</td>\n",
       "      <td>Swimming</td>\n",
       "      <td>Queens College</td>\n",
       "    </tr>\n",
       "    <tr>\n",
       "      <th>Marin Azhar</th>\n",
       "      <td>5-1</td>\n",
       "      <td>W</td>\n",
       "      <td>Swimming</td>\n",
       "      <td>Queens College</td>\n",
       "    </tr>\n",
       "    <tr>\n",
       "      <th>Alyssa Budzynski</th>\n",
       "      <td>5-8</td>\n",
       "      <td>W</td>\n",
       "      <td>Swimming</td>\n",
       "      <td>Queens College</td>\n",
       "    </tr>\n",
       "    <tr>\n",
       "      <th>Brigitti Cruz</th>\n",
       "      <td>5-6</td>\n",
       "      <td>W</td>\n",
       "      <td>Swimming</td>\n",
       "      <td>Queens College</td>\n",
       "    </tr>\n",
       "    <tr>\n",
       "      <th>Danielle D'Angelo</th>\n",
       "      <td>5-6</td>\n",
       "      <td>W</td>\n",
       "      <td>Swimming</td>\n",
       "      <td>Queens College</td>\n",
       "    </tr>\n",
       "  </tbody>\n",
       "</table>\n",
       "</div>"
      ],
      "text/plain": [
       "                  Height Sex     Sport         College\n",
       "Name                                                  \n",
       "Gabriela Almeida     5-3   W  Swimming  Queens College\n",
       "Marin Azhar          5-1   W  Swimming  Queens College\n",
       "Alyssa Budzynski     5-8   W  Swimming  Queens College\n",
       "Brigitti Cruz        5-6   W  Swimming  Queens College\n",
       "Danielle D'Angelo    5-6   W  Swimming  Queens College"
      ]
     },
     "execution_count": 43,
     "metadata": {},
     "output_type": "execute_result"
    }
   ],
   "source": [
    "# Dropping numbers in index\n",
    "qwsdf.index = (qwsdf['Name'])\n",
    "qwsdf = qwsdf.drop(['Name'],axis=1)\n",
    "qwsdf.head()"
   ]
  },
  {
   "cell_type": "code",
   "execution_count": 44,
   "metadata": {},
   "outputs": [],
   "source": [
    "splitfeet = qwsdf['Height'].str.split('-').str.get(0)\n",
    "splitin = qwsdf['Height'].str.split('-').str.get(1)"
   ]
  },
  {
   "cell_type": "code",
   "execution_count": 45,
   "metadata": {},
   "outputs": [],
   "source": [
    "splitfeet = splitfeet.astype(int)\n",
    "splitin = splitin.astype(int)\n",
    "qwsdf['Height'] = (splitfeet*12)+splitin"
   ]
  },
  {
   "cell_type": "code",
   "execution_count": 46,
   "metadata": {},
   "outputs": [
    {
     "data": {
      "text/html": [
       "<div>\n",
       "<style scoped>\n",
       "    .dataframe tbody tr th:only-of-type {\n",
       "        vertical-align: middle;\n",
       "    }\n",
       "\n",
       "    .dataframe tbody tr th {\n",
       "        vertical-align: top;\n",
       "    }\n",
       "\n",
       "    .dataframe thead th {\n",
       "        text-align: right;\n",
       "    }\n",
       "</style>\n",
       "<table border=\"1\" class=\"dataframe\">\n",
       "  <thead>\n",
       "    <tr style=\"text-align: right;\">\n",
       "      <th></th>\n",
       "      <th>Height</th>\n",
       "      <th>Sex</th>\n",
       "      <th>Sport</th>\n",
       "      <th>College</th>\n",
       "    </tr>\n",
       "    <tr>\n",
       "      <th>Name</th>\n",
       "      <th></th>\n",
       "      <th></th>\n",
       "      <th></th>\n",
       "      <th></th>\n",
       "    </tr>\n",
       "  </thead>\n",
       "  <tbody>\n",
       "    <tr>\n",
       "      <th>Gabriela Almeida</th>\n",
       "      <td>63</td>\n",
       "      <td>W</td>\n",
       "      <td>Swimming</td>\n",
       "      <td>Queens College</td>\n",
       "    </tr>\n",
       "    <tr>\n",
       "      <th>Marin Azhar</th>\n",
       "      <td>61</td>\n",
       "      <td>W</td>\n",
       "      <td>Swimming</td>\n",
       "      <td>Queens College</td>\n",
       "    </tr>\n",
       "    <tr>\n",
       "      <th>Alyssa Budzynski</th>\n",
       "      <td>68</td>\n",
       "      <td>W</td>\n",
       "      <td>Swimming</td>\n",
       "      <td>Queens College</td>\n",
       "    </tr>\n",
       "    <tr>\n",
       "      <th>Brigitti Cruz</th>\n",
       "      <td>66</td>\n",
       "      <td>W</td>\n",
       "      <td>Swimming</td>\n",
       "      <td>Queens College</td>\n",
       "    </tr>\n",
       "    <tr>\n",
       "      <th>Danielle D'Angelo</th>\n",
       "      <td>66</td>\n",
       "      <td>W</td>\n",
       "      <td>Swimming</td>\n",
       "      <td>Queens College</td>\n",
       "    </tr>\n",
       "  </tbody>\n",
       "</table>\n",
       "</div>"
      ],
      "text/plain": [
       "                   Height Sex     Sport         College\n",
       "Name                                                   \n",
       "Gabriela Almeida       63   W  Swimming  Queens College\n",
       "Marin Azhar            61   W  Swimming  Queens College\n",
       "Alyssa Budzynski       68   W  Swimming  Queens College\n",
       "Brigitti Cruz          66   W  Swimming  Queens College\n",
       "Danielle D'Angelo      66   W  Swimming  Queens College"
      ]
     },
     "execution_count": 46,
     "metadata": {},
     "output_type": "execute_result"
    }
   ],
   "source": [
    "qwsdf.head() "
   ]
  },
  {
   "cell_type": "markdown",
   "metadata": {},
   "source": [
    "# VOLLEYBALL"
   ]
  },
  {
   "cell_type": "markdown",
   "metadata": {},
   "source": [
    "## - Baruch Men's Volleyball"
   ]
  },
  {
   "cell_type": "code",
   "execution_count": 47,
   "metadata": {},
   "outputs": [],
   "source": [
    "url = \"https://athletics.baruch.cuny.edu/sports/mens-volleyball/roster\"\n",
    "r = requests.get(url)\n",
    "rtext = r.text\n",
    "bvbmsoup = soup(rtext,\"html.parser\")"
   ]
  },
  {
   "cell_type": "code",
   "execution_count": 48,
   "metadata": {},
   "outputs": [],
   "source": [
    "def baruch_men_vb(): \n",
    "    p = bvbmsoup.findAll('div',{'class':\"sidearm-roster-player-details flex flex-align-center large-6 x-small-12 full columns\"})\n",
    "    out = []\n",
    "    for i in p:\n",
    "        name = i.find('div',{'class':\"sidearm-roster-player-name\"}).a.text\n",
    "        hght = i.find('span',{'class':\"sidearm-roster-player-height\"}).text\n",
    "        for h in hght:\n",
    "            height_split = hght.split( \"\\'\")\n",
    "            # convert height to inches\n",
    "            feet = int(height_split[0])\n",
    "            i1 = height_split[1]\n",
    "            inch = i1.replace('\"',\" \")\n",
    "            inches = int(inch)\n",
    "            height = int(feet*12 + inches)\n",
    "        out.append((name,height))\n",
    "    return(out)\n",
    "      "
   ]
  },
  {
   "cell_type": "code",
   "execution_count": 49,
   "metadata": {},
   "outputs": [
    {
     "data": {
      "text/plain": [
       "[('QiQin Zeng', 69),\n",
       " ('Andrew Tsororos', 76),\n",
       " ('Steven Lopez', 72),\n",
       " ('Sonam Dorjee', 70),\n",
       " ('Edward Grinberg', 74),\n",
       " ('David Sirchenko', 75),\n",
       " ('Stallone Shankar', 72),\n",
       " ('Rabsang Andrugtsang', 70),\n",
       " ('Hanbin Lee', 69),\n",
       " ('Artem Zinkin', 77),\n",
       " ('Michael Higgins', 76),\n",
       " ('Carlos Rodriguez', 76),\n",
       " ('Leon Petrovitsky', 77),\n",
       " ('Defeng Han', 73),\n",
       " ('Evan Takos', 75),\n",
       " ('Meni Musheyev', 75),\n",
       " ('Justin Iloulian', 74)]"
      ]
     },
     "execution_count": 49,
     "metadata": {},
     "output_type": "execute_result"
    }
   ],
   "source": [
    "baruch_men_vb()"
   ]
  },
  {
   "cell_type": "code",
   "execution_count": 50,
   "metadata": {},
   "outputs": [],
   "source": [
    "bvbdf = pd.DataFrame(baruch_men_vb())"
   ]
  },
  {
   "cell_type": "code",
   "execution_count": 51,
   "metadata": {},
   "outputs": [],
   "source": [
    "bvbdf.columns = ['Name','Height']"
   ]
  },
  {
   "cell_type": "code",
   "execution_count": 52,
   "metadata": {},
   "outputs": [],
   "source": [
    "sex = 'M'\n",
    "sport = 'Volleyball'\n",
    "college = 'Baruch'\n",
    "\n",
    "bvbdf['Sex'] = sex\n",
    "bvbdf['Sport'] = sport\n",
    "bvbdf['College'] = college"
   ]
  },
  {
   "cell_type": "code",
   "execution_count": 53,
   "metadata": {},
   "outputs": [
    {
     "data": {
      "text/html": [
       "<div>\n",
       "<style scoped>\n",
       "    .dataframe tbody tr th:only-of-type {\n",
       "        vertical-align: middle;\n",
       "    }\n",
       "\n",
       "    .dataframe tbody tr th {\n",
       "        vertical-align: top;\n",
       "    }\n",
       "\n",
       "    .dataframe thead th {\n",
       "        text-align: right;\n",
       "    }\n",
       "</style>\n",
       "<table border=\"1\" class=\"dataframe\">\n",
       "  <thead>\n",
       "    <tr style=\"text-align: right;\">\n",
       "      <th></th>\n",
       "      <th>Height</th>\n",
       "      <th>Sex</th>\n",
       "      <th>Sport</th>\n",
       "      <th>College</th>\n",
       "    </tr>\n",
       "    <tr>\n",
       "      <th>Name</th>\n",
       "      <th></th>\n",
       "      <th></th>\n",
       "      <th></th>\n",
       "      <th></th>\n",
       "    </tr>\n",
       "  </thead>\n",
       "  <tbody>\n",
       "    <tr>\n",
       "      <th>QiQin Zeng</th>\n",
       "      <td>69</td>\n",
       "      <td>M</td>\n",
       "      <td>Volleyball</td>\n",
       "      <td>Baruch</td>\n",
       "    </tr>\n",
       "    <tr>\n",
       "      <th>Andrew Tsororos</th>\n",
       "      <td>76</td>\n",
       "      <td>M</td>\n",
       "      <td>Volleyball</td>\n",
       "      <td>Baruch</td>\n",
       "    </tr>\n",
       "    <tr>\n",
       "      <th>Steven Lopez</th>\n",
       "      <td>72</td>\n",
       "      <td>M</td>\n",
       "      <td>Volleyball</td>\n",
       "      <td>Baruch</td>\n",
       "    </tr>\n",
       "    <tr>\n",
       "      <th>Sonam Dorjee</th>\n",
       "      <td>70</td>\n",
       "      <td>M</td>\n",
       "      <td>Volleyball</td>\n",
       "      <td>Baruch</td>\n",
       "    </tr>\n",
       "    <tr>\n",
       "      <th>Edward Grinberg</th>\n",
       "      <td>74</td>\n",
       "      <td>M</td>\n",
       "      <td>Volleyball</td>\n",
       "      <td>Baruch</td>\n",
       "    </tr>\n",
       "  </tbody>\n",
       "</table>\n",
       "</div>"
      ],
      "text/plain": [
       "                 Height Sex       Sport College\n",
       "Name                                           \n",
       "QiQin Zeng           69   M  Volleyball  Baruch\n",
       "Andrew Tsororos      76   M  Volleyball  Baruch\n",
       "Steven Lopez         72   M  Volleyball  Baruch\n",
       "Sonam Dorjee         70   M  Volleyball  Baruch\n",
       "Edward Grinberg      74   M  Volleyball  Baruch"
      ]
     },
     "execution_count": 53,
     "metadata": {},
     "output_type": "execute_result"
    }
   ],
   "source": [
    "# Dropping numbers in index\n",
    "bvbdf.index = (bvbdf['Name'])\n",
    "bvbdf = bvbdf.drop(['Name'],axis=1)\n",
    "bvbdf.head()"
   ]
  },
  {
   "cell_type": "markdown",
   "metadata": {},
   "source": [
    "## - Baruch Women's Volleyball"
   ]
  },
  {
   "cell_type": "code",
   "execution_count": 54,
   "metadata": {},
   "outputs": [],
   "source": [
    "url = \"https://athletics.baruch.cuny.edu/sports/womens-volleyball/roster\"\n",
    "r = requests.get(url)\n",
    "rtext = r.text\n",
    "bvbwsoup = soup(rtext,\"html.parser\")"
   ]
  },
  {
   "cell_type": "code",
   "execution_count": 55,
   "metadata": {},
   "outputs": [],
   "source": [
    "def baruch_women_vb(): \n",
    "    p = bvbwsoup.findAll('div',{'class':\"sidearm-roster-player-details flex flex-align-center large-6 x-small-12 full columns\"})\n",
    "    out = []\n",
    "    for i in p:\n",
    "        name = i.find('div',{'class':\"sidearm-roster-player-name\"}).a.text\n",
    "        hght = i.find('span',{'class':\"sidearm-roster-player-height\"}).text\n",
    "        for h in hght:\n",
    "            height_split = hght.split( \"\\'\")\n",
    "            # convert height to inches\n",
    "            feet = int(height_split[0])\n",
    "            i1 = height_split[1]\n",
    "            inch = i1.replace('\"',\" \")\n",
    "            inches = int(inch)\n",
    "            height = int(feet*12 + inches)\n",
    "        out.append((name,height))\n",
    "    return(out)\n",
    "      "
   ]
  },
  {
   "cell_type": "code",
   "execution_count": 56,
   "metadata": {},
   "outputs": [
    {
     "data": {
      "text/plain": [
       "[('Yijia Cai', 70),\n",
       " ('Jasmin Vidal Ventura', 62),\n",
       " ('Stella  Chung ', 66),\n",
       " ('Claudia Daporta', 72),\n",
       " ('Anita Sengara', 71),\n",
       " ('Young Gi Go', 60),\n",
       " ('Wai Chang', 64),\n",
       " ('Anesa Feratovic', 66),\n",
       " ('Claudia Moi', 65),\n",
       " ('Sanaa  Hadjeb', 67),\n",
       " ('Cindy Cui', 64),\n",
       " ('Cady Xia', 61),\n",
       " ('Ada Cao', 66),\n",
       " ('Katherine Chen', 67)]"
      ]
     },
     "execution_count": 56,
     "metadata": {},
     "output_type": "execute_result"
    }
   ],
   "source": [
    "baruch_women_vb()"
   ]
  },
  {
   "cell_type": "code",
   "execution_count": 57,
   "metadata": {},
   "outputs": [],
   "source": [
    "bvbwdf = pd.DataFrame(baruch_women_vb())"
   ]
  },
  {
   "cell_type": "code",
   "execution_count": 58,
   "metadata": {},
   "outputs": [],
   "source": [
    "bvbwdf.columns = ['Name','Height']"
   ]
  },
  {
   "cell_type": "code",
   "execution_count": 59,
   "metadata": {},
   "outputs": [],
   "source": [
    "sex = 'W'\n",
    "sport = 'Volleyball'\n",
    "college = 'Baruch'\n",
    "\n",
    "bvbwdf['Sex'] = sex\n",
    "bvbwdf['Sport'] = sport\n",
    "bvbwdf['College'] = college"
   ]
  },
  {
   "cell_type": "code",
   "execution_count": 60,
   "metadata": {},
   "outputs": [
    {
     "data": {
      "text/html": [
       "<div>\n",
       "<style scoped>\n",
       "    .dataframe tbody tr th:only-of-type {\n",
       "        vertical-align: middle;\n",
       "    }\n",
       "\n",
       "    .dataframe tbody tr th {\n",
       "        vertical-align: top;\n",
       "    }\n",
       "\n",
       "    .dataframe thead th {\n",
       "        text-align: right;\n",
       "    }\n",
       "</style>\n",
       "<table border=\"1\" class=\"dataframe\">\n",
       "  <thead>\n",
       "    <tr style=\"text-align: right;\">\n",
       "      <th></th>\n",
       "      <th>Height</th>\n",
       "      <th>Sex</th>\n",
       "      <th>Sport</th>\n",
       "      <th>College</th>\n",
       "    </tr>\n",
       "    <tr>\n",
       "      <th>Name</th>\n",
       "      <th></th>\n",
       "      <th></th>\n",
       "      <th></th>\n",
       "      <th></th>\n",
       "    </tr>\n",
       "  </thead>\n",
       "  <tbody>\n",
       "    <tr>\n",
       "      <th>Yijia Cai</th>\n",
       "      <td>70</td>\n",
       "      <td>W</td>\n",
       "      <td>Volleyball</td>\n",
       "      <td>Baruch</td>\n",
       "    </tr>\n",
       "    <tr>\n",
       "      <th>Jasmin Vidal Ventura</th>\n",
       "      <td>62</td>\n",
       "      <td>W</td>\n",
       "      <td>Volleyball</td>\n",
       "      <td>Baruch</td>\n",
       "    </tr>\n",
       "    <tr>\n",
       "      <th>Stella  Chung</th>\n",
       "      <td>66</td>\n",
       "      <td>W</td>\n",
       "      <td>Volleyball</td>\n",
       "      <td>Baruch</td>\n",
       "    </tr>\n",
       "    <tr>\n",
       "      <th>Claudia Daporta</th>\n",
       "      <td>72</td>\n",
       "      <td>W</td>\n",
       "      <td>Volleyball</td>\n",
       "      <td>Baruch</td>\n",
       "    </tr>\n",
       "    <tr>\n",
       "      <th>Anita Sengara</th>\n",
       "      <td>71</td>\n",
       "      <td>W</td>\n",
       "      <td>Volleyball</td>\n",
       "      <td>Baruch</td>\n",
       "    </tr>\n",
       "  </tbody>\n",
       "</table>\n",
       "</div>"
      ],
      "text/plain": [
       "                      Height Sex       Sport College\n",
       "Name                                                \n",
       "Yijia Cai                 70   W  Volleyball  Baruch\n",
       "Jasmin Vidal Ventura      62   W  Volleyball  Baruch\n",
       "Stella  Chung             66   W  Volleyball  Baruch\n",
       "Claudia Daporta           72   W  Volleyball  Baruch\n",
       "Anita Sengara             71   W  Volleyball  Baruch"
      ]
     },
     "execution_count": 60,
     "metadata": {},
     "output_type": "execute_result"
    }
   ],
   "source": [
    "# Dropping numbers in index\n",
    "bvbwdf.index = (bvbwdf['Name'])\n",
    "bvbwdf = bvbwdf.drop(['Name'],axis=1)\n",
    "bvbwdf.head()"
   ]
  },
  {
   "cell_type": "markdown",
   "metadata": {},
   "source": [
    "## - Brooklyn College Men's Volleyball"
   ]
  },
  {
   "cell_type": "code",
   "execution_count": 61,
   "metadata": {},
   "outputs": [],
   "source": [
    "url = \"https://www.brooklyncollegeathletics.com/sports/mens-volleyball/roster/2019\"\n",
    "r = requests.get(url)\n",
    "rtext = r.text\n",
    "bkvbmsoup = soup(rtext,\"html.parser\")"
   ]
  },
  {
   "cell_type": "code",
   "execution_count": 62,
   "metadata": {},
   "outputs": [],
   "source": [
    "def bk_men_vb(): \n",
    "    p = bkvbmsoup.findAll('div',{'class':\"sidearm-roster-player-details flex flex-align-center large-6 x-small-12 full columns\"})\n",
    "    out = []\n",
    "    for i in p:\n",
    "        name = i.find('div',{'class':\"sidearm-roster-player-name\"}).a.text\n",
    "        hght = i.find('span',{'class':\"sidearm-roster-player-height\"}).text\n",
    "        for h in hght:\n",
    "            height_split = hght.split( \"\\'\")\n",
    "            # convert height to inches\n",
    "            feet = int(height_split[0])\n",
    "            i1 = height_split[1]\n",
    "            inch = i1.replace('\"',\" \")\n",
    "            inches = int(inch)\n",
    "            height = int(feet*12 + inches)\n",
    "        out.append((name,height))\n",
    "    return(out)\n",
    "      "
   ]
  },
  {
   "cell_type": "code",
   "execution_count": 63,
   "metadata": {},
   "outputs": [],
   "source": [
    "bkvbdf = pd.DataFrame(bk_men_vb())"
   ]
  },
  {
   "cell_type": "code",
   "execution_count": 64,
   "metadata": {},
   "outputs": [],
   "source": [
    "bkvbdf.columns = ['Name','Height']"
   ]
  },
  {
   "cell_type": "code",
   "execution_count": 65,
   "metadata": {},
   "outputs": [],
   "source": [
    "sex = 'M'\n",
    "sport = 'Volleyball'\n",
    "college = 'Brooklyn College'\n",
    "\n",
    "bkvbdf['Sex'] = sex\n",
    "bkvbdf['Sport'] = sport\n",
    "bkvbdf['College'] = college"
   ]
  },
  {
   "cell_type": "code",
   "execution_count": 66,
   "metadata": {},
   "outputs": [
    {
     "data": {
      "text/html": [
       "<div>\n",
       "<style scoped>\n",
       "    .dataframe tbody tr th:only-of-type {\n",
       "        vertical-align: middle;\n",
       "    }\n",
       "\n",
       "    .dataframe tbody tr th {\n",
       "        vertical-align: top;\n",
       "    }\n",
       "\n",
       "    .dataframe thead th {\n",
       "        text-align: right;\n",
       "    }\n",
       "</style>\n",
       "<table border=\"1\" class=\"dataframe\">\n",
       "  <thead>\n",
       "    <tr style=\"text-align: right;\">\n",
       "      <th></th>\n",
       "      <th>Height</th>\n",
       "      <th>Sex</th>\n",
       "      <th>Sport</th>\n",
       "      <th>College</th>\n",
       "    </tr>\n",
       "    <tr>\n",
       "      <th>Name</th>\n",
       "      <th></th>\n",
       "      <th></th>\n",
       "      <th></th>\n",
       "      <th></th>\n",
       "    </tr>\n",
       "  </thead>\n",
       "  <tbody>\n",
       "    <tr>\n",
       "      <th>Snigdho Hasan</th>\n",
       "      <td>65</td>\n",
       "      <td>M</td>\n",
       "      <td>Volleyball</td>\n",
       "      <td>Brooklyn College</td>\n",
       "    </tr>\n",
       "    <tr>\n",
       "      <th>Michael  Valentin</th>\n",
       "      <td>69</td>\n",
       "      <td>M</td>\n",
       "      <td>Volleyball</td>\n",
       "      <td>Brooklyn College</td>\n",
       "    </tr>\n",
       "    <tr>\n",
       "      <th>Andres Vargas</th>\n",
       "      <td>72</td>\n",
       "      <td>M</td>\n",
       "      <td>Volleyball</td>\n",
       "      <td>Brooklyn College</td>\n",
       "    </tr>\n",
       "    <tr>\n",
       "      <th>Jasper Diangco</th>\n",
       "      <td>70</td>\n",
       "      <td>M</td>\n",
       "      <td>Volleyball</td>\n",
       "      <td>Brooklyn College</td>\n",
       "    </tr>\n",
       "    <tr>\n",
       "      <th>Sayuj Zachariah</th>\n",
       "      <td>74</td>\n",
       "      <td>M</td>\n",
       "      <td>Volleyball</td>\n",
       "      <td>Brooklyn College</td>\n",
       "    </tr>\n",
       "  </tbody>\n",
       "</table>\n",
       "</div>"
      ],
      "text/plain": [
       "                   Height Sex       Sport           College\n",
       "Name                                                       \n",
       "Snigdho Hasan          65   M  Volleyball  Brooklyn College\n",
       "Michael  Valentin      69   M  Volleyball  Brooklyn College\n",
       "Andres Vargas          72   M  Volleyball  Brooklyn College\n",
       "Jasper Diangco         70   M  Volleyball  Brooklyn College\n",
       "Sayuj Zachariah        74   M  Volleyball  Brooklyn College"
      ]
     },
     "execution_count": 66,
     "metadata": {},
     "output_type": "execute_result"
    }
   ],
   "source": [
    "# Dropping numbers in index\n",
    "bkvbdf.index = (bkvbdf['Name'])\n",
    "bkvbdf = bkvbdf.drop(['Name'],axis=1)\n",
    "bkvbdf.head()"
   ]
  },
  {
   "cell_type": "markdown",
   "metadata": {},
   "source": [
    "## - Brooklyn College Women's Volleyball"
   ]
  },
  {
   "cell_type": "code",
   "execution_count": 67,
   "metadata": {},
   "outputs": [],
   "source": [
    "url = \"https://www.brooklyncollegeathletics.com/sports/womens-volleyball/roster/2019\"\n",
    "r = requests.get(url)\n",
    "rtext = r.text\n",
    "bkvbwsoup = soup(rtext,\"html.parser\")"
   ]
  },
  {
   "cell_type": "code",
   "execution_count": 68,
   "metadata": {},
   "outputs": [],
   "source": [
    "def bk_women_vb(): \n",
    "    p = bkvbwsoup.findAll('div',{'class':\"sidearm-roster-player-details flex flex-align-center large-6 x-small-12 full columns\"})\n",
    "    out = []\n",
    "    for i in p:\n",
    "        name = i.find('div',{'class':\"sidearm-roster-player-name\"}).a.text\n",
    "        hght = i.find('span',{'class':\"sidearm-roster-player-height\"}).text\n",
    "        for h in hght:\n",
    "            height_split = hght.split( \"\\'\")\n",
    "            # convert height to inches\n",
    "            feet = int(height_split[0])\n",
    "            i1 = height_split[1]\n",
    "            inch = i1.replace('\"',\" \")\n",
    "            inches = int(inch)\n",
    "            height = int(feet*12 + inches)\n",
    "        out.append((name,height))\n",
    "    return(out)\n",
    "      "
   ]
  },
  {
   "cell_type": "code",
   "execution_count": 69,
   "metadata": {},
   "outputs": [],
   "source": [
    "bkwvbdf = pd.DataFrame(bk_women_vb())"
   ]
  },
  {
   "cell_type": "code",
   "execution_count": 70,
   "metadata": {},
   "outputs": [],
   "source": [
    "bkwvbdf.columns = ['Name','Height']"
   ]
  },
  {
   "cell_type": "code",
   "execution_count": 71,
   "metadata": {},
   "outputs": [],
   "source": [
    "sex = 'W'\n",
    "sport = 'Volleyball'\n",
    "college = 'Brooklyn College'\n",
    "\n",
    "bkwvbdf['Sex'] = sex\n",
    "bkwvbdf['Sport'] = sport\n",
    "bkwvbdf['College'] = college"
   ]
  },
  {
   "cell_type": "code",
   "execution_count": 72,
   "metadata": {},
   "outputs": [
    {
     "data": {
      "text/html": [
       "<div>\n",
       "<style scoped>\n",
       "    .dataframe tbody tr th:only-of-type {\n",
       "        vertical-align: middle;\n",
       "    }\n",
       "\n",
       "    .dataframe tbody tr th {\n",
       "        vertical-align: top;\n",
       "    }\n",
       "\n",
       "    .dataframe thead th {\n",
       "        text-align: right;\n",
       "    }\n",
       "</style>\n",
       "<table border=\"1\" class=\"dataframe\">\n",
       "  <thead>\n",
       "    <tr style=\"text-align: right;\">\n",
       "      <th></th>\n",
       "      <th>Height</th>\n",
       "      <th>Sex</th>\n",
       "      <th>Sport</th>\n",
       "      <th>College</th>\n",
       "    </tr>\n",
       "    <tr>\n",
       "      <th>Name</th>\n",
       "      <th></th>\n",
       "      <th></th>\n",
       "      <th></th>\n",
       "      <th></th>\n",
       "    </tr>\n",
       "  </thead>\n",
       "  <tbody>\n",
       "    <tr>\n",
       "      <th>Inesa Shimcani</th>\n",
       "      <td>65</td>\n",
       "      <td>W</td>\n",
       "      <td>Volleyball</td>\n",
       "      <td>Brooklyn College</td>\n",
       "    </tr>\n",
       "    <tr>\n",
       "      <th>Ashley Fung</th>\n",
       "      <td>67</td>\n",
       "      <td>W</td>\n",
       "      <td>Volleyball</td>\n",
       "      <td>Brooklyn College</td>\n",
       "    </tr>\n",
       "    <tr>\n",
       "      <th>Rain Zhang</th>\n",
       "      <td>66</td>\n",
       "      <td>W</td>\n",
       "      <td>Volleyball</td>\n",
       "      <td>Brooklyn College</td>\n",
       "    </tr>\n",
       "    <tr>\n",
       "      <th>Yana Shaposhnikova</th>\n",
       "      <td>63</td>\n",
       "      <td>W</td>\n",
       "      <td>Volleyball</td>\n",
       "      <td>Brooklyn College</td>\n",
       "    </tr>\n",
       "    <tr>\n",
       "      <th>Ezri  Shor</th>\n",
       "      <td>65</td>\n",
       "      <td>W</td>\n",
       "      <td>Volleyball</td>\n",
       "      <td>Brooklyn College</td>\n",
       "    </tr>\n",
       "  </tbody>\n",
       "</table>\n",
       "</div>"
      ],
      "text/plain": [
       "                     Height Sex       Sport           College\n",
       "Name                                                         \n",
       "Inesa Shimcani           65   W  Volleyball  Brooklyn College\n",
       "Ashley Fung              67   W  Volleyball  Brooklyn College\n",
       "Rain Zhang               66   W  Volleyball  Brooklyn College\n",
       "Yana Shaposhnikova       63   W  Volleyball  Brooklyn College\n",
       "Ezri  Shor               65   W  Volleyball  Brooklyn College"
      ]
     },
     "execution_count": 72,
     "metadata": {},
     "output_type": "execute_result"
    }
   ],
   "source": [
    "# Dropping numbers in index\n",
    "bkwvbdf.index = (bkwvbdf['Name'])\n",
    "bkwvbdf = bkwvbdf.drop(['Name'],axis=1)\n",
    "bkwvbdf.head()"
   ]
  },
  {
   "cell_type": "markdown",
   "metadata": {},
   "source": [
    "## York College"
   ]
  },
  {
   "cell_type": "code",
   "execution_count": 73,
   "metadata": {},
   "outputs": [],
   "source": [
    "url = \"https://yorkathletics.com/sports/mens-volleyball/roster\"\n",
    "table = pd.read_html(url)\n",
    "table = table[2]"
   ]
  },
  {
   "cell_type": "code",
   "execution_count": 74,
   "metadata": {},
   "outputs": [
    {
     "data": {
      "text/html": [
       "<div>\n",
       "<style scoped>\n",
       "    .dataframe tbody tr th:only-of-type {\n",
       "        vertical-align: middle;\n",
       "    }\n",
       "\n",
       "    .dataframe tbody tr th {\n",
       "        vertical-align: top;\n",
       "    }\n",
       "\n",
       "    .dataframe thead th {\n",
       "        text-align: right;\n",
       "    }\n",
       "</style>\n",
       "<table border=\"1\" class=\"dataframe\">\n",
       "  <thead>\n",
       "    <tr style=\"text-align: right;\">\n",
       "      <th></th>\n",
       "      <th>#</th>\n",
       "      <th>Full Name</th>\n",
       "      <th>Pos.</th>\n",
       "      <th>Ht.</th>\n",
       "      <th>Wt.</th>\n",
       "      <th>Yr.</th>\n",
       "      <th>Hometown / High School</th>\n",
       "    </tr>\n",
       "  </thead>\n",
       "  <tbody>\n",
       "    <tr>\n",
       "      <th>0</th>\n",
       "      <td>2</td>\n",
       "      <td>John Vitor</td>\n",
       "      <td>DS/L</td>\n",
       "      <td>5-6</td>\n",
       "      <td>139</td>\n",
       "      <td>Fr.</td>\n",
       "      <td>Manila, Philippines / Martin Van Buren</td>\n",
       "    </tr>\n",
       "    <tr>\n",
       "      <th>1</th>\n",
       "      <td>3</td>\n",
       "      <td>Juan Rodriguez</td>\n",
       "      <td>L/S</td>\n",
       "      <td>5-6</td>\n",
       "      <td>160</td>\n",
       "      <td>Jr.</td>\n",
       "      <td>Santiago, Dominican Republic / Academy for Lan...</td>\n",
       "    </tr>\n",
       "    <tr>\n",
       "      <th>2</th>\n",
       "      <td>4</td>\n",
       "      <td>Shawn Nemoto</td>\n",
       "      <td>L</td>\n",
       "      <td>5-7</td>\n",
       "      <td>125</td>\n",
       "      <td>Jr.</td>\n",
       "      <td>Floral Park, N.Y. / Thomas Edison CTE</td>\n",
       "    </tr>\n",
       "    <tr>\n",
       "      <th>3</th>\n",
       "      <td>5</td>\n",
       "      <td>Erick Ortega</td>\n",
       "      <td>OH</td>\n",
       "      <td>5-8</td>\n",
       "      <td>164</td>\n",
       "      <td>Fr.</td>\n",
       "      <td>Queens, N.Y. / Benjamin Franklin HS for Financ...</td>\n",
       "    </tr>\n",
       "    <tr>\n",
       "      <th>4</th>\n",
       "      <td>6</td>\n",
       "      <td>Akil Vaughn</td>\n",
       "      <td>OH</td>\n",
       "      <td>6-5</td>\n",
       "      <td>210</td>\n",
       "      <td>Jr.</td>\n",
       "      <td>Georgetown, Guyana / St. Roses</td>\n",
       "    </tr>\n",
       "    <tr>\n",
       "      <th>5</th>\n",
       "      <td>7</td>\n",
       "      <td>Justin Saji</td>\n",
       "      <td>OH</td>\n",
       "      <td>5-10</td>\n",
       "      <td>145</td>\n",
       "      <td>Fr.</td>\n",
       "      <td>Kerala, India / Sewanhaka</td>\n",
       "    </tr>\n",
       "    <tr>\n",
       "      <th>6</th>\n",
       "      <td>8</td>\n",
       "      <td>Jayden Deokinanan</td>\n",
       "      <td>DS/L</td>\n",
       "      <td>5-4</td>\n",
       "      <td>127</td>\n",
       "      <td>Fr.</td>\n",
       "      <td>Brooklyn, N.Y. / John Adams</td>\n",
       "    </tr>\n",
       "    <tr>\n",
       "      <th>7</th>\n",
       "      <td>9</td>\n",
       "      <td>Mambe Koureissi</td>\n",
       "      <td>MB</td>\n",
       "      <td>6-4</td>\n",
       "      <td>175</td>\n",
       "      <td>Sr.</td>\n",
       "      <td>Harlem, N.Y. / Environmental Studies</td>\n",
       "    </tr>\n",
       "    <tr>\n",
       "      <th>8</th>\n",
       "      <td>10</td>\n",
       "      <td>Anthony Nazario, Jr.</td>\n",
       "      <td>OH</td>\n",
       "      <td>5-9</td>\n",
       "      <td>235</td>\n",
       "      <td>Sr.</td>\n",
       "      <td>Bronx, N.Y. / DeWitt Clinton</td>\n",
       "    </tr>\n",
       "    <tr>\n",
       "      <th>9</th>\n",
       "      <td>12</td>\n",
       "      <td>Olawale Kila</td>\n",
       "      <td>OH</td>\n",
       "      <td>6-4</td>\n",
       "      <td>209</td>\n",
       "      <td>Fr.</td>\n",
       "      <td>Nigeria / Broome Street Academy Charter</td>\n",
       "    </tr>\n",
       "    <tr>\n",
       "      <th>10</th>\n",
       "      <td>13</td>\n",
       "      <td>David Heyliger, Jr.</td>\n",
       "      <td>OH</td>\n",
       "      <td>6-1</td>\n",
       "      <td>265</td>\n",
       "      <td>Fr.</td>\n",
       "      <td>St. Thomas, U.S. Virgin Islands / Charlotte Am...</td>\n",
       "    </tr>\n",
       "    <tr>\n",
       "      <th>11</th>\n",
       "      <td>14</td>\n",
       "      <td>Guillermo Hernandez</td>\n",
       "      <td>MH</td>\n",
       "      <td>6-4</td>\n",
       "      <td>170</td>\n",
       "      <td>So.</td>\n",
       "      <td>New York, N.Y. / Gregorio Luperon</td>\n",
       "    </tr>\n",
       "    <tr>\n",
       "      <th>12</th>\n",
       "      <td>15</td>\n",
       "      <td>Fatmir Glavatovic</td>\n",
       "      <td>OH</td>\n",
       "      <td>6-0</td>\n",
       "      <td>210</td>\n",
       "      <td>Sr.</td>\n",
       "      <td>Brooklyn, N.Y. / Secondary School for Law</td>\n",
       "    </tr>\n",
       "    <tr>\n",
       "      <th>13</th>\n",
       "      <td>16</td>\n",
       "      <td>Ti’Juan Boothe</td>\n",
       "      <td>OH</td>\n",
       "      <td>5-8</td>\n",
       "      <td>210</td>\n",
       "      <td>Fr.</td>\n",
       "      <td>Kingston, Jamaica / Excelsior Prep</td>\n",
       "    </tr>\n",
       "  </tbody>\n",
       "</table>\n",
       "</div>"
      ],
      "text/plain": [
       "     #             Full Name  Pos.   Ht.  Wt.  Yr.  \\\n",
       "0    2            John Vitor  DS/L   5-6  139  Fr.   \n",
       "1    3        Juan Rodriguez   L/S   5-6  160  Jr.   \n",
       "2    4          Shawn Nemoto     L   5-7  125  Jr.   \n",
       "3    5          Erick Ortega    OH   5-8  164  Fr.   \n",
       "4    6           Akil Vaughn    OH   6-5  210  Jr.   \n",
       "5    7           Justin Saji    OH  5-10  145  Fr.   \n",
       "6    8     Jayden Deokinanan  DS/L   5-4  127  Fr.   \n",
       "7    9       Mambe Koureissi    MB   6-4  175  Sr.   \n",
       "8   10  Anthony Nazario, Jr.    OH   5-9  235  Sr.   \n",
       "9   12          Olawale Kila    OH   6-4  209  Fr.   \n",
       "10  13   David Heyliger, Jr.    OH   6-1  265  Fr.   \n",
       "11  14   Guillermo Hernandez    MH   6-4  170  So.   \n",
       "12  15     Fatmir Glavatovic    OH   6-0  210  Sr.   \n",
       "13  16        Ti’Juan Boothe    OH   5-8  210  Fr.   \n",
       "\n",
       "                               Hometown / High School  \n",
       "0              Manila, Philippines / Martin Van Buren  \n",
       "1   Santiago, Dominican Republic / Academy for Lan...  \n",
       "2               Floral Park, N.Y. / Thomas Edison CTE  \n",
       "3   Queens, N.Y. / Benjamin Franklin HS for Financ...  \n",
       "4                      Georgetown, Guyana / St. Roses  \n",
       "5                           Kerala, India / Sewanhaka  \n",
       "6                         Brooklyn, N.Y. / John Adams  \n",
       "7                Harlem, N.Y. / Environmental Studies  \n",
       "8                        Bronx, N.Y. / DeWitt Clinton  \n",
       "9             Nigeria / Broome Street Academy Charter  \n",
       "10  St. Thomas, U.S. Virgin Islands / Charlotte Am...  \n",
       "11                  New York, N.Y. / Gregorio Luperon  \n",
       "12          Brooklyn, N.Y. / Secondary School for Law  \n",
       "13                 Kingston, Jamaica / Excelsior Prep  "
      ]
     },
     "execution_count": 74,
     "metadata": {},
     "output_type": "execute_result"
    }
   ],
   "source": [
    "yorkmvdf = pd.DataFrame(table)\n",
    "yorkmvdf "
   ]
  },
  {
   "cell_type": "code",
   "execution_count": 75,
   "metadata": {},
   "outputs": [
    {
     "data": {
      "text/plain": [
       "Index(['#', 'Full Name', 'Pos.', 'Ht.', 'Wt.', 'Yr.',\n",
       "       'Hometown / High School'],\n",
       "      dtype='object')"
      ]
     },
     "execution_count": 75,
     "metadata": {},
     "output_type": "execute_result"
    }
   ],
   "source": [
    "yorkmvdf.columns"
   ]
  },
  {
   "cell_type": "code",
   "execution_count": 76,
   "metadata": {},
   "outputs": [],
   "source": [
    "del yorkmvdf['#']\n",
    "del yorkmvdf['Pos.']\n",
    "del yorkmvdf['Wt.']\n",
    "del yorkmvdf['Yr.']\n",
    "del yorkmvdf['Hometown / High School']"
   ]
  },
  {
   "cell_type": "code",
   "execution_count": 77,
   "metadata": {},
   "outputs": [],
   "source": [
    "yorkmvdf.rename(columns={'Full Name':'Name','Ht.':'Height'}, inplace=True)"
   ]
  },
  {
   "cell_type": "code",
   "execution_count": 78,
   "metadata": {},
   "outputs": [],
   "source": [
    "sex = 'M'\n",
    "sport = 'Volleyball'\n",
    "college = 'York College'\n",
    "\n",
    "yorkmvdf.columns = ['Name','Height']\n",
    "yorkmvdf['Sex'] = sex\n",
    "yorkmvdf['Sport'] = sport\n",
    "yorkmvdf['College'] = college"
   ]
  },
  {
   "cell_type": "code",
   "execution_count": 79,
   "metadata": {},
   "outputs": [
    {
     "data": {
      "text/html": [
       "<div>\n",
       "<style scoped>\n",
       "    .dataframe tbody tr th:only-of-type {\n",
       "        vertical-align: middle;\n",
       "    }\n",
       "\n",
       "    .dataframe tbody tr th {\n",
       "        vertical-align: top;\n",
       "    }\n",
       "\n",
       "    .dataframe thead th {\n",
       "        text-align: right;\n",
       "    }\n",
       "</style>\n",
       "<table border=\"1\" class=\"dataframe\">\n",
       "  <thead>\n",
       "    <tr style=\"text-align: right;\">\n",
       "      <th></th>\n",
       "      <th>Height</th>\n",
       "      <th>Sex</th>\n",
       "      <th>Sport</th>\n",
       "      <th>College</th>\n",
       "    </tr>\n",
       "    <tr>\n",
       "      <th>Name</th>\n",
       "      <th></th>\n",
       "      <th></th>\n",
       "      <th></th>\n",
       "      <th></th>\n",
       "    </tr>\n",
       "  </thead>\n",
       "  <tbody>\n",
       "    <tr>\n",
       "      <th>John Vitor</th>\n",
       "      <td>5-6</td>\n",
       "      <td>M</td>\n",
       "      <td>Volleyball</td>\n",
       "      <td>York College</td>\n",
       "    </tr>\n",
       "    <tr>\n",
       "      <th>Juan Rodriguez</th>\n",
       "      <td>5-6</td>\n",
       "      <td>M</td>\n",
       "      <td>Volleyball</td>\n",
       "      <td>York College</td>\n",
       "    </tr>\n",
       "    <tr>\n",
       "      <th>Shawn Nemoto</th>\n",
       "      <td>5-7</td>\n",
       "      <td>M</td>\n",
       "      <td>Volleyball</td>\n",
       "      <td>York College</td>\n",
       "    </tr>\n",
       "    <tr>\n",
       "      <th>Erick Ortega</th>\n",
       "      <td>5-8</td>\n",
       "      <td>M</td>\n",
       "      <td>Volleyball</td>\n",
       "      <td>York College</td>\n",
       "    </tr>\n",
       "    <tr>\n",
       "      <th>Akil Vaughn</th>\n",
       "      <td>6-5</td>\n",
       "      <td>M</td>\n",
       "      <td>Volleyball</td>\n",
       "      <td>York College</td>\n",
       "    </tr>\n",
       "  </tbody>\n",
       "</table>\n",
       "</div>"
      ],
      "text/plain": [
       "               Height Sex       Sport       College\n",
       "Name                                               \n",
       "John Vitor        5-6   M  Volleyball  York College\n",
       "Juan Rodriguez    5-6   M  Volleyball  York College\n",
       "Shawn Nemoto      5-7   M  Volleyball  York College\n",
       "Erick Ortega      5-8   M  Volleyball  York College\n",
       "Akil Vaughn       6-5   M  Volleyball  York College"
      ]
     },
     "execution_count": 79,
     "metadata": {},
     "output_type": "execute_result"
    }
   ],
   "source": [
    "# Dropping numbers in index\n",
    "yorkmvdf.index = (yorkmvdf['Name'])\n",
    "yorkmvdf = yorkmvdf.drop(['Name'],axis=1)\n",
    "yorkmvdf.head()"
   ]
  },
  {
   "cell_type": "code",
   "execution_count": 80,
   "metadata": {},
   "outputs": [],
   "source": [
    "splitfeet = yorkmvdf['Height'].str.split('-').str.get(0)\n",
    "splitin = yorkmvdf['Height'].str.split('-').str.get(1)"
   ]
  },
  {
   "cell_type": "code",
   "execution_count": 81,
   "metadata": {},
   "outputs": [],
   "source": [
    "splitfeet = splitfeet.astype(int)\n",
    "splitin = splitin.astype(int)\n",
    "yorkmvdf['Height'] = (splitfeet*12)+splitin"
   ]
  },
  {
   "cell_type": "code",
   "execution_count": 82,
   "metadata": {},
   "outputs": [
    {
     "data": {
      "text/html": [
       "<div>\n",
       "<style scoped>\n",
       "    .dataframe tbody tr th:only-of-type {\n",
       "        vertical-align: middle;\n",
       "    }\n",
       "\n",
       "    .dataframe tbody tr th {\n",
       "        vertical-align: top;\n",
       "    }\n",
       "\n",
       "    .dataframe thead th {\n",
       "        text-align: right;\n",
       "    }\n",
       "</style>\n",
       "<table border=\"1\" class=\"dataframe\">\n",
       "  <thead>\n",
       "    <tr style=\"text-align: right;\">\n",
       "      <th></th>\n",
       "      <th>Height</th>\n",
       "      <th>Sex</th>\n",
       "      <th>Sport</th>\n",
       "      <th>College</th>\n",
       "    </tr>\n",
       "    <tr>\n",
       "      <th>Name</th>\n",
       "      <th></th>\n",
       "      <th></th>\n",
       "      <th></th>\n",
       "      <th></th>\n",
       "    </tr>\n",
       "  </thead>\n",
       "  <tbody>\n",
       "    <tr>\n",
       "      <th>John Vitor</th>\n",
       "      <td>66</td>\n",
       "      <td>M</td>\n",
       "      <td>Volleyball</td>\n",
       "      <td>York College</td>\n",
       "    </tr>\n",
       "    <tr>\n",
       "      <th>Juan Rodriguez</th>\n",
       "      <td>66</td>\n",
       "      <td>M</td>\n",
       "      <td>Volleyball</td>\n",
       "      <td>York College</td>\n",
       "    </tr>\n",
       "    <tr>\n",
       "      <th>Shawn Nemoto</th>\n",
       "      <td>67</td>\n",
       "      <td>M</td>\n",
       "      <td>Volleyball</td>\n",
       "      <td>York College</td>\n",
       "    </tr>\n",
       "    <tr>\n",
       "      <th>Erick Ortega</th>\n",
       "      <td>68</td>\n",
       "      <td>M</td>\n",
       "      <td>Volleyball</td>\n",
       "      <td>York College</td>\n",
       "    </tr>\n",
       "    <tr>\n",
       "      <th>Akil Vaughn</th>\n",
       "      <td>77</td>\n",
       "      <td>M</td>\n",
       "      <td>Volleyball</td>\n",
       "      <td>York College</td>\n",
       "    </tr>\n",
       "  </tbody>\n",
       "</table>\n",
       "</div>"
      ],
      "text/plain": [
       "                Height Sex       Sport       College\n",
       "Name                                                \n",
       "John Vitor          66   M  Volleyball  York College\n",
       "Juan Rodriguez      66   M  Volleyball  York College\n",
       "Shawn Nemoto        67   M  Volleyball  York College\n",
       "Erick Ortega        68   M  Volleyball  York College\n",
       "Akil Vaughn         77   M  Volleyball  York College"
      ]
     },
     "execution_count": 82,
     "metadata": {},
     "output_type": "execute_result"
    }
   ],
   "source": [
    "yorkmvdf.head()"
   ]
  },
  {
   "cell_type": "markdown",
   "metadata": {},
   "source": [
    "## - John Jay Women's Volleyball"
   ]
  },
  {
   "cell_type": "code",
   "execution_count": 83,
   "metadata": {},
   "outputs": [],
   "source": [
    "url = \"https://johnjayathletics.com/sports/womens-volleyball/roster\"\n",
    "r = requests.get(url)\n",
    "rtext = r.text\n",
    "jjvsoup = soup(rtext,\"html.parser\")"
   ]
  },
  {
   "cell_type": "code",
   "execution_count": 84,
   "metadata": {},
   "outputs": [
    {
     "data": {
      "text/plain": [
       "['Stephany Chhay',\n",
       " 'Niovis Monsanto',\n",
       " 'Sonam Nematullah',\n",
       " 'Haley Potvin-Sanjurjo',\n",
       " 'Mirialis Almanzar',\n",
       " 'Jamarie Silverio',\n",
       " 'Freysha Rivera',\n",
       " 'Autumn Reeves',\n",
       " 'Sophia Wheelan',\n",
       " 'Karen Sumlang',\n",
       " 'Kimberly Rodriguez',\n",
       " 'Leszek Stankiewicz',\n",
       " 'Mario Gonzalez',\n",
       " 'Jacek Ratajczak',\n",
       " 'Luz Martinez',\n",
       " 'Manuel Peralta']"
      ]
     },
     "execution_count": 84,
     "metadata": {},
     "output_type": "execute_result"
    }
   ],
   "source": [
    "# Grabbing names\n",
    "nameout = []\n",
    "for n in jjvsoup.findAll('div',{'class':'sidearm-list-card-details relative'}):\n",
    "    f = n.find('span',{'class':'sidearm-roster-player-first-name'}).text\n",
    "    l = n.find('span',{'class':'sidearm-roster-player-last-name'}).text\n",
    "    name = f+\" \"+l\n",
    "    nameout.append(name)\n",
    "nameout"
   ]
  },
  {
   "cell_type": "code",
   "execution_count": 85,
   "metadata": {},
   "outputs": [
    {
     "data": {
      "text/plain": [
       "['5\\'2\"',\n",
       " '5\\'10\"',\n",
       " '5\\'2\"',\n",
       " '5\\'6\"',\n",
       " '6\\'0\"',\n",
       " '5\\'7\"',\n",
       " '5\\'6\"',\n",
       " '6\\'2\"',\n",
       " '6\\'0\"',\n",
       " '5\\'8\"',\n",
       " '5\\'7\"',\n",
       " '5\\'2\"',\n",
       " '5\\'10\"',\n",
       " '5\\'2\"',\n",
       " '5\\'6\"',\n",
       " '6\\'0\"',\n",
       " '5\\'7\"',\n",
       " '5\\'6\"',\n",
       " '6\\'2\"',\n",
       " '6\\'0\"',\n",
       " '5\\'8\"',\n",
       " '5\\'7\"']"
      ]
     },
     "execution_count": 85,
     "metadata": {},
     "output_type": "execute_result"
    }
   ],
   "source": [
    "hghtout = []\n",
    "for h in jjvsoup.findAll('span',{'class':'sidearm-roster-player-height'}):\n",
    "    hghtout.append(h.text)\n",
    "hghtout  "
   ]
  },
  {
   "cell_type": "code",
   "execution_count": 86,
   "metadata": {},
   "outputs": [
    {
     "data": {
      "text/html": [
       "<div>\n",
       "<style scoped>\n",
       "    .dataframe tbody tr th:only-of-type {\n",
       "        vertical-align: middle;\n",
       "    }\n",
       "\n",
       "    .dataframe tbody tr th {\n",
       "        vertical-align: top;\n",
       "    }\n",
       "\n",
       "    .dataframe thead th {\n",
       "        text-align: right;\n",
       "    }\n",
       "</style>\n",
       "<table border=\"1\" class=\"dataframe\">\n",
       "  <thead>\n",
       "    <tr style=\"text-align: right;\">\n",
       "      <th></th>\n",
       "      <th>0</th>\n",
       "    </tr>\n",
       "  </thead>\n",
       "  <tbody>\n",
       "    <tr>\n",
       "      <th>0</th>\n",
       "      <td>Stephany Chhay</td>\n",
       "    </tr>\n",
       "    <tr>\n",
       "      <th>1</th>\n",
       "      <td>Niovis Monsanto</td>\n",
       "    </tr>\n",
       "    <tr>\n",
       "      <th>2</th>\n",
       "      <td>Sonam Nematullah</td>\n",
       "    </tr>\n",
       "    <tr>\n",
       "      <th>3</th>\n",
       "      <td>Haley Potvin-Sanjurjo</td>\n",
       "    </tr>\n",
       "    <tr>\n",
       "      <th>4</th>\n",
       "      <td>Mirialis Almanzar</td>\n",
       "    </tr>\n",
       "    <tr>\n",
       "      <th>5</th>\n",
       "      <td>Jamarie Silverio</td>\n",
       "    </tr>\n",
       "    <tr>\n",
       "      <th>6</th>\n",
       "      <td>Freysha Rivera</td>\n",
       "    </tr>\n",
       "    <tr>\n",
       "      <th>7</th>\n",
       "      <td>Autumn Reeves</td>\n",
       "    </tr>\n",
       "    <tr>\n",
       "      <th>8</th>\n",
       "      <td>Sophia Wheelan</td>\n",
       "    </tr>\n",
       "    <tr>\n",
       "      <th>9</th>\n",
       "      <td>Karen Sumlang</td>\n",
       "    </tr>\n",
       "    <tr>\n",
       "      <th>10</th>\n",
       "      <td>Kimberly Rodriguez</td>\n",
       "    </tr>\n",
       "    <tr>\n",
       "      <th>11</th>\n",
       "      <td>Leszek Stankiewicz</td>\n",
       "    </tr>\n",
       "    <tr>\n",
       "      <th>12</th>\n",
       "      <td>Mario Gonzalez</td>\n",
       "    </tr>\n",
       "    <tr>\n",
       "      <th>13</th>\n",
       "      <td>Jacek Ratajczak</td>\n",
       "    </tr>\n",
       "    <tr>\n",
       "      <th>14</th>\n",
       "      <td>Luz Martinez</td>\n",
       "    </tr>\n",
       "    <tr>\n",
       "      <th>15</th>\n",
       "      <td>Manuel Peralta</td>\n",
       "    </tr>\n",
       "  </tbody>\n",
       "</table>\n",
       "</div>"
      ],
      "text/plain": [
       "                        0\n",
       "0          Stephany Chhay\n",
       "1         Niovis Monsanto\n",
       "2        Sonam Nematullah\n",
       "3   Haley Potvin-Sanjurjo\n",
       "4       Mirialis Almanzar\n",
       "5        Jamarie Silverio\n",
       "6          Freysha Rivera\n",
       "7           Autumn Reeves\n",
       "8          Sophia Wheelan\n",
       "9           Karen Sumlang\n",
       "10     Kimberly Rodriguez\n",
       "11     Leszek Stankiewicz\n",
       "12         Mario Gonzalez\n",
       "13        Jacek Ratajczak\n",
       "14           Luz Martinez\n",
       "15         Manuel Peralta"
      ]
     },
     "execution_count": 86,
     "metadata": {},
     "output_type": "execute_result"
    }
   ],
   "source": [
    "df1 = pd.DataFrame(nameout)\n",
    "df1"
   ]
  },
  {
   "cell_type": "code",
   "execution_count": 87,
   "metadata": {},
   "outputs": [
    {
     "data": {
      "text/html": [
       "<div>\n",
       "<style scoped>\n",
       "    .dataframe tbody tr th:only-of-type {\n",
       "        vertical-align: middle;\n",
       "    }\n",
       "\n",
       "    .dataframe tbody tr th {\n",
       "        vertical-align: top;\n",
       "    }\n",
       "\n",
       "    .dataframe thead th {\n",
       "        text-align: right;\n",
       "    }\n",
       "</style>\n",
       "<table border=\"1\" class=\"dataframe\">\n",
       "  <thead>\n",
       "    <tr style=\"text-align: right;\">\n",
       "      <th></th>\n",
       "      <th>0</th>\n",
       "    </tr>\n",
       "  </thead>\n",
       "  <tbody>\n",
       "    <tr>\n",
       "      <th>0</th>\n",
       "      <td>5'2\"</td>\n",
       "    </tr>\n",
       "    <tr>\n",
       "      <th>1</th>\n",
       "      <td>5'10\"</td>\n",
       "    </tr>\n",
       "    <tr>\n",
       "      <th>2</th>\n",
       "      <td>5'2\"</td>\n",
       "    </tr>\n",
       "    <tr>\n",
       "      <th>3</th>\n",
       "      <td>5'6\"</td>\n",
       "    </tr>\n",
       "    <tr>\n",
       "      <th>4</th>\n",
       "      <td>6'0\"</td>\n",
       "    </tr>\n",
       "    <tr>\n",
       "      <th>5</th>\n",
       "      <td>5'7\"</td>\n",
       "    </tr>\n",
       "    <tr>\n",
       "      <th>6</th>\n",
       "      <td>5'6\"</td>\n",
       "    </tr>\n",
       "    <tr>\n",
       "      <th>7</th>\n",
       "      <td>6'2\"</td>\n",
       "    </tr>\n",
       "    <tr>\n",
       "      <th>8</th>\n",
       "      <td>6'0\"</td>\n",
       "    </tr>\n",
       "    <tr>\n",
       "      <th>9</th>\n",
       "      <td>5'8\"</td>\n",
       "    </tr>\n",
       "    <tr>\n",
       "      <th>10</th>\n",
       "      <td>5'7\"</td>\n",
       "    </tr>\n",
       "    <tr>\n",
       "      <th>11</th>\n",
       "      <td>5'2\"</td>\n",
       "    </tr>\n",
       "    <tr>\n",
       "      <th>12</th>\n",
       "      <td>5'10\"</td>\n",
       "    </tr>\n",
       "    <tr>\n",
       "      <th>13</th>\n",
       "      <td>5'2\"</td>\n",
       "    </tr>\n",
       "    <tr>\n",
       "      <th>14</th>\n",
       "      <td>5'6\"</td>\n",
       "    </tr>\n",
       "    <tr>\n",
       "      <th>15</th>\n",
       "      <td>6'0\"</td>\n",
       "    </tr>\n",
       "    <tr>\n",
       "      <th>16</th>\n",
       "      <td>5'7\"</td>\n",
       "    </tr>\n",
       "    <tr>\n",
       "      <th>17</th>\n",
       "      <td>5'6\"</td>\n",
       "    </tr>\n",
       "    <tr>\n",
       "      <th>18</th>\n",
       "      <td>6'2\"</td>\n",
       "    </tr>\n",
       "    <tr>\n",
       "      <th>19</th>\n",
       "      <td>6'0\"</td>\n",
       "    </tr>\n",
       "    <tr>\n",
       "      <th>20</th>\n",
       "      <td>5'8\"</td>\n",
       "    </tr>\n",
       "    <tr>\n",
       "      <th>21</th>\n",
       "      <td>5'7\"</td>\n",
       "    </tr>\n",
       "  </tbody>\n",
       "</table>\n",
       "</div>"
      ],
      "text/plain": [
       "        0\n",
       "0    5'2\"\n",
       "1   5'10\"\n",
       "2    5'2\"\n",
       "3    5'6\"\n",
       "4    6'0\"\n",
       "5    5'7\"\n",
       "6    5'6\"\n",
       "7    6'2\"\n",
       "8    6'0\"\n",
       "9    5'8\"\n",
       "10   5'7\"\n",
       "11   5'2\"\n",
       "12  5'10\"\n",
       "13   5'2\"\n",
       "14   5'6\"\n",
       "15   6'0\"\n",
       "16   5'7\"\n",
       "17   5'6\"\n",
       "18   6'2\"\n",
       "19   6'0\"\n",
       "20   5'8\"\n",
       "21   5'7\""
      ]
     },
     "execution_count": 87,
     "metadata": {},
     "output_type": "execute_result"
    }
   ],
   "source": [
    "df2 = pd.DataFrame(hghtout)\n",
    "df2"
   ]
  },
  {
   "cell_type": "code",
   "execution_count": 88,
   "metadata": {},
   "outputs": [
    {
     "data": {
      "text/html": [
       "<div>\n",
       "<style scoped>\n",
       "    .dataframe tbody tr th:only-of-type {\n",
       "        vertical-align: middle;\n",
       "    }\n",
       "\n",
       "    .dataframe tbody tr th {\n",
       "        vertical-align: top;\n",
       "    }\n",
       "\n",
       "    .dataframe thead th {\n",
       "        text-align: right;\n",
       "    }\n",
       "</style>\n",
       "<table border=\"1\" class=\"dataframe\">\n",
       "  <thead>\n",
       "    <tr style=\"text-align: right;\">\n",
       "      <th></th>\n",
       "      <th>0</th>\n",
       "      <th>0</th>\n",
       "    </tr>\n",
       "  </thead>\n",
       "  <tbody>\n",
       "    <tr>\n",
       "      <th>0</th>\n",
       "      <td>Stephany Chhay</td>\n",
       "      <td>5'2\"</td>\n",
       "    </tr>\n",
       "    <tr>\n",
       "      <th>1</th>\n",
       "      <td>Niovis Monsanto</td>\n",
       "      <td>5'10\"</td>\n",
       "    </tr>\n",
       "    <tr>\n",
       "      <th>2</th>\n",
       "      <td>Sonam Nematullah</td>\n",
       "      <td>5'2\"</td>\n",
       "    </tr>\n",
       "    <tr>\n",
       "      <th>3</th>\n",
       "      <td>Haley Potvin-Sanjurjo</td>\n",
       "      <td>5'6\"</td>\n",
       "    </tr>\n",
       "    <tr>\n",
       "      <th>4</th>\n",
       "      <td>Mirialis Almanzar</td>\n",
       "      <td>6'0\"</td>\n",
       "    </tr>\n",
       "    <tr>\n",
       "      <th>5</th>\n",
       "      <td>Jamarie Silverio</td>\n",
       "      <td>5'7\"</td>\n",
       "    </tr>\n",
       "    <tr>\n",
       "      <th>6</th>\n",
       "      <td>Freysha Rivera</td>\n",
       "      <td>5'6\"</td>\n",
       "    </tr>\n",
       "    <tr>\n",
       "      <th>7</th>\n",
       "      <td>Autumn Reeves</td>\n",
       "      <td>6'2\"</td>\n",
       "    </tr>\n",
       "    <tr>\n",
       "      <th>8</th>\n",
       "      <td>Sophia Wheelan</td>\n",
       "      <td>6'0\"</td>\n",
       "    </tr>\n",
       "    <tr>\n",
       "      <th>9</th>\n",
       "      <td>Karen Sumlang</td>\n",
       "      <td>5'8\"</td>\n",
       "    </tr>\n",
       "    <tr>\n",
       "      <th>10</th>\n",
       "      <td>Kimberly Rodriguez</td>\n",
       "      <td>5'7\"</td>\n",
       "    </tr>\n",
       "    <tr>\n",
       "      <th>11</th>\n",
       "      <td>Leszek Stankiewicz</td>\n",
       "      <td>5'2\"</td>\n",
       "    </tr>\n",
       "    <tr>\n",
       "      <th>12</th>\n",
       "      <td>Mario Gonzalez</td>\n",
       "      <td>5'10\"</td>\n",
       "    </tr>\n",
       "    <tr>\n",
       "      <th>13</th>\n",
       "      <td>Jacek Ratajczak</td>\n",
       "      <td>5'2\"</td>\n",
       "    </tr>\n",
       "    <tr>\n",
       "      <th>14</th>\n",
       "      <td>Luz Martinez</td>\n",
       "      <td>5'6\"</td>\n",
       "    </tr>\n",
       "    <tr>\n",
       "      <th>15</th>\n",
       "      <td>Manuel Peralta</td>\n",
       "      <td>6'0\"</td>\n",
       "    </tr>\n",
       "    <tr>\n",
       "      <th>16</th>\n",
       "      <td>NaN</td>\n",
       "      <td>5'7\"</td>\n",
       "    </tr>\n",
       "    <tr>\n",
       "      <th>17</th>\n",
       "      <td>NaN</td>\n",
       "      <td>5'6\"</td>\n",
       "    </tr>\n",
       "    <tr>\n",
       "      <th>18</th>\n",
       "      <td>NaN</td>\n",
       "      <td>6'2\"</td>\n",
       "    </tr>\n",
       "    <tr>\n",
       "      <th>19</th>\n",
       "      <td>NaN</td>\n",
       "      <td>6'0\"</td>\n",
       "    </tr>\n",
       "    <tr>\n",
       "      <th>20</th>\n",
       "      <td>NaN</td>\n",
       "      <td>5'8\"</td>\n",
       "    </tr>\n",
       "    <tr>\n",
       "      <th>21</th>\n",
       "      <td>NaN</td>\n",
       "      <td>5'7\"</td>\n",
       "    </tr>\n",
       "  </tbody>\n",
       "</table>\n",
       "</div>"
      ],
      "text/plain": [
       "                        0      0\n",
       "0          Stephany Chhay   5'2\"\n",
       "1         Niovis Monsanto  5'10\"\n",
       "2        Sonam Nematullah   5'2\"\n",
       "3   Haley Potvin-Sanjurjo   5'6\"\n",
       "4       Mirialis Almanzar   6'0\"\n",
       "5        Jamarie Silverio   5'7\"\n",
       "6          Freysha Rivera   5'6\"\n",
       "7           Autumn Reeves   6'2\"\n",
       "8          Sophia Wheelan   6'0\"\n",
       "9           Karen Sumlang   5'8\"\n",
       "10     Kimberly Rodriguez   5'7\"\n",
       "11     Leszek Stankiewicz   5'2\"\n",
       "12         Mario Gonzalez  5'10\"\n",
       "13        Jacek Ratajczak   5'2\"\n",
       "14           Luz Martinez   5'6\"\n",
       "15         Manuel Peralta   6'0\"\n",
       "16                    NaN   5'7\"\n",
       "17                    NaN   5'6\"\n",
       "18                    NaN   6'2\"\n",
       "19                    NaN   6'0\"\n",
       "20                    NaN   5'8\"\n",
       "21                    NaN   5'7\""
      ]
     },
     "execution_count": 88,
     "metadata": {},
     "output_type": "execute_result"
    }
   ],
   "source": [
    "df = pd.concat([df1,df2],axis=1)\n",
    "df"
   ]
  },
  {
   "cell_type": "code",
   "execution_count": 89,
   "metadata": {},
   "outputs": [],
   "source": [
    "df.columns = ['Name','Height']"
   ]
  },
  {
   "cell_type": "code",
   "execution_count": 90,
   "metadata": {},
   "outputs": [],
   "source": [
    "new = df['Height'].str.split(\"'\",n=1,expand=True)"
   ]
  },
  {
   "cell_type": "code",
   "execution_count": 91,
   "metadata": {},
   "outputs": [],
   "source": [
    "df[\"feet\"]= new[0]\n",
    "df[\"in\"]= new[1]"
   ]
  },
  {
   "cell_type": "code",
   "execution_count": 92,
   "metadata": {},
   "outputs": [],
   "source": [
    "df[\"in\"] = df[\"in\"].str.replace('\"','')"
   ]
  },
  {
   "cell_type": "code",
   "execution_count": 93,
   "metadata": {},
   "outputs": [
    {
     "data": {
      "text/plain": [
       "0      2\n",
       "1     10\n",
       "2      2\n",
       "3      6\n",
       "4      0\n",
       "5      7\n",
       "6      6\n",
       "7      2\n",
       "8      0\n",
       "9      8\n",
       "10     7\n",
       "11     2\n",
       "12    10\n",
       "13     2\n",
       "14     6\n",
       "15     0\n",
       "16     7\n",
       "17     6\n",
       "18     2\n",
       "19     0\n",
       "20     8\n",
       "21     7\n",
       "Name: in, dtype: object"
      ]
     },
     "execution_count": 93,
     "metadata": {},
     "output_type": "execute_result"
    }
   ],
   "source": [
    "df[\"in\"]"
   ]
  },
  {
   "cell_type": "code",
   "execution_count": 94,
   "metadata": {},
   "outputs": [],
   "source": [
    "df[\"in\"] = df[\"in\"].astype(int)\n",
    "df[\"feet\"] = df[\"feet\"].astype(int)"
   ]
  },
  {
   "cell_type": "code",
   "execution_count": 95,
   "metadata": {},
   "outputs": [],
   "source": [
    "del df[\"Height\"]"
   ]
  },
  {
   "cell_type": "code",
   "execution_count": 96,
   "metadata": {},
   "outputs": [],
   "source": [
    "df[\"Height\"] = (df[\"feet\"]*12)+df[\"in\"]"
   ]
  },
  {
   "cell_type": "code",
   "execution_count": 97,
   "metadata": {},
   "outputs": [],
   "source": [
    "del df[\"in\"]\n",
    "del df[\"feet\"]"
   ]
  },
  {
   "cell_type": "code",
   "execution_count": 98,
   "metadata": {},
   "outputs": [],
   "source": [
    "jjwv = df.copy()"
   ]
  },
  {
   "cell_type": "code",
   "execution_count": 99,
   "metadata": {},
   "outputs": [],
   "source": [
    "jjwv = jjwv.dropna()\n"
   ]
  },
  {
   "cell_type": "code",
   "execution_count": 100,
   "metadata": {},
   "outputs": [
    {
     "data": {
      "text/html": [
       "<div>\n",
       "<style scoped>\n",
       "    .dataframe tbody tr th:only-of-type {\n",
       "        vertical-align: middle;\n",
       "    }\n",
       "\n",
       "    .dataframe tbody tr th {\n",
       "        vertical-align: top;\n",
       "    }\n",
       "\n",
       "    .dataframe thead th {\n",
       "        text-align: right;\n",
       "    }\n",
       "</style>\n",
       "<table border=\"1\" class=\"dataframe\">\n",
       "  <thead>\n",
       "    <tr style=\"text-align: right;\">\n",
       "      <th></th>\n",
       "      <th>Name</th>\n",
       "      <th>Height</th>\n",
       "    </tr>\n",
       "  </thead>\n",
       "  <tbody>\n",
       "    <tr>\n",
       "      <th>0</th>\n",
       "      <td>Stephany Chhay</td>\n",
       "      <td>62</td>\n",
       "    </tr>\n",
       "    <tr>\n",
       "      <th>1</th>\n",
       "      <td>Niovis Monsanto</td>\n",
       "      <td>70</td>\n",
       "    </tr>\n",
       "    <tr>\n",
       "      <th>2</th>\n",
       "      <td>Sonam Nematullah</td>\n",
       "      <td>62</td>\n",
       "    </tr>\n",
       "    <tr>\n",
       "      <th>3</th>\n",
       "      <td>Haley Potvin-Sanjurjo</td>\n",
       "      <td>66</td>\n",
       "    </tr>\n",
       "    <tr>\n",
       "      <th>4</th>\n",
       "      <td>Mirialis Almanzar</td>\n",
       "      <td>72</td>\n",
       "    </tr>\n",
       "    <tr>\n",
       "      <th>5</th>\n",
       "      <td>Jamarie Silverio</td>\n",
       "      <td>67</td>\n",
       "    </tr>\n",
       "    <tr>\n",
       "      <th>6</th>\n",
       "      <td>Freysha Rivera</td>\n",
       "      <td>66</td>\n",
       "    </tr>\n",
       "    <tr>\n",
       "      <th>7</th>\n",
       "      <td>Autumn Reeves</td>\n",
       "      <td>74</td>\n",
       "    </tr>\n",
       "    <tr>\n",
       "      <th>8</th>\n",
       "      <td>Sophia Wheelan</td>\n",
       "      <td>72</td>\n",
       "    </tr>\n",
       "    <tr>\n",
       "      <th>9</th>\n",
       "      <td>Karen Sumlang</td>\n",
       "      <td>68</td>\n",
       "    </tr>\n",
       "    <tr>\n",
       "      <th>10</th>\n",
       "      <td>Kimberly Rodriguez</td>\n",
       "      <td>67</td>\n",
       "    </tr>\n",
       "    <tr>\n",
       "      <th>11</th>\n",
       "      <td>Leszek Stankiewicz</td>\n",
       "      <td>62</td>\n",
       "    </tr>\n",
       "    <tr>\n",
       "      <th>12</th>\n",
       "      <td>Mario Gonzalez</td>\n",
       "      <td>70</td>\n",
       "    </tr>\n",
       "    <tr>\n",
       "      <th>13</th>\n",
       "      <td>Jacek Ratajczak</td>\n",
       "      <td>62</td>\n",
       "    </tr>\n",
       "    <tr>\n",
       "      <th>14</th>\n",
       "      <td>Luz Martinez</td>\n",
       "      <td>66</td>\n",
       "    </tr>\n",
       "    <tr>\n",
       "      <th>15</th>\n",
       "      <td>Manuel Peralta</td>\n",
       "      <td>72</td>\n",
       "    </tr>\n",
       "  </tbody>\n",
       "</table>\n",
       "</div>"
      ],
      "text/plain": [
       "                     Name  Height\n",
       "0          Stephany Chhay      62\n",
       "1         Niovis Monsanto      70\n",
       "2        Sonam Nematullah      62\n",
       "3   Haley Potvin-Sanjurjo      66\n",
       "4       Mirialis Almanzar      72\n",
       "5        Jamarie Silverio      67\n",
       "6          Freysha Rivera      66\n",
       "7           Autumn Reeves      74\n",
       "8          Sophia Wheelan      72\n",
       "9           Karen Sumlang      68\n",
       "10     Kimberly Rodriguez      67\n",
       "11     Leszek Stankiewicz      62\n",
       "12         Mario Gonzalez      70\n",
       "13        Jacek Ratajczak      62\n",
       "14           Luz Martinez      66\n",
       "15         Manuel Peralta      72"
      ]
     },
     "execution_count": 100,
     "metadata": {},
     "output_type": "execute_result"
    }
   ],
   "source": [
    "jjwv"
   ]
  },
  {
   "cell_type": "code",
   "execution_count": 101,
   "metadata": {},
   "outputs": [],
   "source": [
    "sex = 'W'\n",
    "sport = 'Volleyball'\n",
    "college = 'John Jay College'\n",
    "\n",
    "jjwv.columns = ['Name','Height']\n",
    "jjwv['Sex'] = sex\n",
    "jjwv['Sport'] = sport\n",
    "jjwv['College'] = college"
   ]
  },
  {
   "cell_type": "code",
   "execution_count": 102,
   "metadata": {},
   "outputs": [],
   "source": [
    "# Dropping numbers in index\n",
    "jjwv.index = (jjwv['Name'])\n",
    "jjwv = jjwv.drop(['Name'],axis=1)"
   ]
  },
  {
   "cell_type": "code",
   "execution_count": 103,
   "metadata": {},
   "outputs": [],
   "source": [
    "jjwv.drop(['Leszek Stankiewicz','Mario Gonzalez','Jacek Ratajczak','Luz Martinez','Manuel Peralta'], inplace=True)"
   ]
  },
  {
   "cell_type": "code",
   "execution_count": 104,
   "metadata": {},
   "outputs": [
    {
     "data": {
      "text/html": [
       "<div>\n",
       "<style scoped>\n",
       "    .dataframe tbody tr th:only-of-type {\n",
       "        vertical-align: middle;\n",
       "    }\n",
       "\n",
       "    .dataframe tbody tr th {\n",
       "        vertical-align: top;\n",
       "    }\n",
       "\n",
       "    .dataframe thead th {\n",
       "        text-align: right;\n",
       "    }\n",
       "</style>\n",
       "<table border=\"1\" class=\"dataframe\">\n",
       "  <thead>\n",
       "    <tr style=\"text-align: right;\">\n",
       "      <th></th>\n",
       "      <th>Height</th>\n",
       "      <th>Sex</th>\n",
       "      <th>Sport</th>\n",
       "      <th>College</th>\n",
       "    </tr>\n",
       "    <tr>\n",
       "      <th>Name</th>\n",
       "      <th></th>\n",
       "      <th></th>\n",
       "      <th></th>\n",
       "      <th></th>\n",
       "    </tr>\n",
       "  </thead>\n",
       "  <tbody>\n",
       "    <tr>\n",
       "      <th>Stephany Chhay</th>\n",
       "      <td>62</td>\n",
       "      <td>W</td>\n",
       "      <td>Volleyball</td>\n",
       "      <td>John Jay College</td>\n",
       "    </tr>\n",
       "    <tr>\n",
       "      <th>Niovis Monsanto</th>\n",
       "      <td>70</td>\n",
       "      <td>W</td>\n",
       "      <td>Volleyball</td>\n",
       "      <td>John Jay College</td>\n",
       "    </tr>\n",
       "    <tr>\n",
       "      <th>Sonam Nematullah</th>\n",
       "      <td>62</td>\n",
       "      <td>W</td>\n",
       "      <td>Volleyball</td>\n",
       "      <td>John Jay College</td>\n",
       "    </tr>\n",
       "    <tr>\n",
       "      <th>Haley Potvin-Sanjurjo</th>\n",
       "      <td>66</td>\n",
       "      <td>W</td>\n",
       "      <td>Volleyball</td>\n",
       "      <td>John Jay College</td>\n",
       "    </tr>\n",
       "    <tr>\n",
       "      <th>Mirialis Almanzar</th>\n",
       "      <td>72</td>\n",
       "      <td>W</td>\n",
       "      <td>Volleyball</td>\n",
       "      <td>John Jay College</td>\n",
       "    </tr>\n",
       "    <tr>\n",
       "      <th>Jamarie Silverio</th>\n",
       "      <td>67</td>\n",
       "      <td>W</td>\n",
       "      <td>Volleyball</td>\n",
       "      <td>John Jay College</td>\n",
       "    </tr>\n",
       "    <tr>\n",
       "      <th>Freysha Rivera</th>\n",
       "      <td>66</td>\n",
       "      <td>W</td>\n",
       "      <td>Volleyball</td>\n",
       "      <td>John Jay College</td>\n",
       "    </tr>\n",
       "    <tr>\n",
       "      <th>Autumn Reeves</th>\n",
       "      <td>74</td>\n",
       "      <td>W</td>\n",
       "      <td>Volleyball</td>\n",
       "      <td>John Jay College</td>\n",
       "    </tr>\n",
       "    <tr>\n",
       "      <th>Sophia Wheelan</th>\n",
       "      <td>72</td>\n",
       "      <td>W</td>\n",
       "      <td>Volleyball</td>\n",
       "      <td>John Jay College</td>\n",
       "    </tr>\n",
       "    <tr>\n",
       "      <th>Karen Sumlang</th>\n",
       "      <td>68</td>\n",
       "      <td>W</td>\n",
       "      <td>Volleyball</td>\n",
       "      <td>John Jay College</td>\n",
       "    </tr>\n",
       "    <tr>\n",
       "      <th>Kimberly Rodriguez</th>\n",
       "      <td>67</td>\n",
       "      <td>W</td>\n",
       "      <td>Volleyball</td>\n",
       "      <td>John Jay College</td>\n",
       "    </tr>\n",
       "  </tbody>\n",
       "</table>\n",
       "</div>"
      ],
      "text/plain": [
       "                       Height Sex       Sport           College\n",
       "Name                                                           \n",
       "Stephany Chhay             62   W  Volleyball  John Jay College\n",
       "Niovis Monsanto            70   W  Volleyball  John Jay College\n",
       "Sonam Nematullah           62   W  Volleyball  John Jay College\n",
       "Haley Potvin-Sanjurjo      66   W  Volleyball  John Jay College\n",
       "Mirialis Almanzar          72   W  Volleyball  John Jay College\n",
       "Jamarie Silverio           67   W  Volleyball  John Jay College\n",
       "Freysha Rivera             66   W  Volleyball  John Jay College\n",
       "Autumn Reeves              74   W  Volleyball  John Jay College\n",
       "Sophia Wheelan             72   W  Volleyball  John Jay College\n",
       "Karen Sumlang              68   W  Volleyball  John Jay College\n",
       "Kimberly Rodriguez         67   W  Volleyball  John Jay College"
      ]
     },
     "execution_count": 104,
     "metadata": {},
     "output_type": "execute_result"
    }
   ],
   "source": [
    "jjwv"
   ]
  },
  {
   "cell_type": "code",
   "execution_count": 105,
   "metadata": {},
   "outputs": [],
   "source": [
    "data = pd.concat([bwsdf,bmsdf,bkwsdf,qwsdf,bvbdf,bvbwdf,yorkmsdf,bkmsdf,bkwvbdf,bkvbdf,yorkmvdf,jjwv])"
   ]
  },
  {
   "cell_type": "code",
   "execution_count": 106,
   "metadata": {},
   "outputs": [],
   "source": [
    "data.reset_index(level=0, inplace=True)"
   ]
  },
  {
   "cell_type": "code",
   "execution_count": 107,
   "metadata": {},
   "outputs": [
    {
     "data": {
      "text/plain": [
       "Index(['Name', 'Height', 'Sex', 'Sport', 'College'], dtype='object')"
      ]
     },
     "execution_count": 107,
     "metadata": {},
     "output_type": "execute_result"
    }
   ],
   "source": [
    "data.columns"
   ]
  },
  {
   "cell_type": "markdown",
   "metadata": {},
   "source": [
    "# - Completed Dataset"
   ]
  },
  {
   "cell_type": "code",
   "execution_count": 108,
   "metadata": {},
   "outputs": [
    {
     "data": {
      "text/html": [
       "<div>\n",
       "<style scoped>\n",
       "    .dataframe tbody tr th:only-of-type {\n",
       "        vertical-align: middle;\n",
       "    }\n",
       "\n",
       "    .dataframe tbody tr th {\n",
       "        vertical-align: top;\n",
       "    }\n",
       "\n",
       "    .dataframe thead th {\n",
       "        text-align: right;\n",
       "    }\n",
       "</style>\n",
       "<table border=\"1\" class=\"dataframe\">\n",
       "  <thead>\n",
       "    <tr style=\"text-align: right;\">\n",
       "      <th></th>\n",
       "      <th>Name</th>\n",
       "      <th>Height</th>\n",
       "      <th>Sex</th>\n",
       "      <th>Sport</th>\n",
       "      <th>College</th>\n",
       "    </tr>\n",
       "  </thead>\n",
       "  <tbody>\n",
       "    <tr>\n",
       "      <th>0</th>\n",
       "      <td>Stephanie  Antonova</td>\n",
       "      <td>61</td>\n",
       "      <td>W</td>\n",
       "      <td>Swimming</td>\n",
       "      <td>Baruch</td>\n",
       "    </tr>\n",
       "    <tr>\n",
       "      <th>1</th>\n",
       "      <td>Nicole Astudillo</td>\n",
       "      <td>62</td>\n",
       "      <td>W</td>\n",
       "      <td>Swimming</td>\n",
       "      <td>Baruch</td>\n",
       "    </tr>\n",
       "    <tr>\n",
       "      <th>2</th>\n",
       "      <td>Andrea Gasic</td>\n",
       "      <td>69</td>\n",
       "      <td>W</td>\n",
       "      <td>Swimming</td>\n",
       "      <td>Baruch</td>\n",
       "    </tr>\n",
       "    <tr>\n",
       "      <th>3</th>\n",
       "      <td>Onika George</td>\n",
       "      <td>70</td>\n",
       "      <td>W</td>\n",
       "      <td>Swimming</td>\n",
       "      <td>Baruch</td>\n",
       "    </tr>\n",
       "    <tr>\n",
       "      <th>4</th>\n",
       "      <td>Karina Gotz</td>\n",
       "      <td>67</td>\n",
       "      <td>W</td>\n",
       "      <td>Swimming</td>\n",
       "      <td>Baruch</td>\n",
       "    </tr>\n",
       "    <tr>\n",
       "      <th>...</th>\n",
       "      <td>...</td>\n",
       "      <td>...</td>\n",
       "      <td>...</td>\n",
       "      <td>...</td>\n",
       "      <td>...</td>\n",
       "    </tr>\n",
       "    <tr>\n",
       "      <th>158</th>\n",
       "      <td>Freysha Rivera</td>\n",
       "      <td>66</td>\n",
       "      <td>W</td>\n",
       "      <td>Volleyball</td>\n",
       "      <td>John Jay College</td>\n",
       "    </tr>\n",
       "    <tr>\n",
       "      <th>159</th>\n",
       "      <td>Autumn Reeves</td>\n",
       "      <td>74</td>\n",
       "      <td>W</td>\n",
       "      <td>Volleyball</td>\n",
       "      <td>John Jay College</td>\n",
       "    </tr>\n",
       "    <tr>\n",
       "      <th>160</th>\n",
       "      <td>Sophia Wheelan</td>\n",
       "      <td>72</td>\n",
       "      <td>W</td>\n",
       "      <td>Volleyball</td>\n",
       "      <td>John Jay College</td>\n",
       "    </tr>\n",
       "    <tr>\n",
       "      <th>161</th>\n",
       "      <td>Karen Sumlang</td>\n",
       "      <td>68</td>\n",
       "      <td>W</td>\n",
       "      <td>Volleyball</td>\n",
       "      <td>John Jay College</td>\n",
       "    </tr>\n",
       "    <tr>\n",
       "      <th>162</th>\n",
       "      <td>Kimberly Rodriguez</td>\n",
       "      <td>67</td>\n",
       "      <td>W</td>\n",
       "      <td>Volleyball</td>\n",
       "      <td>John Jay College</td>\n",
       "    </tr>\n",
       "  </tbody>\n",
       "</table>\n",
       "<p>163 rows × 5 columns</p>\n",
       "</div>"
      ],
      "text/plain": [
       "                    Name  Height Sex       Sport           College\n",
       "0    Stephanie  Antonova      61   W    Swimming            Baruch\n",
       "1       Nicole Astudillo      62   W    Swimming            Baruch\n",
       "2           Andrea Gasic      69   W    Swimming            Baruch\n",
       "3           Onika George      70   W    Swimming            Baruch\n",
       "4            Karina Gotz      67   W    Swimming            Baruch\n",
       "..                   ...     ...  ..         ...               ...\n",
       "158       Freysha Rivera      66   W  Volleyball  John Jay College\n",
       "159        Autumn Reeves      74   W  Volleyball  John Jay College\n",
       "160       Sophia Wheelan      72   W  Volleyball  John Jay College\n",
       "161        Karen Sumlang      68   W  Volleyball  John Jay College\n",
       "162   Kimberly Rodriguez      67   W  Volleyball  John Jay College\n",
       "\n",
       "[163 rows x 5 columns]"
      ]
     },
     "execution_count": 108,
     "metadata": {},
     "output_type": "execute_result"
    }
   ],
   "source": [
    "data"
   ]
  },
  {
   "cell_type": "code",
   "execution_count": 153,
   "metadata": {},
   "outputs": [
    {
     "data": {
      "text/plain": [
       "61"
      ]
     },
     "execution_count": 153,
     "metadata": {},
     "output_type": "execute_result"
    }
   ],
   "source": [
    "data.loc[0,\"Height\"]"
   ]
  },
  {
   "cell_type": "code",
   "execution_count": 156,
   "metadata": {},
   "outputs": [
    {
     "data": {
      "text/plain": [
       "'Stephanie  Antonova'"
      ]
     },
     "execution_count": 156,
     "metadata": {},
     "output_type": "execute_result"
    }
   ],
   "source": [
    "data.loc[0,'Name']\n"
   ]
  },
  {
   "cell_type": "code",
   "execution_count": 149,
   "metadata": {},
   "outputs": [
    {
     "data": {
      "text/plain": [
       "RangeIndex(start=0, stop=163, step=1)"
      ]
     },
     "execution_count": 149,
     "metadata": {},
     "output_type": "execute_result"
    }
   ],
   "source": [
    "data.index"
   ]
  },
  {
   "cell_type": "code",
   "execution_count": 111,
   "metadata": {},
   "outputs": [
    {
     "data": {
      "text/plain": [
       "Baruch              71\n",
       "Brooklyn College    44\n",
       "York College        24\n",
       "Queens College      13\n",
       "John Jay College    11\n",
       "Name: College, dtype: int64"
      ]
     },
     "execution_count": 111,
     "metadata": {},
     "output_type": "execute_result"
    }
   ],
   "source": [
    "data['College'].value_counts()"
   ]
  },
  {
   "cell_type": "code",
   "execution_count": 112,
   "metadata": {},
   "outputs": [
    {
     "data": {
      "text/plain": [
       "(163, 5)"
      ]
     },
     "execution_count": 112,
     "metadata": {},
     "output_type": "execute_result"
    }
   ],
   "source": [
    "data.shape"
   ]
  },
  {
   "cell_type": "markdown",
   "metadata": {},
   "source": [
    "## - Question 1"
   ]
  },
  {
   "cell_type": "code",
   "execution_count": 113,
   "metadata": {},
   "outputs": [
    {
     "data": {
      "text/html": [
       "<div>\n",
       "<style scoped>\n",
       "    .dataframe tbody tr th:only-of-type {\n",
       "        vertical-align: middle;\n",
       "    }\n",
       "\n",
       "    .dataframe tbody tr th {\n",
       "        vertical-align: top;\n",
       "    }\n",
       "\n",
       "    .dataframe thead th {\n",
       "        text-align: right;\n",
       "    }\n",
       "</style>\n",
       "<table border=\"1\" class=\"dataframe\">\n",
       "  <thead>\n",
       "    <tr style=\"text-align: right;\">\n",
       "      <th></th>\n",
       "      <th>Name</th>\n",
       "      <th>Height</th>\n",
       "      <th>Sex</th>\n",
       "      <th>Sport</th>\n",
       "      <th>College</th>\n",
       "    </tr>\n",
       "  </thead>\n",
       "  <tbody>\n",
       "    <tr>\n",
       "      <th>17</th>\n",
       "      <td>Gregory Becker</td>\n",
       "      <td>77</td>\n",
       "      <td>M</td>\n",
       "      <td>Swimming</td>\n",
       "      <td>Baruch</td>\n",
       "    </tr>\n",
       "    <tr>\n",
       "      <th>18</th>\n",
       "      <td>Nicholas  Blanco</td>\n",
       "      <td>70</td>\n",
       "      <td>M</td>\n",
       "      <td>Swimming</td>\n",
       "      <td>Baruch</td>\n",
       "    </tr>\n",
       "    <tr>\n",
       "      <th>19</th>\n",
       "      <td>Kevin Chen</td>\n",
       "      <td>69</td>\n",
       "      <td>M</td>\n",
       "      <td>Swimming</td>\n",
       "      <td>Baruch</td>\n",
       "    </tr>\n",
       "    <tr>\n",
       "      <th>20</th>\n",
       "      <td>Gary Danilyan</td>\n",
       "      <td>74</td>\n",
       "      <td>M</td>\n",
       "      <td>Swimming</td>\n",
       "      <td>Baruch</td>\n",
       "    </tr>\n",
       "    <tr>\n",
       "      <th>21</th>\n",
       "      <td>Kasper Gacek</td>\n",
       "      <td>77</td>\n",
       "      <td>M</td>\n",
       "      <td>Swimming</td>\n",
       "      <td>Baruch</td>\n",
       "    </tr>\n",
       "  </tbody>\n",
       "</table>\n",
       "</div>"
      ],
      "text/plain": [
       "                Name  Height Sex     Sport College\n",
       "17    Gregory Becker      77   M  Swimming  Baruch\n",
       "18  Nicholas  Blanco      70   M  Swimming  Baruch\n",
       "19        Kevin Chen      69   M  Swimming  Baruch\n",
       "20     Gary Danilyan      74   M  Swimming  Baruch\n",
       "21      Kasper Gacek      77   M  Swimming  Baruch"
      ]
     },
     "execution_count": 113,
     "metadata": {},
     "output_type": "execute_result"
    }
   ],
   "source": [
    "swim_men = data[(data['Sport']=='Swimming')&(data['Sex']=='M')]\n",
    "swim_men.head()"
   ]
  },
  {
   "cell_type": "code",
   "execution_count": 114,
   "metadata": {},
   "outputs": [
    {
     "data": {
      "text/plain": [
       "Height    70.711111\n",
       "dtype: float64"
      ]
     },
     "execution_count": 114,
     "metadata": {},
     "output_type": "execute_result"
    }
   ],
   "source": [
    "swmavg = swim_men.mean()\n",
    "swmavg "
   ]
  },
  {
   "cell_type": "markdown",
   "metadata": {},
   "source": [
    "## - Question 2"
   ]
  },
  {
   "cell_type": "code",
   "execution_count": 115,
   "metadata": {},
   "outputs": [
    {
     "data": {
      "text/html": [
       "<div>\n",
       "<style scoped>\n",
       "    .dataframe tbody tr th:only-of-type {\n",
       "        vertical-align: middle;\n",
       "    }\n",
       "\n",
       "    .dataframe tbody tr th {\n",
       "        vertical-align: top;\n",
       "    }\n",
       "\n",
       "    .dataframe thead th {\n",
       "        text-align: right;\n",
       "    }\n",
       "</style>\n",
       "<table border=\"1\" class=\"dataframe\">\n",
       "  <thead>\n",
       "    <tr style=\"text-align: right;\">\n",
       "      <th></th>\n",
       "      <th>Name</th>\n",
       "      <th>Height</th>\n",
       "      <th>Sex</th>\n",
       "      <th>Sport</th>\n",
       "      <th>College</th>\n",
       "    </tr>\n",
       "  </thead>\n",
       "  <tbody>\n",
       "    <tr>\n",
       "      <th>0</th>\n",
       "      <td>Stephanie  Antonova</td>\n",
       "      <td>61</td>\n",
       "      <td>W</td>\n",
       "      <td>Swimming</td>\n",
       "      <td>Baruch</td>\n",
       "    </tr>\n",
       "    <tr>\n",
       "      <th>1</th>\n",
       "      <td>Nicole Astudillo</td>\n",
       "      <td>62</td>\n",
       "      <td>W</td>\n",
       "      <td>Swimming</td>\n",
       "      <td>Baruch</td>\n",
       "    </tr>\n",
       "    <tr>\n",
       "      <th>2</th>\n",
       "      <td>Andrea Gasic</td>\n",
       "      <td>69</td>\n",
       "      <td>W</td>\n",
       "      <td>Swimming</td>\n",
       "      <td>Baruch</td>\n",
       "    </tr>\n",
       "    <tr>\n",
       "      <th>3</th>\n",
       "      <td>Onika George</td>\n",
       "      <td>70</td>\n",
       "      <td>W</td>\n",
       "      <td>Swimming</td>\n",
       "      <td>Baruch</td>\n",
       "    </tr>\n",
       "    <tr>\n",
       "      <th>4</th>\n",
       "      <td>Karina Gotz</td>\n",
       "      <td>67</td>\n",
       "      <td>W</td>\n",
       "      <td>Swimming</td>\n",
       "      <td>Baruch</td>\n",
       "    </tr>\n",
       "  </tbody>\n",
       "</table>\n",
       "</div>"
      ],
      "text/plain": [
       "                  Name  Height Sex     Sport College\n",
       "0  Stephanie  Antonova      61   W  Swimming  Baruch\n",
       "1     Nicole Astudillo      62   W  Swimming  Baruch\n",
       "2         Andrea Gasic      69   W  Swimming  Baruch\n",
       "3         Onika George      70   W  Swimming  Baruch\n",
       "4          Karina Gotz      67   W  Swimming  Baruch"
      ]
     },
     "execution_count": 115,
     "metadata": {},
     "output_type": "execute_result"
    }
   ],
   "source": [
    "swim_women = data[(data['Sport']=='Swimming')&(data['Sex']=='W')]\n",
    "swim_women.head()"
   ]
  },
  {
   "cell_type": "code",
   "execution_count": 116,
   "metadata": {},
   "outputs": [
    {
     "data": {
      "text/plain": [
       "Height    64.85\n",
       "dtype: float64"
      ]
     },
     "execution_count": 116,
     "metadata": {},
     "output_type": "execute_result"
    }
   ],
   "source": [
    "swwavg = swim_women.mean()\n",
    "swwavg "
   ]
  },
  {
   "cell_type": "markdown",
   "metadata": {},
   "source": [
    "## - Question 3"
   ]
  },
  {
   "cell_type": "code",
   "execution_count": 117,
   "metadata": {},
   "outputs": [
    {
     "data": {
      "text/html": [
       "<div>\n",
       "<style scoped>\n",
       "    .dataframe tbody tr th:only-of-type {\n",
       "        vertical-align: middle;\n",
       "    }\n",
       "\n",
       "    .dataframe tbody tr th {\n",
       "        vertical-align: top;\n",
       "    }\n",
       "\n",
       "    .dataframe thead th {\n",
       "        text-align: right;\n",
       "    }\n",
       "</style>\n",
       "<table border=\"1\" class=\"dataframe\">\n",
       "  <thead>\n",
       "    <tr style=\"text-align: right;\">\n",
       "      <th></th>\n",
       "      <th>Name</th>\n",
       "      <th>Height</th>\n",
       "      <th>Sex</th>\n",
       "      <th>Sport</th>\n",
       "      <th>College</th>\n",
       "    </tr>\n",
       "  </thead>\n",
       "  <tbody>\n",
       "    <tr>\n",
       "      <th>63</th>\n",
       "      <td>QiQin Zeng</td>\n",
       "      <td>69</td>\n",
       "      <td>M</td>\n",
       "      <td>Volleyball</td>\n",
       "      <td>Baruch</td>\n",
       "    </tr>\n",
       "    <tr>\n",
       "      <th>64</th>\n",
       "      <td>Andrew Tsororos</td>\n",
       "      <td>76</td>\n",
       "      <td>M</td>\n",
       "      <td>Volleyball</td>\n",
       "      <td>Baruch</td>\n",
       "    </tr>\n",
       "    <tr>\n",
       "      <th>65</th>\n",
       "      <td>Steven Lopez</td>\n",
       "      <td>72</td>\n",
       "      <td>M</td>\n",
       "      <td>Volleyball</td>\n",
       "      <td>Baruch</td>\n",
       "    </tr>\n",
       "    <tr>\n",
       "      <th>66</th>\n",
       "      <td>Sonam Dorjee</td>\n",
       "      <td>70</td>\n",
       "      <td>M</td>\n",
       "      <td>Volleyball</td>\n",
       "      <td>Baruch</td>\n",
       "    </tr>\n",
       "    <tr>\n",
       "      <th>67</th>\n",
       "      <td>Edward Grinberg</td>\n",
       "      <td>74</td>\n",
       "      <td>M</td>\n",
       "      <td>Volleyball</td>\n",
       "      <td>Baruch</td>\n",
       "    </tr>\n",
       "  </tbody>\n",
       "</table>\n",
       "</div>"
      ],
      "text/plain": [
       "               Name  Height Sex       Sport College\n",
       "63       QiQin Zeng      69   M  Volleyball  Baruch\n",
       "64  Andrew Tsororos      76   M  Volleyball  Baruch\n",
       "65     Steven Lopez      72   M  Volleyball  Baruch\n",
       "66     Sonam Dorjee      70   M  Volleyball  Baruch\n",
       "67  Edward Grinberg      74   M  Volleyball  Baruch"
      ]
     },
     "execution_count": 117,
     "metadata": {},
     "output_type": "execute_result"
    }
   ],
   "source": [
    "vb_men = data[(data['Sport']=='Volleyball')&(data['Sex']=='M')]\n",
    "vb_men.head()"
   ]
  },
  {
   "cell_type": "code",
   "execution_count": 118,
   "metadata": {},
   "outputs": [
    {
     "data": {
      "text/plain": [
       "Height    72.0\n",
       "dtype: float64"
      ]
     },
     "execution_count": 118,
     "metadata": {},
     "output_type": "execute_result"
    }
   ],
   "source": [
    "vbmavg = vb_men.mean()\n",
    "vbmavg"
   ]
  },
  {
   "cell_type": "markdown",
   "metadata": {},
   "source": [
    "## - Question 4"
   ]
  },
  {
   "cell_type": "code",
   "execution_count": 119,
   "metadata": {},
   "outputs": [
    {
     "data": {
      "text/html": [
       "<div>\n",
       "<style scoped>\n",
       "    .dataframe tbody tr th:only-of-type {\n",
       "        vertical-align: middle;\n",
       "    }\n",
       "\n",
       "    .dataframe tbody tr th {\n",
       "        vertical-align: top;\n",
       "    }\n",
       "\n",
       "    .dataframe thead th {\n",
       "        text-align: right;\n",
       "    }\n",
       "</style>\n",
       "<table border=\"1\" class=\"dataframe\">\n",
       "  <thead>\n",
       "    <tr style=\"text-align: right;\">\n",
       "      <th></th>\n",
       "      <th>Name</th>\n",
       "      <th>Height</th>\n",
       "      <th>Sex</th>\n",
       "      <th>Sport</th>\n",
       "      <th>College</th>\n",
       "    </tr>\n",
       "  </thead>\n",
       "  <tbody>\n",
       "    <tr>\n",
       "      <th>80</th>\n",
       "      <td>Yijia Cai</td>\n",
       "      <td>70</td>\n",
       "      <td>W</td>\n",
       "      <td>Volleyball</td>\n",
       "      <td>Baruch</td>\n",
       "    </tr>\n",
       "    <tr>\n",
       "      <th>81</th>\n",
       "      <td>Jasmin Vidal Ventura</td>\n",
       "      <td>62</td>\n",
       "      <td>W</td>\n",
       "      <td>Volleyball</td>\n",
       "      <td>Baruch</td>\n",
       "    </tr>\n",
       "    <tr>\n",
       "      <th>82</th>\n",
       "      <td>Stella  Chung</td>\n",
       "      <td>66</td>\n",
       "      <td>W</td>\n",
       "      <td>Volleyball</td>\n",
       "      <td>Baruch</td>\n",
       "    </tr>\n",
       "    <tr>\n",
       "      <th>83</th>\n",
       "      <td>Claudia Daporta</td>\n",
       "      <td>72</td>\n",
       "      <td>W</td>\n",
       "      <td>Volleyball</td>\n",
       "      <td>Baruch</td>\n",
       "    </tr>\n",
       "    <tr>\n",
       "      <th>84</th>\n",
       "      <td>Anita Sengara</td>\n",
       "      <td>71</td>\n",
       "      <td>W</td>\n",
       "      <td>Volleyball</td>\n",
       "      <td>Baruch</td>\n",
       "    </tr>\n",
       "  </tbody>\n",
       "</table>\n",
       "</div>"
      ],
      "text/plain": [
       "                    Name  Height Sex       Sport College\n",
       "80             Yijia Cai      70   W  Volleyball  Baruch\n",
       "81  Jasmin Vidal Ventura      62   W  Volleyball  Baruch\n",
       "82        Stella  Chung       66   W  Volleyball  Baruch\n",
       "83       Claudia Daporta      72   W  Volleyball  Baruch\n",
       "84         Anita Sengara      71   W  Volleyball  Baruch"
      ]
     },
     "execution_count": 119,
     "metadata": {},
     "output_type": "execute_result"
    }
   ],
   "source": [
    "vb_women = data[(data['Sport']=='Volleyball')&(data['Sex']=='W')]\n",
    "vb_women.head()"
   ]
  },
  {
   "cell_type": "code",
   "execution_count": 120,
   "metadata": {},
   "outputs": [
    {
     "data": {
      "text/plain": [
       "Height    66.315789\n",
       "dtype: float64"
      ]
     },
     "execution_count": 120,
     "metadata": {},
     "output_type": "execute_result"
    }
   ],
   "source": [
    "vbwavg = vb_women.mean()\n",
    "vbwavg"
   ]
  },
  {
   "cell_type": "markdown",
   "metadata": {},
   "source": [
    "## - Question 5"
   ]
  },
  {
   "cell_type": "code",
   "execution_count": 121,
   "metadata": {},
   "outputs": [
    {
     "name": "stdout",
     "output_type": "stream",
     "text": [
      "The avg height of the Men Swimming team is : Height    70.711111\n",
      "dtype: float64\n",
      "The avg height of the Women Swimming team is : Height    64.85\n",
      "dtype: float64\n",
      "The avg height of the Men Volleyball team is : Height    72.0\n",
      "dtype: float64\n",
      "The avg height of the Women Volleyball team is : Height    66.315789\n",
      "dtype: float64\n"
     ]
    }
   ],
   "source": [
    "print('The avg height of the Men Swimming team is :', swim_men.mean())\n",
    "print('The avg height of the Women Swimming team is :', swim_women.mean())\n",
    "print('The avg height of the Men Volleyball team is :', vb_men.mean())\n",
    "print('The avg height of the Women Volleyball team is :', vb_women.mean())"
   ]
  },
  {
   "cell_type": "markdown",
   "metadata": {},
   "source": [
    "## - Question 6"
   ]
  },
  {
   "cell_type": "markdown",
   "metadata": {},
   "source": [
    "### Top 5 Men Swimmers"
   ]
  },
  {
   "cell_type": "code",
   "execution_count": 122,
   "metadata": {},
   "outputs": [
    {
     "data": {
      "text/html": [
       "<div>\n",
       "<style scoped>\n",
       "    .dataframe tbody tr th:only-of-type {\n",
       "        vertical-align: middle;\n",
       "    }\n",
       "\n",
       "    .dataframe tbody tr th {\n",
       "        vertical-align: top;\n",
       "    }\n",
       "\n",
       "    .dataframe thead th {\n",
       "        text-align: right;\n",
       "    }\n",
       "</style>\n",
       "<table border=\"1\" class=\"dataframe\">\n",
       "  <thead>\n",
       "    <tr style=\"text-align: right;\">\n",
       "      <th></th>\n",
       "      <th>Name</th>\n",
       "      <th>Height</th>\n",
       "      <th>Sex</th>\n",
       "      <th>Sport</th>\n",
       "      <th>College</th>\n",
       "    </tr>\n",
       "  </thead>\n",
       "  <tbody>\n",
       "    <tr>\n",
       "      <th>17</th>\n",
       "      <td>Gregory Becker</td>\n",
       "      <td>77</td>\n",
       "      <td>M</td>\n",
       "      <td>Swimming</td>\n",
       "      <td>Baruch</td>\n",
       "    </tr>\n",
       "    <tr>\n",
       "      <th>21</th>\n",
       "      <td>Kasper Gacek</td>\n",
       "      <td>77</td>\n",
       "      <td>M</td>\n",
       "      <td>Swimming</td>\n",
       "      <td>Baruch</td>\n",
       "    </tr>\n",
       "    <tr>\n",
       "      <th>113</th>\n",
       "      <td>Mark  MacEachen</td>\n",
       "      <td>76</td>\n",
       "      <td>M</td>\n",
       "      <td>Swimming</td>\n",
       "      <td>Brooklyn College</td>\n",
       "    </tr>\n",
       "    <tr>\n",
       "      <th>32</th>\n",
       "      <td>Evan Nikolic</td>\n",
       "      <td>75</td>\n",
       "      <td>M</td>\n",
       "      <td>Swimming</td>\n",
       "      <td>Baruch</td>\n",
       "    </tr>\n",
       "    <tr>\n",
       "      <th>39</th>\n",
       "      <td>Morgan  Welling</td>\n",
       "      <td>75</td>\n",
       "      <td>M</td>\n",
       "      <td>Swimming</td>\n",
       "      <td>Baruch</td>\n",
       "    </tr>\n",
       "  </tbody>\n",
       "</table>\n",
       "</div>"
      ],
      "text/plain": [
       "                Name  Height Sex     Sport           College\n",
       "17    Gregory Becker      77   M  Swimming            Baruch\n",
       "21      Kasper Gacek      77   M  Swimming            Baruch\n",
       "113  Mark  MacEachen      76   M  Swimming  Brooklyn College\n",
       "32      Evan Nikolic      75   M  Swimming            Baruch\n",
       "39   Morgan  Welling      75   M  Swimming            Baruch"
      ]
     },
     "execution_count": 122,
     "metadata": {},
     "output_type": "execute_result"
    }
   ],
   "source": [
    "swim_men.sort_values('Height',ascending=False).head(5)"
   ]
  },
  {
   "cell_type": "markdown",
   "metadata": {},
   "source": [
    "### Top 5 Men Volleyball Players"
   ]
  },
  {
   "cell_type": "code",
   "execution_count": 123,
   "metadata": {},
   "outputs": [
    {
     "data": {
      "text/html": [
       "<div>\n",
       "<style scoped>\n",
       "    .dataframe tbody tr th:only-of-type {\n",
       "        vertical-align: middle;\n",
       "    }\n",
       "\n",
       "    .dataframe tbody tr th {\n",
       "        vertical-align: top;\n",
       "    }\n",
       "\n",
       "    .dataframe thead th {\n",
       "        text-align: right;\n",
       "    }\n",
       "</style>\n",
       "<table border=\"1\" class=\"dataframe\">\n",
       "  <thead>\n",
       "    <tr style=\"text-align: right;\">\n",
       "      <th></th>\n",
       "      <th>Name</th>\n",
       "      <th>Height</th>\n",
       "      <th>Sex</th>\n",
       "      <th>Sport</th>\n",
       "      <th>College</th>\n",
       "    </tr>\n",
       "  </thead>\n",
       "  <tbody>\n",
       "    <tr>\n",
       "      <th>75</th>\n",
       "      <td>Leon Petrovitsky</td>\n",
       "      <td>77</td>\n",
       "      <td>M</td>\n",
       "      <td>Volleyball</td>\n",
       "      <td>Baruch</td>\n",
       "    </tr>\n",
       "    <tr>\n",
       "      <th>142</th>\n",
       "      <td>Akil Vaughn</td>\n",
       "      <td>77</td>\n",
       "      <td>M</td>\n",
       "      <td>Volleyball</td>\n",
       "      <td>York College</td>\n",
       "    </tr>\n",
       "    <tr>\n",
       "      <th>72</th>\n",
       "      <td>Artem Zinkin</td>\n",
       "      <td>77</td>\n",
       "      <td>M</td>\n",
       "      <td>Volleyball</td>\n",
       "      <td>Baruch</td>\n",
       "    </tr>\n",
       "    <tr>\n",
       "      <th>74</th>\n",
       "      <td>Carlos Rodriguez</td>\n",
       "      <td>76</td>\n",
       "      <td>M</td>\n",
       "      <td>Volleyball</td>\n",
       "      <td>Baruch</td>\n",
       "    </tr>\n",
       "    <tr>\n",
       "      <th>145</th>\n",
       "      <td>Mambe Koureissi</td>\n",
       "      <td>76</td>\n",
       "      <td>M</td>\n",
       "      <td>Volleyball</td>\n",
       "      <td>York College</td>\n",
       "    </tr>\n",
       "  </tbody>\n",
       "</table>\n",
       "</div>"
      ],
      "text/plain": [
       "                 Name  Height Sex       Sport       College\n",
       "75   Leon Petrovitsky      77   M  Volleyball        Baruch\n",
       "142       Akil Vaughn      77   M  Volleyball  York College\n",
       "72       Artem Zinkin      77   M  Volleyball        Baruch\n",
       "74   Carlos Rodriguez      76   M  Volleyball        Baruch\n",
       "145   Mambe Koureissi      76   M  Volleyball  York College"
      ]
     },
     "execution_count": 123,
     "metadata": {},
     "output_type": "execute_result"
    }
   ],
   "source": [
    "vb_men.sort_values('Height',ascending=False).head(5)"
   ]
  },
  {
   "cell_type": "markdown",
   "metadata": {},
   "source": [
    "### Top 5 Women Swimmers"
   ]
  },
  {
   "cell_type": "code",
   "execution_count": 124,
   "metadata": {},
   "outputs": [
    {
     "data": {
      "text/html": [
       "<div>\n",
       "<style scoped>\n",
       "    .dataframe tbody tr th:only-of-type {\n",
       "        vertical-align: middle;\n",
       "    }\n",
       "\n",
       "    .dataframe tbody tr th {\n",
       "        vertical-align: top;\n",
       "    }\n",
       "\n",
       "    .dataframe thead th {\n",
       "        text-align: right;\n",
       "    }\n",
       "</style>\n",
       "<table border=\"1\" class=\"dataframe\">\n",
       "  <thead>\n",
       "    <tr style=\"text-align: right;\">\n",
       "      <th></th>\n",
       "      <th>Name</th>\n",
       "      <th>Height</th>\n",
       "      <th>Sex</th>\n",
       "      <th>Sport</th>\n",
       "      <th>College</th>\n",
       "    </tr>\n",
       "  </thead>\n",
       "  <tbody>\n",
       "    <tr>\n",
       "      <th>44</th>\n",
       "      <td>Shenaika Eliassaint</td>\n",
       "      <td>71</td>\n",
       "      <td>W</td>\n",
       "      <td>Swimming</td>\n",
       "      <td>Brooklyn College</td>\n",
       "    </tr>\n",
       "    <tr>\n",
       "      <th>3</th>\n",
       "      <td>Onika George</td>\n",
       "      <td>70</td>\n",
       "      <td>W</td>\n",
       "      <td>Swimming</td>\n",
       "      <td>Baruch</td>\n",
       "    </tr>\n",
       "    <tr>\n",
       "      <th>2</th>\n",
       "      <td>Andrea Gasic</td>\n",
       "      <td>69</td>\n",
       "      <td>W</td>\n",
       "      <td>Swimming</td>\n",
       "      <td>Baruch</td>\n",
       "    </tr>\n",
       "    <tr>\n",
       "      <th>48</th>\n",
       "      <td>Alyssa Taylor</td>\n",
       "      <td>69</td>\n",
       "      <td>W</td>\n",
       "      <td>Swimming</td>\n",
       "      <td>Brooklyn College</td>\n",
       "    </tr>\n",
       "    <tr>\n",
       "      <th>5</th>\n",
       "      <td>Asimina Hamakiotes</td>\n",
       "      <td>69</td>\n",
       "      <td>W</td>\n",
       "      <td>Swimming</td>\n",
       "      <td>Baruch</td>\n",
       "    </tr>\n",
       "  </tbody>\n",
       "</table>\n",
       "</div>"
      ],
      "text/plain": [
       "                   Name  Height Sex     Sport           College\n",
       "44  Shenaika Eliassaint      71   W  Swimming  Brooklyn College\n",
       "3          Onika George      70   W  Swimming            Baruch\n",
       "2          Andrea Gasic      69   W  Swimming            Baruch\n",
       "48        Alyssa Taylor      69   W  Swimming  Brooklyn College\n",
       "5    Asimina Hamakiotes      69   W  Swimming            Baruch"
      ]
     },
     "execution_count": 124,
     "metadata": {},
     "output_type": "execute_result"
    }
   ],
   "source": [
    "swim_women.sort_values('Height',ascending=False).head(5)"
   ]
  },
  {
   "cell_type": "markdown",
   "metadata": {},
   "source": [
    "### Top 5 Women Volleyball Players"
   ]
  },
  {
   "cell_type": "code",
   "execution_count": 125,
   "metadata": {},
   "outputs": [
    {
     "data": {
      "text/html": [
       "<div>\n",
       "<style scoped>\n",
       "    .dataframe tbody tr th:only-of-type {\n",
       "        vertical-align: middle;\n",
       "    }\n",
       "\n",
       "    .dataframe tbody tr th {\n",
       "        vertical-align: top;\n",
       "    }\n",
       "\n",
       "    .dataframe thead th {\n",
       "        text-align: right;\n",
       "    }\n",
       "</style>\n",
       "<table border=\"1\" class=\"dataframe\">\n",
       "  <thead>\n",
       "    <tr style=\"text-align: right;\">\n",
       "      <th></th>\n",
       "      <th>Name</th>\n",
       "      <th>Height</th>\n",
       "      <th>Sex</th>\n",
       "      <th>Sport</th>\n",
       "      <th>College</th>\n",
       "    </tr>\n",
       "  </thead>\n",
       "  <tbody>\n",
       "    <tr>\n",
       "      <th>159</th>\n",
       "      <td>Autumn Reeves</td>\n",
       "      <td>74</td>\n",
       "      <td>W</td>\n",
       "      <td>Volleyball</td>\n",
       "      <td>John Jay College</td>\n",
       "    </tr>\n",
       "    <tr>\n",
       "      <th>160</th>\n",
       "      <td>Sophia Wheelan</td>\n",
       "      <td>72</td>\n",
       "      <td>W</td>\n",
       "      <td>Volleyball</td>\n",
       "      <td>John Jay College</td>\n",
       "    </tr>\n",
       "    <tr>\n",
       "      <th>83</th>\n",
       "      <td>Claudia Daporta</td>\n",
       "      <td>72</td>\n",
       "      <td>W</td>\n",
       "      <td>Volleyball</td>\n",
       "      <td>Baruch</td>\n",
       "    </tr>\n",
       "    <tr>\n",
       "      <th>156</th>\n",
       "      <td>Mirialis Almanzar</td>\n",
       "      <td>72</td>\n",
       "      <td>W</td>\n",
       "      <td>Volleyball</td>\n",
       "      <td>John Jay College</td>\n",
       "    </tr>\n",
       "    <tr>\n",
       "      <th>121</th>\n",
       "      <td>Madison Cronk</td>\n",
       "      <td>71</td>\n",
       "      <td>W</td>\n",
       "      <td>Volleyball</td>\n",
       "      <td>Brooklyn College</td>\n",
       "    </tr>\n",
       "  </tbody>\n",
       "</table>\n",
       "</div>"
      ],
      "text/plain": [
       "                  Name  Height Sex       Sport           College\n",
       "159      Autumn Reeves      74   W  Volleyball  John Jay College\n",
       "160     Sophia Wheelan      72   W  Volleyball  John Jay College\n",
       "83     Claudia Daporta      72   W  Volleyball            Baruch\n",
       "156  Mirialis Almanzar      72   W  Volleyball  John Jay College\n",
       "121      Madison Cronk      71   W  Volleyball  Brooklyn College"
      ]
     },
     "execution_count": 125,
     "metadata": {},
     "output_type": "execute_result"
    }
   ],
   "source": [
    "vb_women.sort_values('Height',ascending=False).head(5)"
   ]
  },
  {
   "cell_type": "markdown",
   "metadata": {},
   "source": [
    "### Bottom 5 Men Swimmers"
   ]
  },
  {
   "cell_type": "code",
   "execution_count": 126,
   "metadata": {},
   "outputs": [
    {
     "data": {
      "text/html": [
       "<div>\n",
       "<style scoped>\n",
       "    .dataframe tbody tr th:only-of-type {\n",
       "        vertical-align: middle;\n",
       "    }\n",
       "\n",
       "    .dataframe tbody tr th {\n",
       "        vertical-align: top;\n",
       "    }\n",
       "\n",
       "    .dataframe thead th {\n",
       "        text-align: right;\n",
       "    }\n",
       "</style>\n",
       "<table border=\"1\" class=\"dataframe\">\n",
       "  <thead>\n",
       "    <tr style=\"text-align: right;\">\n",
       "      <th></th>\n",
       "      <th>Name</th>\n",
       "      <th>Height</th>\n",
       "      <th>Sex</th>\n",
       "      <th>Sport</th>\n",
       "      <th>College</th>\n",
       "    </tr>\n",
       "  </thead>\n",
       "  <tbody>\n",
       "    <tr>\n",
       "      <th>35</th>\n",
       "      <td>Ben Sionov</td>\n",
       "      <td>65</td>\n",
       "      <td>M</td>\n",
       "      <td>Swimming</td>\n",
       "      <td>Baruch</td>\n",
       "    </tr>\n",
       "    <tr>\n",
       "      <th>99</th>\n",
       "      <td>Christopher Mendez</td>\n",
       "      <td>67</td>\n",
       "      <td>M</td>\n",
       "      <td>Swimming</td>\n",
       "      <td>York College</td>\n",
       "    </tr>\n",
       "    <tr>\n",
       "      <th>38</th>\n",
       "      <td>Joseph Vasile</td>\n",
       "      <td>67</td>\n",
       "      <td>M</td>\n",
       "      <td>Swimming</td>\n",
       "      <td>Baruch</td>\n",
       "    </tr>\n",
       "    <tr>\n",
       "      <th>27</th>\n",
       "      <td>Fernando Marroquin</td>\n",
       "      <td>67</td>\n",
       "      <td>M</td>\n",
       "      <td>Swimming</td>\n",
       "      <td>Baruch</td>\n",
       "    </tr>\n",
       "    <tr>\n",
       "      <th>97</th>\n",
       "      <td>Anthony Jordan</td>\n",
       "      <td>67</td>\n",
       "      <td>M</td>\n",
       "      <td>Swimming</td>\n",
       "      <td>York College</td>\n",
       "    </tr>\n",
       "  </tbody>\n",
       "</table>\n",
       "</div>"
      ],
      "text/plain": [
       "                  Name  Height Sex     Sport       College\n",
       "35          Ben Sionov      65   M  Swimming        Baruch\n",
       "99  Christopher Mendez      67   M  Swimming  York College\n",
       "38       Joseph Vasile      67   M  Swimming        Baruch\n",
       "27  Fernando Marroquin      67   M  Swimming        Baruch\n",
       "97      Anthony Jordan      67   M  Swimming  York College"
      ]
     },
     "execution_count": 126,
     "metadata": {},
     "output_type": "execute_result"
    }
   ],
   "source": [
    "swim_men.sort_values('Height',ascending=True).head(5)"
   ]
  },
  {
   "cell_type": "markdown",
   "metadata": {},
   "source": [
    "### Bottom 5 Men Volleyball Players"
   ]
  },
  {
   "cell_type": "code",
   "execution_count": 127,
   "metadata": {},
   "outputs": [
    {
     "data": {
      "text/html": [
       "<div>\n",
       "<style scoped>\n",
       "    .dataframe tbody tr th:only-of-type {\n",
       "        vertical-align: middle;\n",
       "    }\n",
       "\n",
       "    .dataframe tbody tr th {\n",
       "        vertical-align: top;\n",
       "    }\n",
       "\n",
       "    .dataframe thead th {\n",
       "        text-align: right;\n",
       "    }\n",
       "</style>\n",
       "<table border=\"1\" class=\"dataframe\">\n",
       "  <thead>\n",
       "    <tr style=\"text-align: right;\">\n",
       "      <th></th>\n",
       "      <th>Name</th>\n",
       "      <th>Height</th>\n",
       "      <th>Sex</th>\n",
       "      <th>Sport</th>\n",
       "      <th>College</th>\n",
       "    </tr>\n",
       "  </thead>\n",
       "  <tbody>\n",
       "    <tr>\n",
       "      <th>144</th>\n",
       "      <td>Jayden Deokinanan</td>\n",
       "      <td>64</td>\n",
       "      <td>M</td>\n",
       "      <td>Volleyball</td>\n",
       "      <td>York College</td>\n",
       "    </tr>\n",
       "    <tr>\n",
       "      <th>129</th>\n",
       "      <td>Snigdho Hasan</td>\n",
       "      <td>65</td>\n",
       "      <td>M</td>\n",
       "      <td>Volleyball</td>\n",
       "      <td>Brooklyn College</td>\n",
       "    </tr>\n",
       "    <tr>\n",
       "      <th>139</th>\n",
       "      <td>Juan Rodriguez</td>\n",
       "      <td>66</td>\n",
       "      <td>M</td>\n",
       "      <td>Volleyball</td>\n",
       "      <td>York College</td>\n",
       "    </tr>\n",
       "    <tr>\n",
       "      <th>138</th>\n",
       "      <td>John Vitor</td>\n",
       "      <td>66</td>\n",
       "      <td>M</td>\n",
       "      <td>Volleyball</td>\n",
       "      <td>York College</td>\n",
       "    </tr>\n",
       "    <tr>\n",
       "      <th>140</th>\n",
       "      <td>Shawn Nemoto</td>\n",
       "      <td>67</td>\n",
       "      <td>M</td>\n",
       "      <td>Volleyball</td>\n",
       "      <td>York College</td>\n",
       "    </tr>\n",
       "  </tbody>\n",
       "</table>\n",
       "</div>"
      ],
      "text/plain": [
       "                  Name  Height Sex       Sport           College\n",
       "144  Jayden Deokinanan      64   M  Volleyball      York College\n",
       "129      Snigdho Hasan      65   M  Volleyball  Brooklyn College\n",
       "139     Juan Rodriguez      66   M  Volleyball      York College\n",
       "138         John Vitor      66   M  Volleyball      York College\n",
       "140       Shawn Nemoto      67   M  Volleyball      York College"
      ]
     },
     "execution_count": 127,
     "metadata": {},
     "output_type": "execute_result"
    }
   ],
   "source": [
    "vb_men.sort_values('Height',ascending=True).head(5)"
   ]
  },
  {
   "cell_type": "markdown",
   "metadata": {},
   "source": [
    "### Bottom 5 Women Swimmers"
   ]
  },
  {
   "cell_type": "code",
   "execution_count": 128,
   "metadata": {},
   "outputs": [
    {
     "data": {
      "text/html": [
       "<div>\n",
       "<style scoped>\n",
       "    .dataframe tbody tr th:only-of-type {\n",
       "        vertical-align: middle;\n",
       "    }\n",
       "\n",
       "    .dataframe tbody tr th {\n",
       "        vertical-align: top;\n",
       "    }\n",
       "\n",
       "    .dataframe thead th {\n",
       "        text-align: right;\n",
       "    }\n",
       "</style>\n",
       "<table border=\"1\" class=\"dataframe\">\n",
       "  <thead>\n",
       "    <tr style=\"text-align: right;\">\n",
       "      <th></th>\n",
       "      <th>Name</th>\n",
       "      <th>Height</th>\n",
       "      <th>Sex</th>\n",
       "      <th>Sport</th>\n",
       "      <th>College</th>\n",
       "    </tr>\n",
       "  </thead>\n",
       "  <tbody>\n",
       "    <tr>\n",
       "      <th>7</th>\n",
       "      <td>Amanda Lee</td>\n",
       "      <td>60</td>\n",
       "      <td>W</td>\n",
       "      <td>Swimming</td>\n",
       "      <td>Baruch</td>\n",
       "    </tr>\n",
       "    <tr>\n",
       "      <th>0</th>\n",
       "      <td>Stephanie  Antonova</td>\n",
       "      <td>61</td>\n",
       "      <td>W</td>\n",
       "      <td>Swimming</td>\n",
       "      <td>Baruch</td>\n",
       "    </tr>\n",
       "    <tr>\n",
       "      <th>51</th>\n",
       "      <td>Marin Azhar</td>\n",
       "      <td>61</td>\n",
       "      <td>W</td>\n",
       "      <td>Swimming</td>\n",
       "      <td>Queens College</td>\n",
       "    </tr>\n",
       "    <tr>\n",
       "      <th>6</th>\n",
       "      <td>Mirtho-Myra Lamonier</td>\n",
       "      <td>61</td>\n",
       "      <td>W</td>\n",
       "      <td>Swimming</td>\n",
       "      <td>Baruch</td>\n",
       "    </tr>\n",
       "    <tr>\n",
       "      <th>45</th>\n",
       "      <td>Julie  Huang</td>\n",
       "      <td>61</td>\n",
       "      <td>W</td>\n",
       "      <td>Swimming</td>\n",
       "      <td>Brooklyn College</td>\n",
       "    </tr>\n",
       "  </tbody>\n",
       "</table>\n",
       "</div>"
      ],
      "text/plain": [
       "                    Name  Height Sex     Sport           College\n",
       "7             Amanda Lee      60   W  Swimming            Baruch\n",
       "0    Stephanie  Antonova      61   W  Swimming            Baruch\n",
       "51           Marin Azhar      61   W  Swimming    Queens College\n",
       "6   Mirtho-Myra Lamonier      61   W  Swimming            Baruch\n",
       "45          Julie  Huang      61   W  Swimming  Brooklyn College"
      ]
     },
     "execution_count": 128,
     "metadata": {},
     "output_type": "execute_result"
    }
   ],
   "source": [
    "swim_women.sort_values('Height',ascending=True).head(5)"
   ]
  },
  {
   "cell_type": "markdown",
   "metadata": {},
   "source": [
    "### Bottom 5 Women Volleyball Players"
   ]
  },
  {
   "cell_type": "code",
   "execution_count": 129,
   "metadata": {},
   "outputs": [
    {
     "data": {
      "text/html": [
       "<div>\n",
       "<style scoped>\n",
       "    .dataframe tbody tr th:only-of-type {\n",
       "        vertical-align: middle;\n",
       "    }\n",
       "\n",
       "    .dataframe tbody tr th {\n",
       "        vertical-align: top;\n",
       "    }\n",
       "\n",
       "    .dataframe thead th {\n",
       "        text-align: right;\n",
       "    }\n",
       "</style>\n",
       "<table border=\"1\" class=\"dataframe\">\n",
       "  <thead>\n",
       "    <tr style=\"text-align: right;\">\n",
       "      <th></th>\n",
       "      <th>Name</th>\n",
       "      <th>Height</th>\n",
       "      <th>Sex</th>\n",
       "      <th>Sport</th>\n",
       "      <th>College</th>\n",
       "    </tr>\n",
       "  </thead>\n",
       "  <tbody>\n",
       "    <tr>\n",
       "      <th>85</th>\n",
       "      <td>Young Gi Go</td>\n",
       "      <td>60</td>\n",
       "      <td>W</td>\n",
       "      <td>Volleyball</td>\n",
       "      <td>Baruch</td>\n",
       "    </tr>\n",
       "    <tr>\n",
       "      <th>125</th>\n",
       "      <td>Savanna Koutsakis-Keener</td>\n",
       "      <td>61</td>\n",
       "      <td>W</td>\n",
       "      <td>Volleyball</td>\n",
       "      <td>Brooklyn College</td>\n",
       "    </tr>\n",
       "    <tr>\n",
       "      <th>91</th>\n",
       "      <td>Cady Xia</td>\n",
       "      <td>61</td>\n",
       "      <td>W</td>\n",
       "      <td>Volleyball</td>\n",
       "      <td>Baruch</td>\n",
       "    </tr>\n",
       "    <tr>\n",
       "      <th>81</th>\n",
       "      <td>Jasmin Vidal Ventura</td>\n",
       "      <td>62</td>\n",
       "      <td>W</td>\n",
       "      <td>Volleyball</td>\n",
       "      <td>Baruch</td>\n",
       "    </tr>\n",
       "    <tr>\n",
       "      <th>152</th>\n",
       "      <td>Stephany Chhay</td>\n",
       "      <td>62</td>\n",
       "      <td>W</td>\n",
       "      <td>Volleyball</td>\n",
       "      <td>John Jay College</td>\n",
       "    </tr>\n",
       "  </tbody>\n",
       "</table>\n",
       "</div>"
      ],
      "text/plain": [
       "                         Name  Height Sex       Sport           College\n",
       "85                Young Gi Go      60   W  Volleyball            Baruch\n",
       "125  Savanna Koutsakis-Keener      61   W  Volleyball  Brooklyn College\n",
       "91                   Cady Xia      61   W  Volleyball            Baruch\n",
       "81       Jasmin Vidal Ventura      62   W  Volleyball            Baruch\n",
       "152            Stephany Chhay      62   W  Volleyball  John Jay College"
      ]
     },
     "execution_count": 129,
     "metadata": {},
     "output_type": "execute_result"
    }
   ],
   "source": [
    "vb_women.sort_values('Height',ascending=True).head(5)"
   ]
  },
  {
   "cell_type": "markdown",
   "metadata": {},
   "source": [
    "## - Question 7"
   ]
  },
  {
   "cell_type": "markdown",
   "metadata": {},
   "source": [
    "### Total average of swimmers"
   ]
  },
  {
   "cell_type": "code",
   "execution_count": 130,
   "metadata": {},
   "outputs": [
    {
     "data": {
      "text/plain": [
       "Height    67.952941\n",
       "dtype: float64"
      ]
     },
     "execution_count": 130,
     "metadata": {},
     "output_type": "execute_result"
    }
   ],
   "source": [
    "data[(data['Sport']=='Swimming')].mean()"
   ]
  },
  {
   "cell_type": "markdown",
   "metadata": {},
   "source": [
    "### Total average of volleyball players"
   ]
  },
  {
   "cell_type": "code",
   "execution_count": 131,
   "metadata": {},
   "outputs": [
    {
     "data": {
      "text/plain": [
       "Height    69.230769\n",
       "dtype: float64"
      ]
     },
     "execution_count": 131,
     "metadata": {},
     "output_type": "execute_result"
    }
   ],
   "source": [
    "data[(data['Sport']=='Volleyball')].mean()"
   ]
  },
  {
   "cell_type": "code",
   "execution_count": null,
   "metadata": {},
   "outputs": [],
   "source": []
  },
  {
   "cell_type": "code",
   "execution_count": null,
   "metadata": {},
   "outputs": [],
   "source": []
  }
 ],
 "metadata": {
  "kernelspec": {
   "display_name": "Python 3",
   "language": "python",
   "name": "python3"
  },
  "language_info": {
   "codemirror_mode": {
    "name": "ipython",
    "version": 3
   },
   "file_extension": ".py",
   "mimetype": "text/x-python",
   "name": "python",
   "nbconvert_exporter": "python",
   "pygments_lexer": "ipython3",
   "version": "3.8.5"
  }
 },
 "nbformat": 4,
 "nbformat_minor": 4
}
